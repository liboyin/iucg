{
 "cells": [
  {
   "cell_type": "code",
   "execution_count": 1,
   "metadata": {
    "collapsed": true
   },
   "outputs": [],
   "source": [
    "# Python 2\n",
    "import numpy as np\n",
    "import pandas as pd\n",
    "from __future__ import print_function\n",
    "np.set_printoptions(threshold=np.nan, linewidth=np.nan)\n",
    "%matplotlib inline"
   ]
  },
  {
   "cell_type": "code",
   "execution_count": 2,
   "metadata": {
    "collapsed": false
   },
   "outputs": [],
   "source": [
    "import xmltodict\n",
    "from collections import Counter\n",
    "from os import listdir\n",
    "from os.path import join\n",
    "def parse_annotations():\n",
    "    \"\"\"\n",
    "    Parses annotation xml files of PASCAL VOC 2012.\n",
    "    Note that a few annotations contains non-integer bounding box and requires manual fix.\n",
    "    Returns:\n",
    "        df: Pandas dataframe of image name, label, and bounding box size ratio, of images with only one annotated object\n",
    "        obj_count: collections.Counter instance for number of annotated objects in all images\n",
    "    \"\"\"\n",
    "    annot_dir = '../pascal12/Annotations'\n",
    "    single = list()  # use images with single annotated object to focus on classification\n",
    "    obj_counter = np.zeros(100, dtype=np.uint32)  # #_of_annotated_obj\n",
    "    filenames = listdir(annot_dir)\n",
    "    file_count = len(filenames)\n",
    "    for i in range(0, file_count):\n",
    "        with open(join(annot_dir, filenames[i]), mode='r') as h:\n",
    "            a = xmltodict.parse(h.read())['annotation']\n",
    "            if isinstance(a['object'], list):  # contains more than one annotated object\n",
    "                obj_counter[len(a['object'])] += 1\n",
    "            else:\n",
    "                obj_counter[1] += 1\n",
    "                b = a['object']['bndbox']\n",
    "                try:\n",
    "                    obj_size = (int(b['xmax']) - int(b['xmin'])) * (int(b['ymax']) - int(b['ymin']))\n",
    "                    img_size = int(a['size']['width']) * int(a['size']['height'])\n",
    "                except:\n",
    "                    raise Exception('Error parsing {}'.format(filenames[i]))\n",
    "                obj_size_ratio = float(obj_size) / img_size\n",
    "                single.append((a['filename'], a['object']['name'], obj_size_ratio))\n",
    "            progress = int(float(i) / file_count * 1000) / 10.0\n",
    "            print('{}: {}%'.format(filenames[i], progress), end='\\r')\n",
    "    df = pd.DataFrame(single, columns=['img', 'label', 'size_ratio'])\n",
    "    df['label'] = df['label'].astype('category')\n",
    "    counter_index = np.nonzero(obj_counter)[0]\n",
    "    obj_count = dict(zip(counter_index, obj_counter[counter_index]))\n",
    "    return df, obj_count"
   ]
  },
  {
   "cell_type": "code",
   "execution_count": 3,
   "metadata": {
    "collapsed": false
   },
   "outputs": [],
   "source": [
    "import pickle\n",
    "from os.path import isfile\n",
    "def lazy_parse_annotations():\n",
    "    cache = 'annotations.pickle'\n",
    "    if isfile(cache):\n",
    "        with open(cache, mode='rb') as h:\n",
    "            return pickle.load(h)\n",
    "    else:\n",
    "        df, obj_count = parse_annotations()\n",
    "        with open(cache, mode='wb') as h:\n",
    "            pickle.dump((df, obj_count), h)\n",
    "        return df, obj_count"
   ]
  },
  {
   "cell_type": "code",
   "execution_count": 4,
   "metadata": {
    "collapsed": false
   },
   "outputs": [],
   "source": [
    "df, obj_count = lazy_parse_annotations()"
   ]
  },
  {
   "cell_type": "code",
   "execution_count": 5,
   "metadata": {
    "collapsed": false,
    "scrolled": true
   },
   "outputs": [
    {
     "data": {
      "text/plain": [
       "<matplotlib.axes._subplots.AxesSubplot at 0x7fb276061990>"
      ]
     },
     "execution_count": 5,
     "metadata": {},
     "output_type": "execute_result"
    },
    {
     "data": {
      "image/png": "[encoded data removed]",
      "text/plain": [
       "<matplotlib.figure.Figure at 0x7fb276061550>"
      ]
     },
     "metadata": {},
     "output_type": "display_data"
    }
   ],
   "source": [
    "pd.Series(obj_count).plot(kind='bar', color='green', alpha=0.75, grid=True)#.get_figure().savefig('1.pdf')"
   ]
  },
  {
   "cell_type": "code",
   "execution_count": 6,
   "metadata": {
    "collapsed": false
   },
   "outputs": [],
   "source": [
    "# subsample 850 images from all \"person\" images due to unbalanced dataset\n",
    "import random\n",
    "df_person = df[df['label'] == 'person']\n",
    "df_no_person = df.drop(df_person.index)\n",
    "person_sample = df.ix[random.sample(list(df_person.index), 850)]\n",
    "df = pd.concat([df_no_person, person_sample], ignore_index=True)"
   ]
  },
  {
   "cell_type": "code",
   "execution_count": 7,
   "metadata": {
    "collapsed": false,
    "scrolled": true
   },
   "outputs": [
    {
     "data": {
      "text/plain": [
       "<matplotlib.axes._subplots.AxesSubplot at 0x7fb275eb2310>"
      ]
     },
     "execution_count": 7,
     "metadata": {},
     "output_type": "execute_result"
    },
    {
     "data": {
      "image/png": "[encoded data removed]",
      "text/plain": [
       "<matplotlib.figure.Figure at 0x7fb275efecd0>"
      ]
     },
     "metadata": {},
     "output_type": "display_data"
    }
   ],
   "source": [
    "df['label'].value_counts().plot(kind='bar', color='green', alpha=0.75, grid=True)#.get_figure().savefig('2.pdf')"
   ]
  },
  {
   "cell_type": "code",
   "execution_count": 8,
   "metadata": {
    "collapsed": false
   },
   "outputs": [],
   "source": [
    "# split the dataset into 3:1 train/test subset\n",
    "n = len(df)\n",
    "split = ['test']*int(n/4) + ['train']*(n-int(n/4))\n",
    "random.shuffle(split)\n",
    "df['split'] = split\n",
    "df['split'] = df['split'].astype('category')"
   ]
  },
  {
   "cell_type": "code",
   "execution_count": 9,
   "metadata": {
    "collapsed": false
   },
   "outputs": [
    {
     "data": {
      "text/plain": [
       "['H_t', 'H', 'HEX_sparse', 'HEX_dense', 'id_name', 'state_space', 'name_id']"
      ]
     },
     "execution_count": 9,
     "metadata": {},
     "output_type": "execute_result"
    }
   ],
   "source": [
    "with open('hex.pickle', mode='rb') as h:\n",
    "    hex_data = pickle.load(h)\n",
    "hex_data.keys()"
   ]
  },
  {
   "cell_type": "code",
   "execution_count": 10,
   "metadata": {
    "collapsed": false,
    "scrolled": false
   },
   "outputs": [],
   "source": [
    "def build_pseudo_labels(hex_data):\n",
    "    \"\"\"\n",
    "    Finds all legal ancestor states of leaf node states in the HEX graph.\n",
    "    Returns:\n",
    "        id_pseudo_labels: list<id, list<tuple<id>>>\n",
    "    \"\"\"\n",
    "    state_space = hex_data['state_space']\n",
    "    n = len(hex_data['id_name'])  # number of concepts\n",
    "    H_ts = hex_data['H_t'] + np.eye(n, dtype=np.bool)\n",
    "    id_pseudo_labels = list()\n",
    "    for i in range(0, n):\n",
    "        active_ances = list()\n",
    "        ances_id = np.nonzero(H_ts[:, i])[0]\n",
    "        for s in set(map(tuple, state_space[:, ances_id])):\n",
    "            aas = filter(lambda x: x[1], zip(ances_id, s))  # aas for active ancestor state\n",
    "            if aas:  # ancestors may be all false\n",
    "                active_ances.append(zip(*aas)[0])\n",
    "        id_pseudo_labels.append(active_ances)\n",
    "    return id_pseudo_labels"
   ]
  },
  {
   "cell_type": "code",
   "execution_count": 11,
   "metadata": {
    "collapsed": false
   },
   "outputs": [],
   "source": [
    "name_id = hex_data['name_id']\n",
    "id_pseudo_labels = build_pseudo_labels(hex_data)\n",
    "df['pseudo_label'] = [random.sample(id_pseudo_labels[name_id[x]], 1)[0] for x in df['label']]"
   ]
  },
  {
   "cell_type": "code",
   "execution_count": 12,
   "metadata": {
    "collapsed": true
   },
   "outputs": [],
   "source": [
    "with open('df.pickle', mode='wb') as h:\n",
    "    pickle.dump(df, h)"
   ]
  },
  {
   "cell_type": "code",
   "execution_count": 13,
   "metadata": {
    "collapsed": false
   },
   "outputs": [
    {
     "data": {
      "text/html": [
       "<div>\n",
       "<table border=\"1\" class=\"dataframe\">\n",
       "  <thead>\n",
       "    <tr style=\"text-align: right;\">\n",
       "      <th></th>\n",
       "      <th>img</th>\n",
       "      <th>label</th>\n",
       "      <th>size_ratio</th>\n",
       "      <th>split</th>\n",
       "      <th>pseudo_label</th>\n",
       "    </tr>\n",
       "  </thead>\n",
       "  <tbody>\n",
       "    <tr>\n",
       "      <th>0</th>\n",
       "      <td>2009_001061.jpg</td>\n",
       "      <td>motorbike</td>\n",
       "      <td>0.995339</td>\n",
       "      <td>train</td>\n",
       "      <td>(13,)</td>\n",
       "    </tr>\n",
       "    <tr>\n",
       "      <th>1</th>\n",
       "      <td>2011_002107.jpg</td>\n",
       "      <td>motorbike</td>\n",
       "      <td>0.947467</td>\n",
       "      <td>train</td>\n",
       "      <td>(0, 13)</td>\n",
       "    </tr>\n",
       "    <tr>\n",
       "      <th>2</th>\n",
       "      <td>2008_005436.jpg</td>\n",
       "      <td>dog</td>\n",
       "      <td>0.606795</td>\n",
       "      <td>test</td>\n",
       "      <td>(3,)</td>\n",
       "    </tr>\n",
       "    <tr>\n",
       "      <th>3</th>\n",
       "      <td>2009_002712.jpg</td>\n",
       "      <td>train</td>\n",
       "      <td>0.468864</td>\n",
       "      <td>test</td>\n",
       "      <td>(16,)</td>\n",
       "    </tr>\n",
       "    <tr>\n",
       "      <th>4</th>\n",
       "      <td>2008_004771.jpg</td>\n",
       "      <td>aeroplane</td>\n",
       "      <td>0.141604</td>\n",
       "      <td>train</td>\n",
       "      <td>(13, 16)</td>\n",
       "    </tr>\n",
       "  </tbody>\n",
       "</table>\n",
       "</div>"
      ],
      "text/plain": [
       "               img      label  size_ratio  split pseudo_label\n",
       "0  2009_001061.jpg  motorbike    0.995339  train        (13,)\n",
       "1  2011_002107.jpg  motorbike    0.947467  train      (0, 13)\n",
       "2  2008_005436.jpg        dog    0.606795   test         (3,)\n",
       "3  2009_002712.jpg      train    0.468864   test        (16,)\n",
       "4  2008_004771.jpg  aeroplane    0.141604  train     (13, 16)"
      ]
     },
     "execution_count": 13,
     "metadata": {},
     "output_type": "execute_result"
    }
   ],
   "source": [
    "df.head()"
   ]
  }
 ],
 "metadata": {
  "kernelspec": {
   "display_name": "Python 2",
   "language": "python",
   "name": "python2"
  },
  "language_info": {
   "codemirror_mode": {
    "name": "ipython",
    "version": 2
   },
   "file_extension": ".py",
   "mimetype": "text/x-python",
   "name": "python",
   "nbconvert_exporter": "python",
   "pygments_lexer": "ipython2",
   "version": "2.7.6"
  }
 },
 "nbformat": 4,
 "nbformat_minor": 0
}
