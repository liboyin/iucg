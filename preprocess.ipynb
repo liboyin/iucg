{
 "cells": [
  {
   "cell_type": "code",
   "execution_count": null,
   "metadata": {
    "collapsed": true
   },
   "outputs": [],
   "source": [
    "# TODO:\n",
    "# change to Python 2\n",
    "# re-label to hierarchy"
   ]
  },
  {
   "cell_type": "code",
   "execution_count": 1,
   "metadata": {
    "collapsed": false
   },
   "outputs": [
    {
     "name": "stderr",
     "output_type": "stream",
     "text": [
      "/usr/local/lib/python3.4/dist-packages/matplotlib/backends/backend_gtk3agg.py:18: UserWarning: The Gtk3Agg backend is known to not work on Python 3.x with pycairo. Try installing cairocffi.\n",
      "  \"The Gtk3Agg backend is known to not work on Python 3.x with pycairo. \"\n"
     ]
    }
   ],
   "source": [
    "# Python 3\n",
    "import matplotlib.pyplot as plt\n",
    "import numpy as np\n",
    "import pandas as pd\n",
    "import pickle\n",
    "import random\n",
    "import xmltodict\n",
    "from os import listdir, mkdir, remove\n",
    "from os.path import isdir, isfile, join\n",
    "from shutil import copy, rmtree\n",
    "%matplotlib inline"
   ]
  },
  {
   "cell_type": "code",
   "execution_count": 2,
   "metadata": {
    "collapsed": false
   },
   "outputs": [
    {
     "name": "stdout",
     "output_type": "stream",
     "text": []
    }
   ],
   "source": [
    "annot_dir = 'Annotations'\n",
    "img_dir = 'JPEGImages'\n",
    "single, overall = list(), list()\n",
    "annot_files = listdir(annot_dir)\n",
    "files_count = len(annot_files)\n",
    "for i in range(0, files_count):\n",
    "    with open(join(annot_dir, annot_files[i]), mode='r') as h:\n",
    "        annot = xmltodict.parse(h.read())['annotation']\n",
    "        if isinstance(annot['object'], list):\n",
    "            img_name = annot['filename']\n",
    "            obj_count = len(annot['object'])\n",
    "            overall.append(np.array([img_name, obj_count]))\n",
    "        else:  # contains one annotated object\n",
    "            img_name = annot['filename']\n",
    "            obj_class_name = annot['object']['name']\n",
    "            box = annot['object']['bndbox']\n",
    "            try:\n",
    "                obj_size = (int(box['xmax']) - int(box['xmin'])) * (int(box['ymax']) - int(box['ymin']))\n",
    "                img_size = int(annot['size']['width']) * int(annot['size']['height'])\n",
    "            except:  # a few images contains non-integer bounding box and requires manual fix\n",
    "                print(annot_files[i])\n",
    "            obj_size_ratio = obj_size / img_size\n",
    "            single.append(np.array([img_name, obj_class_name, obj_size_ratio]))\n",
    "            overall.append(np.array([img_name, 1]))\n",
    "        progress = int(float(i) / float(files_count) * 1000) / 10\n",
    "        print('{}: {}%'.format(img_name, progress), end='\\r')"
   ]
  },
  {
   "cell_type": "code",
   "execution_count": 3,
   "metadata": {
    "collapsed": false
   },
   "outputs": [
    {
     "name": "stdout",
     "output_type": "stream",
     "text": [
      "img_name       object\n",
      "obj_count    category\n",
      "dtype: object\n",
      "          img_name obj_count\n",
      "0  2009_001061.jpg         1\n",
      "1  2012_002654.jpg         2\n",
      "2  2008_006600.jpg         8\n",
      "3  2010_002200.jpg         7\n",
      "4  2011_002107.jpg         1\n"
     ]
    }
   ],
   "source": [
    "col_names = ['img_name', 'obj_count']\n",
    "overall_df = pd.DataFrame(overall, columns=col_names)\n",
    "overall_df['obj_count'] = overall_df['obj_count'].astype('category')\n",
    "print(overall_df.dtypes)\n",
    "print(overall_df.head())"
   ]
  },
  {
   "cell_type": "code",
   "execution_count": 4,
   "metadata": {
    "collapsed": false,
    "scrolled": false
   },
   "outputs": [
    {
     "data": {
      "text/plain": [
       "<matplotlib.axes._subplots.AxesSubplot at 0x7feee8288550>"
      ]
     },
     "execution_count": 4,
     "metadata": {},
     "output_type": "execute_result"
    },
    {
     "data": {
      "image/png": "[encoded data removed]",
      "text/plain": [
       "<matplotlib.figure.Figure at 0x7feed941e8d0>"
      ]
     },
     "metadata": {},
     "output_type": "display_data"
    }
   ],
   "source": [
    "overall_df['obj_count'].value_counts().plot(kind='bar', color='green', alpha=0.75)#.get_figure().savefig('1.pdf')"
   ]
  },
  {
   "cell_type": "code",
   "execution_count": 5,
   "metadata": {
    "collapsed": false
   },
   "outputs": [
    {
     "name": "stdout",
     "output_type": "stream",
     "text": [
      "img_name            object\n",
      "obj_class_name    category\n",
      "obj_size_ratio     float32\n",
      "dtype: object\n",
      "          img_name obj_class_name  obj_size_ratio\n",
      "0  2009_001061.jpg      motorbike        0.995339\n",
      "1  2011_002107.jpg      motorbike        0.947467\n",
      "2  2008_005436.jpg            dog        0.606795\n",
      "3  2012_003076.jpg         person        0.033536\n",
      "4  2009_002712.jpg          train        0.468864\n"
     ]
    }
   ],
   "source": [
    "col_names = ['img_name', 'obj_class_name', 'obj_size_ratio']\n",
    "single_df = pd.DataFrame(single, columns=col_names)\n",
    "single_df['obj_class_name'] = single_df['obj_class_name'].astype('category')\n",
    "single_df['obj_size_ratio'] = single_df['obj_size_ratio'].astype('float32')\n",
    "print(single_df.dtypes)\n",
    "print(single_df.head())"
   ]
  },
  {
   "cell_type": "code",
   "execution_count": 6,
   "metadata": {
    "collapsed": false
   },
   "outputs": [
    {
     "data": {
      "text/plain": [
       "{'aeroplane': 0,\n",
       " 'bicycle': 1,\n",
       " 'bird': 6,\n",
       " 'boat': 17,\n",
       " 'bottle': 2,\n",
       " 'bus': 3,\n",
       " 'car': 4,\n",
       " 'cat': 9,\n",
       " 'chair': 11,\n",
       " 'cow': 8,\n",
       " 'diningtable': 13,\n",
       " 'dog': 7,\n",
       " 'horse': 12,\n",
       " 'motorbike': 14,\n",
       " 'person': 19,\n",
       " 'pottedplant': 18,\n",
       " 'sheep': 10,\n",
       " 'sofa': 5,\n",
       " 'train': 15,\n",
       " 'tvmonitor': 16}"
      ]
     },
     "execution_count": 6,
     "metadata": {},
     "output_type": "execute_result"
    }
   ],
   "source": [
    "obj_class_names = set(single_df['obj_class_name'])\n",
    "obj_class_name_index = dict(zip(list(obj_class_names), list(range(0, len(obj_class_names)))))\n",
    "obj_class_name_index"
   ]
  },
  {
   "cell_type": "code",
   "execution_count": 7,
   "metadata": {
    "collapsed": false
   },
   "outputs": [
    {
     "name": "stdout",
     "output_type": "stream",
     "text": [
      "img_name             object\n",
      "obj_class_name     category\n",
      "obj_size_ratio      float32\n",
      "obj_class_index    category\n",
      "dtype: object\n",
      "          img_name obj_class_name  obj_size_ratio obj_class_index\n",
      "0  2009_001061.jpg      motorbike        0.995339              14\n",
      "1  2011_002107.jpg      motorbike        0.947467              14\n",
      "2  2008_005436.jpg            dog        0.606795               7\n",
      "3  2012_003076.jpg         person        0.033536              19\n",
      "4  2009_002712.jpg          train        0.468864              15\n"
     ]
    }
   ],
   "source": [
    "single_df['obj_class_index'] = np.array([obj_class_name_index[n] for n in single_df['obj_class_name']])\n",
    "single_df['obj_class_index'] = single_df['obj_class_index'].astype('category')\n",
    "print(single_df.dtypes)\n",
    "print(single_df.head())"
   ]
  },
  {
   "cell_type": "code",
   "execution_count": 8,
   "metadata": {
    "collapsed": false
   },
   "outputs": [
    {
     "data": {
      "text/plain": [
       "<matplotlib.axes._subplots.AxesSubplot at 0x7feed941e400>"
      ]
     },
     "execution_count": 8,
     "metadata": {},
     "output_type": "execute_result"
    },
    {
     "data": {
      "image/png": "[encoded data removed]",
      "text/plain": [
       "<matplotlib.figure.Figure at 0x7feeb52fbeb8>"
      ]
     },
     "metadata": {},
     "output_type": "display_data"
    }
   ],
   "source": [
    "single_df['obj_size_ratio'].plot(kind='hist', color='green', bins=50, alpha=0.75)#.get_figure().savefig('2.pdf')"
   ]
  },
  {
   "cell_type": "code",
   "execution_count": 9,
   "metadata": {
    "collapsed": false
   },
   "outputs": [],
   "source": [
    "sdf_large_obj = single_df[single_df['obj_size_ratio'] >= 0.2]\n",
    "sdf_lo_class_count = pd.DataFrame(sdf_large_obj['obj_class_name'].value_counts(), columns=['large_obj'])\n",
    "sdf_lo_class_count['obj_class_name'] = sdf_lo_class_count.index\n",
    "sdf_class_count = pd.DataFrame(single_df['obj_class_name'].value_counts(), columns=['original'])\n",
    "sdf_class_count['obj_class_name'] = sdf_class_count.index\n",
    "join_df = pd.merge(sdf_class_count, sdf_lo_class_count, on='obj_class_name')\n",
    "join_df.index = join_df['obj_class_name']\n",
    "join_df.index.name = ''\n",
    "join_df.drop('obj_class_name', axis=1, inplace=True)"
   ]
  },
  {
   "cell_type": "code",
   "execution_count": 10,
   "metadata": {
    "collapsed": false
   },
   "outputs": [
    {
     "data": {
      "text/plain": [
       "<matplotlib.axes._subplots.AxesSubplot at 0x7feeb4fed2b0>"
      ]
     },
     "execution_count": 10,
     "metadata": {},
     "output_type": "execute_result"
    },
    {
     "data": {
      "image/png": "[encoded data removed]",
      "text/plain": [
       "<matplotlib.figure.Figure at 0x7feeb4ff51d0>"
      ]
     },
     "metadata": {},
     "output_type": "display_data"
    }
   ],
   "source": [
    "join_df.plot(kind='bar', color='green', alpha=0.75)#.get_figure().savefig('3.pdf')"
   ]
  },
  {
   "cell_type": "code",
   "execution_count": 11,
   "metadata": {
    "collapsed": false
   },
   "outputs": [
    {
     "name": "stdout",
     "output_type": "stream",
     "text": [
      "(4384, 4)\n",
      "img_name             object\n",
      "obj_class_name     category\n",
      "obj_size_ratio      float32\n",
      "obj_class_index    category\n",
      "dtype: object\n",
      "          img_name obj_class_name  obj_size_ratio obj_class_index\n",
      "0  2009_001061.jpg      motorbike        0.995339              14\n",
      "1  2011_002107.jpg      motorbike        0.947467              14\n",
      "2  2008_005436.jpg            dog        0.606795               7\n",
      "3  2009_002712.jpg          train        0.468864              15\n",
      "4  2010_002901.jpg            dog        0.328373               7\n"
     ]
    }
   ],
   "source": [
    "sdf_lo_person_only = sdf_large_obj[sdf_large_obj[\"obj_class_name\"] == \"person\"]\n",
    "sdf_lo_no_person = sdf_large_obj.drop(sdf_lo_person_only.index)\n",
    "sdf_lo_person_sample = sdf_large_obj.ix[random.sample(list(sdf_lo_person_only.index), 850)]\n",
    "sdf_lo_balanced = pd.concat([sdf_lo_no_person, sdf_lo_person_sample], ignore_index=True)\n",
    "print(sdf_lo_balanced.shape)\n",
    "print(sdf_lo_balanced.dtypes)\n",
    "print(sdf_lo_balanced.head())"
   ]
  },
  {
   "cell_type": "code",
   "execution_count": 12,
   "metadata": {
    "collapsed": false
   },
   "outputs": [
    {
     "data": {
      "text/plain": [
       "<matplotlib.axes._subplots.AxesSubplot at 0x7feeb5081c88>"
      ]
     },
     "execution_count": 12,
     "metadata": {},
     "output_type": "execute_result"
    },
    {
     "data": {
      "image/png": "[encoded data removed]",
      "text/plain": [
       "<matplotlib.figure.Figure at 0x7feeb508cef0>"
      ]
     },
     "metadata": {},
     "output_type": "display_data"
    }
   ],
   "source": [
    "sdf_lo_balanced[\"obj_class_name\"].value_counts().plot(kind=\"bar\", color=\"green\", alpha=0.75)#.get_figure().savefig('4.pdf')"
   ]
  },
  {
   "cell_type": "code",
   "execution_count": 13,
   "metadata": {
    "collapsed": false
   },
   "outputs": [
    {
     "data": {
      "text/plain": [
       "<matplotlib.axes._subplots.AxesSubplot at 0x7feeb4f509b0>"
      ]
     },
     "execution_count": 13,
     "metadata": {},
     "output_type": "execute_result"
    },
    {
     "data": {
      "image/png": "[encoded data removed]",
      "text/plain": [
       "<matplotlib.figure.Figure at 0x7feeb4f85390>"
      ]
     },
     "metadata": {},
     "output_type": "display_data"
    }
   ],
   "source": [
    "sdf_lo_balanced[\"obj_size_ratio\"].plot(kind=\"hist\", color=\"green\", bins=50, alpha=0.75)"
   ]
  },
  {
   "cell_type": "code",
   "execution_count": 14,
   "metadata": {
    "collapsed": false
   },
   "outputs": [
    {
     "name": "stdout",
     "output_type": "stream",
     "text": [
      "img_name             object\n",
      "obj_class_name     category\n",
      "obj_size_ratio      float32\n",
      "obj_class_index    category\n",
      "split              category\n",
      "path                 object\n",
      "dtype: object\n",
      "             img_name obj_class_name  obj_size_ratio obj_class_index  split  \\\n",
      "1480  2011_001432.jpg           bird        0.699897               6  train   \n",
      "2128  2009_002093.jpg            dog        0.520667               7  train   \n",
      "3267  2009_000611.jpg      motorbike        0.816581              14  train   \n",
      "1872  2010_001938.jpg            cat        0.994798               9  train   \n",
      "986   2008_003048.jpg            cat        0.784821               9  train   \n",
      "\n",
      "                       path  \n",
      "1480  train/2011_001432.jpg  \n",
      "2128  train/2009_002093.jpg  \n",
      "3267  train/2009_000611.jpg  \n",
      "1872  train/2010_001938.jpg  \n",
      "986   train/2008_003048.jpg  \n"
     ]
    }
   ],
   "source": [
    "sdf_lob_shuffled = sdf_lo_balanced.reindex(np.random.permutation(sdf_lo_balanced.index))\n",
    "n = sdf_lob_shuffled.shape[0]\n",
    "sdf_lob_shuffled[\"split\"] = np.array([\"train\"]*int(n/2) + [\"val\"]*int(n/4) + [\"test\"]*(n-int(n/2)-int(n/4)))\n",
    "sdf_lob_shuffled[\"split\"] = sdf_lob_shuffled[\"split\"].astype(\"category\")\n",
    "sdf_lob_shuffled[\"path\"] = sdf_lob_shuffled[\"split\"] + np.array([\"/\"] * n) + sdf_lob_shuffled[\"img_name\"]\n",
    "print(sdf_lob_shuffled.dtypes)\n",
    "print(sdf_lob_shuffled.head())"
   ]
  },
  {
   "cell_type": "code",
   "execution_count": 13,
   "metadata": {
    "collapsed": true
   },
   "outputs": [],
   "source": [
    "with open(\"preprocess.pickle\", mode=\"wb\") as h:\n",
    "    pickle.dump(sdf_lob_shuffled, h, protocol=2)\n",
    "for f in [\"train\", \"val\", \"test\"]:\n",
    "    if isdir(f):\n",
    "        rmtree(f)\n",
    "    mkdir(f)\n",
    "    if isfile(f + \".txt\"):\n",
    "        remove(f + \".txt\")"
   ]
  },
  {
   "cell_type": "code",
   "execution_count": 14,
   "metadata": {
    "collapsed": false
   },
   "outputs": [
    {
     "name": "stdout",
     "output_type": "stream",
     "text": []
    }
   ],
   "source": [
    "img_name_list = sdf_lob_shuffled[\"img_name\"]\n",
    "obj_class_index_list = sdf_lob_shuffled[\"obj_class_index\"]\n",
    "split_list = sdf_lob_shuffled[\"split\"]\n",
    "to_path_list = sdf_lob_shuffled[\"path\"]\n",
    "split_path_class_index = {\"train\": [], \"val\": [], \"test\": []}\n",
    "for i in range(0, n):\n",
    "    copy(join(img_dir, img_name_list[i]), to_path_list[i])\n",
    "    description = \"{} {}\\n\".format(to_path_list[i], obj_class_index_list[i])\n",
    "    split_path_class_index[split_list[i]].append(description)\n",
    "    progress = int(float(i) / float(n) * 1000) / 10\n",
    "    print(\"{}: {}%\".format(img_name_list[i], progress), end=\"\\r\")\n",
    "for f in [\"train\", \"val\", \"test\"]:\n",
    "    with open(f + \".txt\", mode=\"w\") as h:\n",
    "        h.writelines(split_path_class_index[f])"
   ]
  },
  {
   "cell_type": "code",
   "execution_count": null,
   "metadata": {
    "collapsed": true
   },
   "outputs": [],
   "source": []
  }
 ],
 "metadata": {
  "kernelspec": {
   "display_name": "Python 2",
   "language": "python",
   "name": "python2"
  },
  "language_info": {
   "codemirror_mode": {
    "name": "ipython",
    "version": 2
   },
   "file_extension": ".py",
   "mimetype": "text/x-python",
   "name": "python",
   "nbconvert_exporter": "python",
   "pygments_lexer": "ipython2",
   "version": "2.7.6"
  }
 },
 "nbformat": 4,
 "nbformat_minor": 0
}
