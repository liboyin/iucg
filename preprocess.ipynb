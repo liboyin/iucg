{
 "cells": [
  {
   "cell_type": "code",
   "execution_count": 1,
   "metadata": {
    "collapsed": false
   },
   "outputs": [],
   "source": [
    "import numpy as np\n",
    "import pandas as pd\n",
    "np.set_printoptions(threshold=np.nan, linewidth=np.nan)\n",
    "%matplotlib inline"
   ]
  },
  {
   "cell_type": "code",
   "execution_count": 2,
   "metadata": {
    "collapsed": true
   },
   "outputs": [],
   "source": [
    "import xmltodict\n",
    "from collections import Counter\n",
    "from os import listdir\n",
    "from os.path import join\n",
    "def parse_annotations():\n",
    "    \"\"\"\n",
    "    Parses annotation xml files of PASCAL VOC 2012.\n",
    "    For images with multiple annotated objects, if the largest object is at least twice as large as the second largest one, then the label of that object is used as the label of the image.\n",
    "    Compared to only using images with one annotated object, this allows another 3830 images. \n",
    "    It remains to be seen whether tiny objects (size ratio < 0.1) should be removed.\n",
    "    Note that a few annotations contains non-integer bounding box and requires manual fix.\n",
    "    Returns:\n",
    "        df: Pandas dataframe of image name, label, and bounding box size ratio, of images with only one annotated object\n",
    "        obj_count: collections.Counter instance for number of annotated objects in all images\n",
    "    \"\"\"\n",
    "    def get_size(obj_annot):\n",
    "        b = obj_annot['bndbox']  # size parameters are in str\n",
    "        return (int(b['xmax']) - int(b['xmin'])) * (int(b['ymax']) - int(b['ymin']))\n",
    "    annot_dir = '../pascal12/Annotations'\n",
    "    objs = list()  # list<tuple<filename, label, size_ratio>>\n",
    "    obj_counter = np.zeros(100, dtype=np.uint16)\n",
    "    for x in listdir(annot_dir):\n",
    "        with open(join(annot_dir, x), mode='r') as h:\n",
    "            a = xmltodict.parse(h.read())['annotation']\n",
    "            try:\n",
    "                img_size = int(a['size']['width']) * int(a['size']['height'])\n",
    "                if isinstance(a['object'], list):  # contains more than one annotated object\n",
    "                    obj_sizes = map(get_size, a['object'])\n",
    "                    sos = sorted(obj_sizes, reverse=True)  # sos for sorted_object_sizes\n",
    "                    if sos[0] >= sos[1] * 2:\n",
    "                        label = a['object'][np.argmax(obj_sizes)]['name']\n",
    "                        size_ratio = float(sos[0]) / img_size\n",
    "                        objs.append((a['filename'], label, size_ratio))\n",
    "                    obj_counter[len(obj_sizes)] += 1\n",
    "                else:\n",
    "                    size_ratio = float(get_size(a['object'])) / img_size\n",
    "                    objs.append((a['filename'], a['object']['name'], size_ratio))\n",
    "                    obj_counter[1] += 1\n",
    "            except:\n",
    "                raise Exception('Error parsing {}'.format(x))\n",
    "    df_raw = pd.DataFrame(objs, columns=['img', 'label', 'size_ratio'])\n",
    "    df_raw['label'] = df_raw['label'].astype('category')\n",
    "    counter_index = np.nonzero(obj_counter)[0]\n",
    "    obj_count = dict(zip(counter_index, obj_counter[counter_index]))\n",
    "    return df_raw, obj_count"
   ]
  },
  {
   "cell_type": "code",
   "execution_count": 3,
   "metadata": {
    "collapsed": true
   },
   "outputs": [],
   "source": [
    "import pickle\n",
    "from os.path import isfile\n",
    "def lazy_parse_annotations():\n",
    "    cache = 'annotations.pickle'\n",
    "    if isfile(cache):\n",
    "        with open(cache, mode='rb') as h:\n",
    "            return pickle.load(h)\n",
    "    else:\n",
    "        df_raw, obj_count = parse_annotations()\n",
    "        with open(cache, mode='wb') as h:\n",
    "            pickle.dump((df_raw, obj_count), h)\n",
    "        return df_raw, obj_count"
   ]
  },
  {
   "cell_type": "code",
   "execution_count": 4,
   "metadata": {
    "collapsed": true
   },
   "outputs": [],
   "source": [
    "df, obj_count = lazy_parse_annotations()"
   ]
  },
  {
   "cell_type": "code",
   "execution_count": 5,
   "metadata": {
    "collapsed": false
   },
   "outputs": [
    {
     "data": {
      "text/plain": [
       "<matplotlib.axes._subplots.AxesSubplot at 0x7f77cc0a5c10>"
      ]
     },
     "execution_count": 5,
     "metadata": {},
     "output_type": "execute_result"
    },
    {
     "data": {
      "image/png": "[encoded data removed]",
      "text/plain": [
       "<matplotlib.figure.Figure at 0x7f77cc0a5790>"
      ]
     },
     "metadata": {},
     "output_type": "display_data"
    }
   ],
   "source": [
    "pd.Series(obj_count).plot(kind='bar', color='green', alpha=0.75, grid=True)#.get_figure().savefig('1.pdf')"
   ]
  },
  {
   "cell_type": "code",
   "execution_count": 6,
   "metadata": {
    "collapsed": true
   },
   "outputs": [],
   "source": [
    "# subsample 950 images from all \"person\" images to balance dataset\n",
    "import random\n",
    "df_person = df[df['label'] == 'person']\n",
    "df_no_person = df.drop(df_person.index)\n",
    "person_sample = df.ix[random.sample(list(df_person.index), 950)]\n",
    "df = pd.concat([df_no_person, person_sample], ignore_index=True)"
   ]
  },
  {
   "cell_type": "code",
   "execution_count": 7,
   "metadata": {
    "collapsed": false
   },
   "outputs": [
    {
     "data": {
      "text/plain": [
       "<matplotlib.axes._subplots.AxesSubplot at 0x7f77cbe776d0>"
      ]
     },
     "execution_count": 7,
     "metadata": {},
     "output_type": "execute_result"
    },
    {
     "data": {
      "image/png": "[encoded data removed]",
      "text/plain": [
       "<matplotlib.figure.Figure at 0x7f77cbf51590>"
      ]
     },
     "metadata": {},
     "output_type": "display_data"
    }
   ],
   "source": [
    "df['label'].value_counts().plot(kind='bar', color='green', alpha=0.75, grid=True)#.get_figure().savefig('2.pdf')"
   ]
  },
  {
   "cell_type": "code",
   "execution_count": 8,
   "metadata": {
    "collapsed": false
   },
   "outputs": [],
   "source": [
    "# convert labels from string to numerical\n",
    "with open('hex.pickle', mode='rb') as h:\n",
    "    hex_data = pickle.load(h)\n",
    "name_id = hex_data['name_id']\n",
    "df['label'] = map(lambda x: name_id[x], df['label'])"
   ]
  },
  {
   "cell_type": "code",
   "execution_count": 9,
   "metadata": {
    "collapsed": true
   },
   "outputs": [],
   "source": [
    "# split the dataset into 4:1 train/test subset\n",
    "N = len(df)  # size of the entire dataset\n",
    "split = ['test']*int(N/5) + ['train']*(N-int(N/5))\n",
    "random.shuffle(split)\n",
    "df['split'] = split\n",
    "df_train = df[df['split'] == 'train'].drop('split', axis=1)\n",
    "df_train.reset_index(drop=True, inplace=True)\n",
    "df_test = df[df['split'] == 'test'].drop('split', axis=1)\n",
    "df_test.reset_index(drop=True, inplace=True)"
   ]
  },
  {
   "cell_type": "code",
   "execution_count": 10,
   "metadata": {
    "collapsed": true
   },
   "outputs": [],
   "source": [
    "id_hierarchical_labels = hex_data['id_hierarchical_labels']\n",
    "id_full_hierarchy = map(lambda x: max(x, key=len), id_hierarchical_labels)\n",
    "def hierarchical_relabel(label):\n",
    "    \"\"\"\n",
    "    Relabels a training image to one of its hierarchical labels.\n",
    "    50% chance to relabel to the full hierarchy, i.e. the leaf node of HEX graph.\n",
    "    50% chance to relabel to any legal hierarchical label, including the full hierarchy.\n",
    "    Returns:\n",
    "        Tuple of active label id.\n",
    "    \"\"\"\n",
    "    if random.random() < 0.5:\n",
    "        return id_full_hierarchy[label]\n",
    "    else:\n",
    "        return random.sample(id_hierarchical_labels[label], 1)[0]"
   ]
  },
  {
   "cell_type": "code",
   "execution_count": 11,
   "metadata": {
    "collapsed": true
   },
   "outputs": [],
   "source": [
    "df_train['pseudo_label'] = map(hierarchical_relabel, df_train['label'])"
   ]
  },
  {
   "cell_type": "code",
   "execution_count": 12,
   "metadata": {
    "collapsed": true
   },
   "outputs": [],
   "source": [
    "with open('df.pickle', mode='wb') as h:\n",
    "    pickle.dump((df_train, df_test), h)"
   ]
  },
  {
   "cell_type": "code",
   "execution_count": 13,
   "metadata": {
    "collapsed": false
   },
   "outputs": [
    {
     "data": {
      "text/html": [
       "<div>\n",
       "<table border=\"1\" class=\"dataframe\">\n",
       "  <thead>\n",
       "    <tr style=\"text-align: right;\">\n",
       "      <th></th>\n",
       "      <th>img</th>\n",
       "      <th>label</th>\n",
       "      <th>size_ratio</th>\n",
       "      <th>pseudo_label</th>\n",
       "    </tr>\n",
       "  </thead>\n",
       "  <tbody>\n",
       "    <tr>\n",
       "      <th>0</th>\n",
       "      <td>2009_001061.jpg</td>\n",
       "      <td>9</td>\n",
       "      <td>0.995339</td>\n",
       "      <td>(9, 11, 20)</td>\n",
       "    </tr>\n",
       "    <tr>\n",
       "      <th>1</th>\n",
       "      <td>2008_006600.jpg</td>\n",
       "      <td>21</td>\n",
       "      <td>0.007645</td>\n",
       "      <td>(11, 20, 21)</td>\n",
       "    </tr>\n",
       "    <tr>\n",
       "      <th>2</th>\n",
       "      <td>2011_002107.jpg</td>\n",
       "      <td>9</td>\n",
       "      <td>0.947467</td>\n",
       "      <td>(11,)</td>\n",
       "    </tr>\n",
       "    <tr>\n",
       "      <th>3</th>\n",
       "      <td>2008_005436.jpg</td>\n",
       "      <td>22</td>\n",
       "      <td>0.606795</td>\n",
       "      <td>(10, 12, 22)</td>\n",
       "    </tr>\n",
       "    <tr>\n",
       "      <th>4</th>\n",
       "      <td>2009_002712.jpg</td>\n",
       "      <td>16</td>\n",
       "      <td>0.468864</td>\n",
       "      <td>(11, 16, 20)</td>\n",
       "    </tr>\n",
       "  </tbody>\n",
       "</table>\n",
       "</div>"
      ],
      "text/plain": [
       "               img  label  size_ratio  pseudo_label\n",
       "0  2009_001061.jpg      9    0.995339   (9, 11, 20)\n",
       "1  2008_006600.jpg     21    0.007645  (11, 20, 21)\n",
       "2  2011_002107.jpg      9    0.947467         (11,)\n",
       "3  2008_005436.jpg     22    0.606795  (10, 12, 22)\n",
       "4  2009_002712.jpg     16    0.468864  (11, 16, 20)"
      ]
     },
     "execution_count": 13,
     "metadata": {},
     "output_type": "execute_result"
    }
   ],
   "source": [
    "df_train.head()"
   ]
  },
  {
   "cell_type": "code",
   "execution_count": 14,
   "metadata": {
    "collapsed": false
   },
   "outputs": [
    {
     "data": {
      "text/html": [
       "<div>\n",
       "<table border=\"1\" class=\"dataframe\">\n",
       "  <thead>\n",
       "    <tr style=\"text-align: right;\">\n",
       "      <th></th>\n",
       "      <th>img</th>\n",
       "      <th>label</th>\n",
       "      <th>size_ratio</th>\n",
       "    </tr>\n",
       "  </thead>\n",
       "  <tbody>\n",
       "    <tr>\n",
       "      <th>0</th>\n",
       "      <td>2010_002200.jpg</td>\n",
       "      <td>25</td>\n",
       "      <td>0.198912</td>\n",
       "    </tr>\n",
       "    <tr>\n",
       "      <th>1</th>\n",
       "      <td>2008_004771.jpg</td>\n",
       "      <td>25</td>\n",
       "      <td>0.141604</td>\n",
       "    </tr>\n",
       "    <tr>\n",
       "      <th>2</th>\n",
       "      <td>2010_001797.jpg</td>\n",
       "      <td>8</td>\n",
       "      <td>0.168373</td>\n",
       "    </tr>\n",
       "    <tr>\n",
       "      <th>3</th>\n",
       "      <td>2010_002309.jpg</td>\n",
       "      <td>22</td>\n",
       "      <td>0.100203</td>\n",
       "    </tr>\n",
       "    <tr>\n",
       "      <th>4</th>\n",
       "      <td>2008_007498.jpg</td>\n",
       "      <td>13</td>\n",
       "      <td>0.375824</td>\n",
       "    </tr>\n",
       "  </tbody>\n",
       "</table>\n",
       "</div>"
      ],
      "text/plain": [
       "               img  label  size_ratio\n",
       "0  2010_002200.jpg     25    0.198912\n",
       "1  2008_004771.jpg     25    0.141604\n",
       "2  2010_001797.jpg      8    0.168373\n",
       "3  2010_002309.jpg     22    0.100203\n",
       "4  2008_007498.jpg     13    0.375824"
      ]
     },
     "execution_count": 14,
     "metadata": {},
     "output_type": "execute_result"
    }
   ],
   "source": [
    "df_test.head()"
   ]
  }
 ],
 "metadata": {
  "kernelspec": {
   "display_name": "Python 2",
   "language": "python",
   "name": "python2"
  },
  "language_info": {
   "codemirror_mode": {
    "name": "ipython",
    "version": 2
   },
   "file_extension": ".py",
   "mimetype": "text/x-python",
   "name": "python",
   "nbconvert_exporter": "python",
   "pygments_lexer": "ipython2",
   "version": "2.7.6"
  }
 },
 "nbformat": 4,
 "nbformat_minor": 0
}
