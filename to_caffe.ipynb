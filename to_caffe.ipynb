{
 "cells": [
  {
   "cell_type": "code",
   "execution_count": 1,
   "metadata": {
    "collapsed": true
   },
   "outputs": [],
   "source": [
    "# Python 2\n",
    "from __future__ import print_function\n",
    "import numpy as np\n",
    "np.set_printoptions(threshold=np.nan, linewidth=np.nan)"
   ]
  },
  {
   "cell_type": "code",
   "execution_count": 2,
   "metadata": {
    "collapsed": true
   },
   "outputs": [],
   "source": [
    "import pickle\n",
    "with open('df.pickle', mode='rb') as h:\n",
    "    df = pickle.load(h)\n",
    "with open('hex.pickle', mode='rb') as h:\n",
    "    hex_data = pickle.load(h)\n",
    "id_name = hex_data['id_name']"
   ]
  },
  {
   "cell_type": "code",
   "execution_count": 3,
   "metadata": {
    "collapsed": false
   },
   "outputs": [
    {
     "name": "stdout",
     "output_type": "stream",
     "text": []
    }
   ],
   "source": [
    "import cv2  # loading images with OpenCV is much faster than with Caffe\n",
    "import h5py\n",
    "from os.path import join\n",
    "img_dir = '../pascal12/JPEGImages'\n",
    "for split in ['train', 'test']:\n",
    "    filenames = df[df['split']==split]['img'].reset_index(drop=True)\n",
    "    file_count = len(filenames)\n",
    "    X = list()\n",
    "    for i in range(0, file_count):  # load images\n",
    "        img = cv2.resize(cv2.imread(join(img_dir, filenames[i])), (256, 256))\n",
    "        X.append(img.astype(np.float32) / 256)\n",
    "        progress = int(float(i) / file_count * 1000) / 10.0\n",
    "        print('{} {}: {}%'.format(split, filenames[i], progress), end='\\r')\n",
    "    X = np.array(X, dtype=np.float32)\n",
    "    with open('../{}.npy'.format(split), mode='wb') as h:  # mean pixle\n",
    "        np.save(h, X.mean(axis=(0, 1, 2)))\n",
    "    Y = np.zeros((len(X), len(id_name)), dtype=np.float16)  # ground truth\n",
    "    pseudo_labels = df[df['split']==split]['pseudo_label'].reset_index(drop=True)\n",
    "    for i in range(0, len(Y)):\n",
    "        Y[i, pseudo_labels[i]] = 1\n",
    "    with h5py.File('../{}.h5'.format(split), 'w') as h:  # write h5 file\n",
    "        print('writing {}.h5'.format(split), end='\\r')\n",
    "        h['X'] = X\n",
    "        for i in range(0, len(id_name)):\n",
    "            h[id_name[i]] = Y[:, i]\n",
    "    with open('../{}.txt'.format(split), 'w') as h:  # caffe instructions\n",
    "        h.write('{}.h5\\n'.format(split))"
   ]
  },
  {
   "cell_type": "code",
   "execution_count": null,
   "metadata": {
    "collapsed": true
   },
   "outputs": [],
   "source": []
  }
 ],
 "metadata": {
  "kernelspec": {
   "display_name": "Python 2",
   "language": "python",
   "name": "python2"
  },
  "language_info": {
   "codemirror_mode": {
    "name": "ipython",
    "version": 2
   },
   "file_extension": ".py",
   "mimetype": "text/x-python",
   "name": "python",
   "nbconvert_exporter": "python",
   "pygments_lexer": "ipython2",
   "version": "2.7.6"
  }
 },
 "nbformat": 4,
 "nbformat_minor": 0
}
