{
 "cells": [
  {
   "cell_type": "code",
   "execution_count": null,
   "metadata": {
    "collapsed": true
   },
   "outputs": [],
   "source": [
    "# Python 2\n",
    "from __future__ import print_function\n",
    "import numpy as np\n",
    "np.set_printoptions(threshold=np.nan, linewidth=np.nan)"
   ]
  },
  {
   "cell_type": "code",
   "execution_count": null,
   "metadata": {
    "collapsed": true
   },
   "outputs": [],
   "source": [
    "import pickle\n",
    "with open('df.pickle', mode='rb') as h:\n",
    "    df = pickle.load(h)\n",
    "with open('hex.pickle', mode='rb') as h:\n",
    "    hex_data = pickle.load(h)\n",
    "id_name = hex_data['id_name']"
   ]
  },
  {
   "cell_type": "code",
   "execution_count": null,
   "metadata": {
    "collapsed": false
   },
   "outputs": [],
   "source": [
    "with open('test.npy', mode='wb') as h:\n",
    "    np.save(h, Y[0,:])"
   ]
  },
  {
   "cell_type": "code",
   "execution_count": null,
   "metadata": {
    "collapsed": false
   },
   "outputs": [],
   "source": [
    "import caffe  # os.environ['PYTHONPATH'].append('/home/libo/caffe/python')\n",
    "import h5py\n",
    "from os.path import join\n",
    "img_dir = '../pascal12/JPEGImages'\n",
    "for split in ['train', 'test']:\n",
    "    filenames = df[df['split']==split]['img'].reset_index(drop=True)\n",
    "    file_count = len(filenames)\n",
    "    X = list()\n",
    "    for i in range(0, file_count):\n",
    "        X.append(caffe.io.load_image(join(img_dir, filenames[i])))\n",
    "        progress = int(float(i) / file_count * 1000) / 10.0\n",
    "        print('{} {}: {}%'.format(split, filenames[i], progress), end='\\r')\n",
    "    with open(split + '.npy', mode='wb') as h:  # mean pixle\n",
    "        np.save(h, (sum(X) / file_count).mean(axis=(0, 1)))\n",
    "    Y = np.zeros((len(X), len(id_name)), dtype=np.float16)\n",
    "    pseudo_labels = df[df['split']==split]['pseudo_label'].reset_index(drop=True)\n",
    "    for i in range(0, len(Y)):\n",
    "        Y[i, pseudo_labels[i]] = 1\n",
    "    with h5py.File('../{}.h5'.format(split), 'w') as h:\n",
    "        h['X'] = np.array(X)  # TODO: exceeded 2GB numpy memory limit\n",
    "        for i in range(0, len(id_name)):\n",
    "            h[id_name[i]] = Y[:, i]\n",
    "    with open('../{}.txt'.format(split), 'w') as h:\n",
    "        h.write('{}.h5\\n'.format(split))"
   ]
  }
 ],
 "metadata": {
  "kernelspec": {
   "display_name": "Python 2",
   "language": "python",
   "name": "python2"
  },
  "language_info": {
   "codemirror_mode": {
    "name": "ipython",
    "version": 2
   },
   "file_extension": ".py",
   "mimetype": "text/x-python",
   "name": "python",
   "nbconvert_exporter": "python",
   "pygments_lexer": "ipython2",
   "version": "2.7.6"
  }
 },
 "nbformat": 4,
 "nbformat_minor": 0
}
