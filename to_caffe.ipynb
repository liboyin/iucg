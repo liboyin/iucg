{
 "cells": [
  {
   "cell_type": "code",
   "execution_count": 1,
   "metadata": {
    "collapsed": true
   },
   "outputs": [],
   "source": [
    "# Python 2\n",
    "import pickle\n",
    "with open('df.pickle', mode='rb') as h:\n",
    "    df = pickle.load(h)\n",
    "with open('hex.pickle', mode='rb') as h:\n",
    "    label_count = len(pickle.load(h)['id_name'])"
   ]
  },
  {
   "cell_type": "code",
   "execution_count": 2,
   "metadata": {
    "collapsed": true
   },
   "outputs": [],
   "source": [
    "import cv2\n",
    "import numpy as np\n",
    "from os.path import join\n",
    "img_dir = '../pascal12/JPEGImages'\n",
    "img_mean = np.load('../ilsvrc_2012_mean.npy').astype(np.float32)  # 3*256*256\n",
    "img_mean = np.swapaxes(np.swapaxes(img_mean, 0, 1), 1, 2)  # convert to XY[BGR]\n",
    "def load_image(filename):\n",
    "    \"\"\"\n",
    "    Loads image, subtract mean, resize, change axis order from XY[BGR] to [BGR]XY\n",
    "    Returns:\n",
    "        Result image as an np.float32 array with size 3*227*227. Values within [0, 255]\n",
    "    \"\"\"\n",
    "    img = cv2.resize(cv2.imread(join(img_dir, filename)), (256, 256))\n",
    "    img = cv2.resize(img.astype(np.float32) - img_mean, (227, 227))\n",
    "    return np.swapaxes(np.swapaxes(img, 1, 2), 0, 1)"
   ]
  },
  {
   "cell_type": "code",
   "execution_count": 3,
   "metadata": {
    "collapsed": false
   },
   "outputs": [],
   "source": [
    "import h5py\n",
    "for split in ['train', 'test']:\n",
    "    df_split = df[df['split']==split]\n",
    "    X = map(load_image, df_split['img'])\n",
    "    Y = np.zeros((len(X), label_count), dtype=np.float32)  # labels in np.float32 for error calculation\n",
    "    pseudo_labels = df_split['pseudo_label'].reset_index(drop=True)\n",
    "    for i in range(0, len(X)):\n",
    "        Y[i, pseudo_labels[i]] = 1\n",
    "    with h5py.File('../{}.h5'.format(split), 'w') as h:\n",
    "        h.create_dataset('data', data=np.array(X, dtype=np.float32))\n",
    "        h.create_dataset('label', data=Y)"
   ]
  }
 ],
 "metadata": {
  "kernelspec": {
   "display_name": "Python 2",
   "language": "python",
   "name": "python2"
  },
  "language_info": {
   "codemirror_mode": {
    "name": "ipython",
    "version": 2
   },
   "file_extension": ".py",
   "mimetype": "text/x-python",
   "name": "python",
   "nbconvert_exporter": "python",
   "pygments_lexer": "ipython2",
   "version": "2.7.6"
  }
 },
 "nbformat": 4,
 "nbformat_minor": 0
}
