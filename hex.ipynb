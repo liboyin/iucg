{
 "cells": [
  {
   "cell_type": "code",
   "execution_count": 1,
   "metadata": {
    "collapsed": true
   },
   "outputs": [],
   "source": [
    "import numpy as np\n",
    "np.set_printoptions(threshold=np.nan, linewidth=np.nan)"
   ]
  },
  {
   "cell_type": "code",
   "execution_count": 2,
   "metadata": {
    "collapsed": true
   },
   "outputs": [],
   "source": [
    "def read_hierarchy(filename):\n",
    "    \"\"\"\n",
    "    Parses a hierarchy file of concepts. Subsumption is denoted by \\t.\n",
    "    Make sure that the hierarchy is not a tree. Tree is too nice in some properties.\n",
    "    Currently the hierarchy is a forest with overlapping leaf nodes, making it maximally sparse by default.\n",
    "    Returns:\n",
    "        id_name: list of concepts as map: id -> concept\n",
    "        name_id: map: concept -> id\n",
    "        g: hierarchy graph as adjacency matrix\n",
    "    \"\"\"\n",
    "    with open(filename, mode='r') as h:\n",
    "        lines = h.read().split('\\n')\n",
    "    id_name = list(set(x.strip() for x in lines if x))\n",
    "    n = len(id_name)  # number of concepts\n",
    "    name_id = dict(zip(id_name, range(0, n)))\n",
    "    g = np.zeros((n, n), dtype=np.bool)\n",
    "    stack = list()\n",
    "    for x in lines:\n",
    "        depth = x.count('\\t', 0, len(x) - len(x.lstrip()))\n",
    "        name = x.strip()\n",
    "        if depth < len(stack) - 1:  # arbitrary levels shallower\n",
    "            del stack[depth:]  # pop until len(stack)==depth\n",
    "        if depth == 0 and len(stack) == 0:  # root node\n",
    "            stack.append(name)\n",
    "        elif depth == len(stack):  # one level deeper\n",
    "            from_id = name_id[stack[-1]]\n",
    "            to_id = name_id[name]\n",
    "            g[from_id, to_id] = True\n",
    "            stack.append(name)\n",
    "        elif depth == len(stack) - 1:  # same level\n",
    "            from_id = name_id[stack[-2]]\n",
    "            to_id = name_id[name]\n",
    "            g[from_id, to_id] = True\n",
    "            stack[-1] = name\n",
    "        else:  # arbitrary levels shallower, but haven't reached root\n",
    "            from_id = name_id[stack[-1]]\n",
    "            to_id = name_id[name]\n",
    "            g[from_id, to_id] = True\n",
    "            stack.append(name)\n",
    "    return id_name, name_id, g"
   ]
  },
  {
   "cell_type": "code",
   "execution_count": 3,
   "metadata": {
    "collapsed": false
   },
   "outputs": [],
   "source": [
    "id_name, name_id, H = read_hierarchy('hierarchy_full.txt')  # H for hierarchy (directed) subgraph\n",
    "n = len(id_name)  # number of nodes. Currently 32, including 12 branch nodes and 20 leaf nodes"
   ]
  },
  {
   "cell_type": "code",
   "execution_count": 4,
   "metadata": {
    "collapsed": true
   },
   "outputs": [],
   "source": [
    "def print_bool_matrix(m):\n",
    "    print(np.array_str(m.astype(np.uint8)))\n",
    "def print_edges(g):  # defined outside: id_name\n",
    "    edges = set()\n",
    "    for x, y in np.argwhere(g):\n",
    "        if g[y, x]:\n",
    "            key1 = '{} <-> {}'.format(id_name[x], id_name[y])\n",
    "            key2 = '{} <-> {}'.format(id_name[y], id_name[x])\n",
    "            if key1 not in g and key2 not in g:\n",
    "                edges.add(key1)\n",
    "        else:\n",
    "            edges.add('{} -> {}'.format(id_name[x], id_name[y]))\n",
    "    print('\\n'.join(edges))"
   ]
  },
  {
   "cell_type": "code",
   "execution_count": 5,
   "metadata": {
    "collapsed": true
   },
   "outputs": [],
   "source": [
    "from scipy.sparse.csgraph import floyd_warshall\n",
    "H_ts = floyd_warshall(H, unweighted=True) != np.inf  # H_ts for transitive closure of H with self-loops\n",
    "H_t = H_ts - np.eye(n, dtype=np.bool)  # H_t for transitive closure of H without self-loops"
   ]
  },
  {
   "cell_type": "code",
   "execution_count": 6,
   "metadata": {
    "collapsed": true
   },
   "outputs": [],
   "source": [
    "def build_exclusion(H_ts):\n",
    "    \"\"\"\n",
    "    Builds exclusion subgraph from hierarchy. Two nodes are exclusive unless they share a common descendant.\n",
    "    Args:\n",
    "        H_ts: Transitive closure of hierarchical subgraph with self-loop. Self-loop is a must as the common descendant of two nodes may be one of them.\n",
    "    \"\"\"\n",
    "    n = H_ts.shape[0]\n",
    "    g = np.ones((n, n), dtype=np.bool) - np.eye(n, dtype=np.bool)  # fully connected by default\n",
    "    for i in range(0, n):\n",
    "        for j in range(i + 1, n):\n",
    "            if np.logical_and(H_ts[i], H_ts[j]).any():  # if two nodes share a descendant, then unconnect\n",
    "                g[i, j] = g[j, i] = False\n",
    "    return g"
   ]
  },
  {
   "cell_type": "code",
   "execution_count": 7,
   "metadata": {
    "collapsed": true
   },
   "outputs": [],
   "source": [
    "EX = build_exclusion(H_ts)  # EX for exclusion (undirected) subgraph"
   ]
  },
  {
   "cell_type": "code",
   "execution_count": 8,
   "metadata": {
    "collapsed": true
   },
   "outputs": [],
   "source": [
    "def dfs_connected(g, from_id, to_id):\n",
    "    def dfs(at_id):  # defined outside: visited\n",
    "        if at_id == to_id:\n",
    "            return True\n",
    "        visited[at_id] = True\n",
    "        for x in np.nonzero(g[at_id])[0]:  # nodes that can be visited from @at_id\n",
    "            if not visited[x] and dfs(x):\n",
    "                return True\n",
    "        return False\n",
    "    visited = np.zeros(n, dtype=np.bool)\n",
    "    return dfs(from_id)"
   ]
  },
  {
   "cell_type": "code",
   "execution_count": 9,
   "metadata": {
    "collapsed": true
   },
   "outputs": [],
   "source": [
    "def sparsify(g, edges):\n",
    "    \"\"\"\n",
    "    For each undirected edge (x, y), if both sides are stillconnected without (x, y), then (x, y) is removed.\n",
    "    This algorithm does not guarantee maximal sparsity. See counterexample on Deng et al, page 8.\n",
    "    Approximating |E| by |V|^2, this brute-force solution has complexity O(|V|^3).\n",
    "    Args:\n",
    "        edges: iterable<tuple<int, int>>\n",
    "    \"\"\"\n",
    "    for x, y in edges:\n",
    "        m = np.copy(g)\n",
    "        m[x, y] = m[y, x] = False\n",
    "        if dfs_connected(m, x, y) and dfs_connected(m, y, x):\n",
    "            g[x, y] = g[y, x] = False\n",
    "    return g"
   ]
  },
  {
   "cell_type": "code",
   "execution_count": 10,
   "metadata": {
    "collapsed": true
   },
   "outputs": [],
   "source": [
    "HEX_sparse = sparsify(H + EX, np.argwhere(EX))  # recall that @H is already maximally sparse\n",
    "HEX_dense = H_t + EX - np.eye(n, n, dtype=np.bool)  # recall that @EX is already maximally dense"
   ]
  },
  {
   "cell_type": "code",
   "execution_count": 11,
   "metadata": {
    "collapsed": false
   },
   "outputs": [],
   "source": [
    "import pickle\n",
    "with open('hex.pickle', mode='wb') as h:\n",
    "    pickle.dump({'H': H, 'H_t': H_t, 'HEX_sparse': HEX_sparse, 'HEX_dense': HEX_dense}, h)"
   ]
  },
  {
   "cell_type": "code",
   "execution_count": null,
   "metadata": {
    "collapsed": false
   },
   "outputs": [],
   "source": [
    "import matplotlib.pyplot as plt\n",
    "import networkx as nx\n",
    "%matplotlib inline\n",
    "def visualize(m, directed):\n",
    "    G = nx.DiGraph() if directed else nx.Graph()\n",
    "    G.add_nodes_from(id_name)\n",
    "    xs, ys = np.nonzero(m)\n",
    "    xs = map(lambda x: id_name[x], xs)\n",
    "    ys = map(lambda x: id_name[x], ys)\n",
    "    G.add_edges_from(zip(xs, ys))\n",
    "    # nx.write_dot(G, 'test.dot')\n",
    "    plt.figure(figsize=(10, 8))\n",
    "    nx.draw(G, pos=nx.spring_layout(G), node_color='white', node_size=2000, with_labels=True)\n",
    "    plt.show()"
   ]
  },
  {
   "cell_type": "code",
   "execution_count": null,
   "metadata": {
    "collapsed": false
   },
   "outputs": [],
   "source": [
    "visualize(HEX_sparse, True)"
   ]
  },
  {
   "cell_type": "code",
   "execution_count": null,
   "metadata": {
    "collapsed": true
   },
   "outputs": [],
   "source": []
  }
 ],
 "metadata": {
  "kernelspec": {
   "display_name": "Python 2",
   "language": "python",
   "name": "python2"
  },
  "language_info": {
   "codemirror_mode": {
    "name": "ipython",
    "version": 2
   },
   "file_extension": ".py",
   "mimetype": "text/x-python",
   "name": "python",
   "nbconvert_exporter": "python",
   "pygments_lexer": "ipython2",
   "version": "2.7.6"
  }
 },
 "nbformat": 4,
 "nbformat_minor": 0
}
