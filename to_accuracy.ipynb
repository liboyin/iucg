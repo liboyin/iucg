{
 "cells": [
  {
   "cell_type": "code",
   "execution_count": 1,
   "metadata": {
    "collapsed": true
   },
   "outputs": [],
   "source": [
    "import pickle\n",
    "with open('cache/df.0.pickle', mode='rb') as h:\n",
    "    _, df_test = pickle.load(h)\n",
    "with open('cache/hex.pickle', mode='rb') as h:\n",
    "    hex_data = pickle.load(h)"
   ]
  },
  {
   "cell_type": "code",
   "execution_count": 2,
   "metadata": {
    "collapsed": true
   },
   "outputs": [],
   "source": [
    "import numpy as np\n",
    "from collections import Counter\n",
    "labels = df_test['label']\n",
    "label_counts = Counter(labels).values()  # used as dict<label, #_of_occurrence>\n",
    "def get_accuracy(Y, normalize=True):\n",
    "    \"\"\"\n",
    "    Calculates the leaf accuracy of a prediction, decomposed to labels.\n",
    "    For boolean y from CRF, leaf nodes compete in state space; for numerical y, leaf nodes compete explicitly\n",
    "    Args:\n",
    "        Y: N * D matrix of prediction. Data type may be either numerical or boolean.\n",
    "        normalize: if False, returns positive counts instead of accuracy.\n",
    "    \"\"\"\n",
    "    is_bool = Y.dtype == bool\n",
    "    by_label = np.zeros(20, dtype=int)\n",
    "    for i in range(0, len(Y)):\n",
    "        l, y = labels[i], Y[i]\n",
    "        if (is_bool and y[l]) or (not is_bool and np.argmax(y[:20]) == l):\n",
    "            by_label[l] += 1\n",
    "    overall = by_label.sum()\n",
    "    if normalize:\n",
    "        by_label = by_label.astype(float) / label_counts\n",
    "        overall = float(overall) / len(Y)\n",
    "    return by_label, overall"
   ]
  },
  {
   "cell_type": "code",
   "execution_count": 3,
   "metadata": {
    "collapsed": true
   },
   "outputs": [],
   "source": [
    "def get_opt_model(model_Y):\n",
    "    scores = [get_accuracy(Y)[1] for Y in model_Y]\n",
    "    opt_model = np.argmax(scores)\n",
    "    return opt_model, scores[opt_model]"
   ]
  },
  {
   "cell_type": "code",
   "execution_count": 4,
   "metadata": {
    "collapsed": true
   },
   "outputs": [],
   "source": [
    "D = len(hex_data['id_name'])\n",
    "state_space = filter(lambda x: x[:20].any(), hex_data['state_space'])  # limit state space to leaf node\n",
    "def to_crf(Y, pos_neg):\n",
    "    def to_crf_step(y):\n",
    "        if pos_neg:\n",
    "            scores = map(lambda s: np.log(y[s]).sum() + np.log(1 - y[np.logical_not(s)]).sum(), state_space)\n",
    "        else:\n",
    "            scores = map(lambda s: np.log(y[s]).sum(), state_space)\n",
    "        return state_space[np.argmax(scores)]\n",
    "    return np.array(map(to_crf_step, Y), dtype=bool)"
   ]
  },
  {
   "cell_type": "code",
   "execution_count": 8,
   "metadata": {
    "collapsed": false
   },
   "outputs": [
    {
     "name": "stdout",
     "output_type": "stream",
     "text": [
      "iter=7, raw=0.724465558195, crf=0.725059382423, p&n_crf=0.722684085511\n"
     ]
    }
   ],
   "source": [
    "from scipy.special import expit as sigmoid\n",
    "# caffe\n",
    "iter_Y = np.load('results/test_caffe.0.npy')\n",
    "iter_Y = sigmoid(iter_Y)  # to probability\n",
    "opt_iter, raw_acc = get_opt_model(iter_Y)\n",
    "crf_acc = get_accuracy(to_crf(iter_Y[opt_iter], pos_neg=False))[1]\n",
    "pncrf_acc = get_accuracy(to_crf(iter_Y[opt_iter], pos_neg=True))[1]\n",
    "print 'iter={}, raw={}, crf={}, p&n_crf={}'.format(opt_iter, raw_acc, crf_acc, pncrf_acc)"
   ]
  },
  {
   "cell_type": "code",
   "execution_count": 11,
   "metadata": {
    "collapsed": false
   },
   "outputs": [
    {
     "name": "stdout",
     "output_type": "stream",
     "text": [
      "kernel=2, raw=0.766627078385, crf=0.764251781473, p&n_crf=0.763657957245\n"
     ]
    }
   ],
   "source": [
    "# svm\n",
    "kernel_Y = np.load('results/test_svm.0.prob.npy')\n",
    "opt_kernel, raw_acc = get_opt_model(kernel_Y)\n",
    "crf_acc = get_accuracy(to_crf(kernel_Y[opt_kernel], pos_neg=False))[1]\n",
    "pncrf_acc = get_accuracy(to_crf(kernel_Y[opt_kernel], pos_neg=True))[1]\n",
    "print 'kernel={}, raw={}, crf={}, p&n_crf={}'.format(opt_kernel, raw_acc, crf_acc, pncrf_acc)"
   ]
  }
 ],
 "metadata": {
  "kernelspec": {
   "display_name": "Python 2",
   "language": "python",
   "name": "python2"
  },
  "language_info": {
   "codemirror_mode": {
    "name": "ipython",
    "version": 2
   },
   "file_extension": ".py",
   "mimetype": "text/x-python",
   "name": "python",
   "nbconvert_exporter": "python",
   "pygments_lexer": "ipython2",
   "version": "2.7.6"
  }
 },
 "nbformat": 4,
 "nbformat_minor": 0
}
