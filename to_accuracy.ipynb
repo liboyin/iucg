{
 "cells": [
  {
   "cell_type": "code",
   "execution_count": 1,
   "metadata": {
    "collapsed": true
   },
   "outputs": [],
   "source": [
    "import numpy as np\n",
    "import pickle\n",
    "from learnable_crf import LearnableCrf\n",
    "from lib import *\n",
    "from scipy.special import expit as sigmoid"
   ]
  },
  {
   "cell_type": "code",
   "execution_count": 2,
   "metadata": {
    "collapsed": false
   },
   "outputs": [],
   "source": [
    "with open('cache/df_val_test.pickle', mode='rb') as h:\n",
    "    df_val, df_test = pickle.load(h)\n",
    "Y_val = df_val['label']\n",
    "Y_test = df_test['label']\n",
    "with open('cache/hex.pickle', mode='rb') as h:\n",
    "    hex_data = pickle.load(h)\n",
    "id_fh = map(lambda x: list(max(x, key=len)), hex_data['id_hierarchical_labels'])  # convert to list for addressing\n",
    "state_space = hex_data['state_space']\n",
    "state_space = filter(lambda x: x[:20].any(), state_space)"
   ]
  },
  {
   "cell_type": "code",
   "execution_count": 3,
   "metadata": {
    "collapsed": false
   },
   "outputs": [],
   "source": [
    "r = 90\n",
    "with open('cache/df_train.{}.pickle'.format(r), mode='rb') as h:\n",
    "    df = pickle.load(h)\n",
    "leaves = np.nonzero([x[0] in x[1] for x in zip(df['label'], df['pseudo_label'])])[0]\n",
    "Y_train = df['label'][leaves]"
   ]
  },
  {
   "cell_type": "code",
   "execution_count": 4,
   "metadata": {
    "collapsed": false
   },
   "outputs": [],
   "source": [
    "model_Phi_train = np.load('results/svm_distance/kern_Phi_train.{}.npy'.format(r))[:, leaves]\n",
    "model_Phi_val = np.load('results/svm_distance/kern_Phi_val.{}.npy'.format(r))\n",
    "model_Phi_test = np.load('results/svm_distance/kern_Phi_test.{}.npy'.format(r))\n",
    "M = len(model_Phi_train)"
   ]
  },
  {
   "cell_type": "code",
   "execution_count": 5,
   "metadata": {
    "collapsed": true
   },
   "outputs": [],
   "source": [
    "model_Phi_train = sigmoid(model_Phi_train)\n",
    "model_Phi_val = sigmoid(model_Phi_val)\n",
    "model_Phi_test = sigmoid(model_Phi_test)"
   ]
  },
  {
   "cell_type": "code",
   "execution_count": 6,
   "metadata": {
    "collapsed": true
   },
   "outputs": [],
   "source": [
    "def confusion_matrix(Y_predict, Y_truth):\n",
    "    if Y_predict.dtype == bool:\n",
    "        cm = np.zeros((27, 27), dtype=int)\n",
    "        count = np.zeros(27, dtype=int)\n",
    "        for i, y in enumerate(Y_predict):\n",
    "            count[id_fh[Y_truth[i]]] += 1\n",
    "            cm[id_fh[Y_truth[i]], :] += y\n",
    "    else:\n",
    "        cm = np.zeros((20, 27), dtype=int)\n",
    "        count = np.zeros(20, dtype=int)\n",
    "        for i, y in enumerate(Y_predict):\n",
    "            count[Y_truth[i]] += 1\n",
    "            cm[Y_truth[i], y.argmax()] += 1\n",
    "    return cm.astype(float) / count[:, None]"
   ]
  },
  {
   "cell_type": "code",
   "execution_count": null,
   "metadata": {
    "collapsed": true
   },
   "outputs": [],
   "source": [
    "def crf(Phi):\n",
    "    def step(phi):\n",
    "        scores = map(lambda s: phi[s].sum() + ((1-phi)[np.logical_not(s)]).sum(), state_space)\n",
    "#         return state_space[np.argmax(scores)]\n",
    "        return np.vstack(tuple(state_space[np.argsort(scores)[i]] for i in range(-3, 0)))\n",
    "    return np.array(map(step, Phi), dtype=bool)"
   ]
  },
  {
   "cell_type": "code",
   "execution_count": null,
   "metadata": {
    "collapsed": false
   },
   "outputs": [],
   "source": [
    "# [get_accuracy(model_Phi_val[i], Y_val, lim_states=False) for i in range(0, M)]\n",
    "# [top_k_accuracy(model_Phi_val[i], Y_val, k=3, lim_states=False) for i in range(0, M)]\n",
    "# [get_accuracy(crf(model_Phi_val[i]), Y_val) for i in range(0, M)]\n",
    "[top_k_accuracy(crf(model_Phi_val[i]), Y_val, k=3) for i in range(0, M)]"
   ]
  },
  {
   "cell_type": "code",
   "execution_count": null,
   "metadata": {
    "collapsed": false
   },
   "outputs": [],
   "source": [
    "# [get_accuracy(model_Phi_test[i], Y_test, lim_states=False) for i in range(0, M)]\n",
    "# [top_k_accuracy(model_Phi_test[i], Y_test, k=3, lim_states=False) for i in range(0, M)]\n",
    "# [get_accuracy(crf(model_Phi_test[i]), Y_test) for i in range(0, M)]\n",
    "[top_k_accuracy(crf(model_Phi_test[i]), Y_test, k=3) for i in range(0, M)]"
   ]
  },
  {
   "cell_type": "code",
   "execution_count": null,
   "metadata": {
    "collapsed": false
   },
   "outputs": [],
   "source": [
    "# np.diagonal(confusion_matrix(model_Phi_test[0], Y_test))\n",
    "np.diagonal(confusion_matrix(crf(model_Phi_test[2]), Y_test))"
   ]
  },
  {
   "cell_type": "code",
   "execution_count": 9,
   "metadata": {
    "collapsed": false
   },
   "outputs": [
    {
     "data": {
      "text/plain": [
       "[0.7660332541567696, 0.668646080760095, 0.6775534441805225]"
      ]
     },
     "execution_count": 9,
     "metadata": {},
     "output_type": "execute_result"
    }
   ],
   "source": [
    "# lcrf = [LearnableCrf(model_Phi_train[i], Y_train) for i in range(0, M)]\n",
    "# [get_accuracy(lcrf[i].predict(model_Phi_val[i]), Y_val) for i in range(0, M)]\n",
    "[top_k_accuracy(lcrf[i].predict_top3(model_Phi_val[i]), Y_val, k=3) for i in range(0, M)]"
   ]
  },
  {
   "cell_type": "code",
   "execution_count": 10,
   "metadata": {
    "collapsed": false
   },
   "outputs": [
    {
     "data": {
      "text/plain": [
       "[0.7553444180522565, 0.6543942992874109, 0.6579572446555819]"
      ]
     },
     "execution_count": 10,
     "metadata": {},
     "output_type": "execute_result"
    }
   ],
   "source": [
    "# [get_accuracy(lcrf[i].predict(model_Phi_test[i]), Y_test) for i in range(0, M)]\n",
    "[top_k_accuracy(lcrf[i].predict_top3(model_Phi_test[i]), Y_test, k=3) for i in range(0, M)]"
   ]
  },
  {
   "cell_type": "code",
   "execution_count": null,
   "metadata": {
    "collapsed": false
   },
   "outputs": [],
   "source": [
    "np.diagonal(confusion_matrix(lcrf[0].predict(model_Phi_test[0]), Y_test))"
   ]
  },
  {
   "cell_type": "code",
   "execution_count": null,
   "metadata": {
    "collapsed": false
   },
   "outputs": [],
   "source": [
    "lcrf[0].opt_theta"
   ]
  },
  {
   "cell_type": "code",
   "execution_count": null,
   "metadata": {
    "collapsed": true
   },
   "outputs": [],
   "source": []
  }
 ],
 "metadata": {
  "kernelspec": {
   "display_name": "Python 2",
   "language": "python",
   "name": "python2"
  },
  "language_info": {
   "codemirror_mode": {
    "name": "ipython",
    "version": 2
   },
   "file_extension": ".py",
   "mimetype": "text/x-python",
   "name": "python",
   "nbconvert_exporter": "python",
   "pygments_lexer": "ipython2",
   "version": "2.7.6"
  }
 },
 "nbformat": 4,
 "nbformat_minor": 0
}
