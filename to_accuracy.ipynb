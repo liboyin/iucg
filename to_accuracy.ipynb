{
 "cells": [
  {
   "cell_type": "code",
   "execution_count": 1,
   "metadata": {
    "collapsed": true
   },
   "outputs": [],
   "source": [
    "import numpy as np\n",
    "import pickle\n",
    "from learnable_crf import LearnableCrf\n",
    "from lib import *\n",
    "from scipy.special import expit as sigmoid"
   ]
  },
  {
   "cell_type": "code",
   "execution_count": 2,
   "metadata": {
    "collapsed": false
   },
   "outputs": [],
   "source": [
    "with open('cache/df_val_test.pickle', mode='rb') as h:\n",
    "    df_val, df_test = pickle.load(h)\n",
    "Y_val = df_val['label']\n",
    "Y_test = df_test['label']\n",
    "with open('cache/hex.pickle', mode='rb') as h:\n",
    "    hex_data = pickle.load(h)\n",
    "id_fh = map(lambda x: list(max(x, key=len)), hex_data['id_hierarchical_labels'])  # convert to list for addressing\n",
    "state_space = hex_data['state_space']\n",
    "# state_space = filter(lambda x: x[:20].any(), state_space)"
   ]
  },
  {
   "cell_type": "code",
   "execution_count": 3,
   "metadata": {
    "collapsed": false
   },
   "outputs": [],
   "source": [
    "r = 0\n",
    "with open('cache/df_train.{}.pickle'.format(r), mode='rb') as h:\n",
    "    df = pickle.load(h)\n",
    "leaves = np.nonzero([x[0] in x[1] for x in zip(df['label'], df['pseudo_label'])])[0]\n",
    "Y_train = df['label'][leaves]"
   ]
  },
  {
   "cell_type": "code",
   "execution_count": 4,
   "metadata": {
    "collapsed": false
   },
   "outputs": [],
   "source": [
    "model_Phi_train = np.load('results/caffe_independent/iter_Phi_train.{}.npy'.format(r))[:, leaves]\n",
    "model_Phi_val = np.load('results/caffe_independent/iter_Phi_val.{}.npy'.format(r))\n",
    "model_Phi_test = np.load('results/caffe_independent/iter_Phi_test.{}.npy'.format(r))\n",
    "M = len(model_Phi_train)"
   ]
  },
  {
   "cell_type": "code",
   "execution_count": 5,
   "metadata": {
    "collapsed": true
   },
   "outputs": [],
   "source": [
    "def confusion_matrix(Y_predict, Y_truth):\n",
    "    if Y_predict.dtype == bool:\n",
    "        cm = np.zeros((27, 27), dtype=int)\n",
    "        count = np.zeros(27, dtype=int)\n",
    "        for i, y in enumerate(Y_predict):\n",
    "            count[id_fh[Y_truth[i]]] += 1\n",
    "            cm[id_fh[Y_truth[i]], :] += y\n",
    "    else:\n",
    "        cm = np.zeros((20, 27), dtype=int)\n",
    "        count = np.zeros(20, dtype=int)\n",
    "        for i, y in enumerate(Y_predict):\n",
    "            count[Y_truth[i]] += 1\n",
    "            cm[Y_truth[i], y.argmax()] += 1\n",
    "    return cm.astype(float) / count[:, None]"
   ]
  },
  {
   "cell_type": "code",
   "execution_count": null,
   "metadata": {
    "collapsed": true
   },
   "outputs": [],
   "source": [
    "def raw_crf(Phi):\n",
    "    def step(phi):\n",
    "        scores = map(lambda s: phi[s].sum(), state_space)\n",
    "#         return np.vstack(tuple(state_space[np.argsort(scores)[i]] for i in range(-5, 0)))\n",
    "        return state_space[np.argmax(scores)]\n",
    "    return np.array(map(step, Phi), dtype=bool)"
   ]
  },
  {
   "cell_type": "code",
   "execution_count": null,
   "metadata": {
    "collapsed": false
   },
   "outputs": [],
   "source": [
    "# [get_accuracy(model_Phi_val[i], Y_val, lim_states=False) for i in range(0, M)]\n",
    "[get_accuracy(raw_crf(model_Phi_val[i]), Y_val) for i in range(0, M)]"
   ]
  },
  {
   "cell_type": "code",
   "execution_count": null,
   "metadata": {
    "collapsed": false
   },
   "outputs": [],
   "source": [
    "# [get_accuracy(model_Phi_test[i], Y_test, lim_states=False) for i in range(0, M)]\n",
    "[get_accuracy(raw_crf(model_Phi_test[i]), Y_test) for i in range(0, M)]"
   ]
  },
  {
   "cell_type": "code",
   "execution_count": null,
   "metadata": {
    "collapsed": false
   },
   "outputs": [],
   "source": [
    "# np.diagonal(confusion_matrix(model_Phi_test[1], Y_test))\n",
    "np.diagonal(confusion_matrix(raw_crf(model_Phi_test[1]), Y_test))"
   ]
  },
  {
   "cell_type": "code",
   "execution_count": 5,
   "metadata": {
    "collapsed": false
   },
   "outputs": [
    {
     "data": {
      "text/plain": [
       "[0.39489311163895485,\n",
       " 0.42695961995249404,\n",
       " 0.4412114014251782,\n",
       " 0.44358669833729214,\n",
       " 0.44299287410926363,\n",
       " 0.44358669833729214,\n",
       " 0.44418052256532065,\n",
       " 0.44418052256532065,\n",
       " 0.44418052256532065,\n",
       " 0.44418052256532065]"
      ]
     },
     "execution_count": 5,
     "metadata": {},
     "output_type": "execute_result"
    }
   ],
   "source": [
    "model_Phi_train = sigmoid(model_Phi_train)\n",
    "model_Phi_val = sigmoid(model_Phi_val)\n",
    "model_Phi_test = sigmoid(model_Phi_test)\n",
    "lcrf = [LearnableCrf(model_Phi_train[i], Y_train) for i in range(0, M)]\n",
    "[get_accuracy(lcrf[i].predict(model_Phi_val[i]), Y_val) for i in range(0, M)]"
   ]
  },
  {
   "cell_type": "code",
   "execution_count": 6,
   "metadata": {
    "collapsed": false
   },
   "outputs": [
    {
     "data": {
      "text/plain": [
       "[0.40498812351543945,\n",
       " 0.4334916864608076,\n",
       " 0.4513064133016627,\n",
       " 0.45308788598574823,\n",
       " 0.45546318289786225,\n",
       " 0.45605700712589076,\n",
       " 0.45605700712589076,\n",
       " 0.45605700712589076,\n",
       " 0.45605700712589076,\n",
       " 0.45605700712589076]"
      ]
     },
     "execution_count": 6,
     "metadata": {},
     "output_type": "execute_result"
    }
   ],
   "source": [
    "[get_accuracy(lcrf[i].predict(model_Phi_test[i]), Y_test) for i in range(0, M)]"
   ]
  },
  {
   "cell_type": "code",
   "execution_count": 8,
   "metadata": {
    "collapsed": false
   },
   "outputs": [
    {
     "data": {
      "text/plain": [
       "array([ 0.        ,  0.        ,  0.        ,  0.        ,  0.        ,\n",
       "        0.        ,  0.        ,  0.83823529,  0.        ,  0.81481481,\n",
       "        0.        ,  0.        ,  0.        ,  0.        ,  0.65217391,\n",
       "        0.23529412,  0.        ,  0.        ,  0.85849057,  0.        ,\n",
       "        0.75486381,  0.66666667,  0.95341615,  0.93192488,  0.87484036,\n",
       "        0.70967742,  0.87119438])"
      ]
     },
     "execution_count": 8,
     "metadata": {},
     "output_type": "execute_result"
    }
   ],
   "source": [
    "np.diagonal(confusion_matrix(lcrf[-1].predict(model_Phi_test[-1]), Y_test))"
   ]
  },
  {
   "cell_type": "code",
   "execution_count": null,
   "metadata": {
    "collapsed": false
   },
   "outputs": [],
   "source": [
    "lcrf[-1].opt_theta"
   ]
  },
  {
   "cell_type": "code",
   "execution_count": null,
   "metadata": {
    "collapsed": true
   },
   "outputs": [],
   "source": []
  }
 ],
 "metadata": {
  "kernelspec": {
   "display_name": "Python 2",
   "language": "python",
   "name": "python2"
  },
  "language_info": {
   "codemirror_mode": {
    "name": "ipython",
    "version": 2
   },
   "file_extension": ".py",
   "mimetype": "text/x-python",
   "name": "python",
   "nbconvert_exporter": "python",
   "pygments_lexer": "ipython2",
   "version": "2.7.10"
  }
 },
 "nbformat": 4,
 "nbformat_minor": 0
}
