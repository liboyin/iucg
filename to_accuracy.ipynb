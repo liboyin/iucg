{
 "cells": [
  {
   "cell_type": "code",
   "execution_count": 1,
   "metadata": {
    "collapsed": false
   },
   "outputs": [],
   "source": [
    "from __future__ import print_function\n",
    "import pickle\n",
    "with open('cache/df.pickle', mode='rb') as h:\n",
    "    _, df_test = pickle.load(h)\n",
    "with open('cache/hex.pickle', mode='rb') as h:\n",
    "    hex_data = pickle.load(h)"
   ]
  },
  {
   "cell_type": "code",
   "execution_count": 2,
   "metadata": {
    "collapsed": true
   },
   "outputs": [],
   "source": [
    "from collections import Counter\n",
    "labels = df_test['label']\n",
    "label_counter = Counter(labels)  # dict<label, #_of_occurrence>\n",
    "id_hls = map(set, hex_data['id_hierarchical_labels'])  # id_hls for id_hierarchical_labels\n",
    "id_fh = map(lambda x: max(x, key=len), id_hls)  # id_fh for id_full_hierarchy"
   ]
  },
  {
   "cell_type": "code",
   "execution_count": 3,
   "metadata": {
    "collapsed": false
   },
   "outputs": [],
   "source": [
    "import numpy as np\n",
    "def get_accuracy(Y, threshold=0, normalize=True):\n",
    "    \"\"\"\n",
    "    Calculates the accuracy of a prediction, decomposed to labels. Numerical predictions are thresholded.\n",
    "    Type 0: leaf accuracy, as used in Deng et al, p13. Note that for boolean y from CRF, leaf nodes compete in state space, whereas for numerical y, leaf nodes compete explicitly\n",
    "    Type 1: prediction IS the full hierarchy\n",
    "    Type 2: prediction COVERS the full hierarchy\n",
    "    Type 3: prediction IS any partial hierarchy\n",
    "    Type 4: prediction COVERS any partial hierarchy\n",
    "    Implication: 1->2, 1->3, 2->4, 3->4\n",
    "    Note that type 2 and 3 are mutually exclusive.\n",
    "    Args:\n",
    "        Y: N * D matrix of prediction. Data type may be either numerical or boolean.\n",
    "        threshold: binarize numerical prediction for accuracy type 1-4. Not needed for binary prediction.\n",
    "        normalize: if False, returns positive count instead of accuracy.\n",
    "    Returns:\n",
    "        21 * 5 matrix, where the last row denotes overall accuracy.\n",
    "    \"\"\"\n",
    "    is_bool = Y.dtype == bool\n",
    "    by_label = np.zeros((20, 5), dtype=int)\n",
    "    for i in range(0, len(Y)):\n",
    "        l, y = labels[i], Y[i]\n",
    "        if (is_bool and y[l]) or (not is_bool and np.argmax(y[:20]) == l):\n",
    "            by_label[l, 0] += 1\n",
    "        y = np.nonzero(y > threshold)[0]\n",
    "        if tuple(y) == id_fh[l]:\n",
    "            by_label[l, 1:] += 1\n",
    "        elif set(id_fh[l]) in set(y):\n",
    "            by_label[l, [2, 4]] += 1\n",
    "        elif tuple(y) in id_hls[l]:\n",
    "            by_label[l, [3, 4]] += 1\n",
    "        elif any(set(x) in set(y) for x in id_hls[l]):\n",
    "            by_label[l, 4] += 1\n",
    "    overall = np.sum(by_label, axis=0, dtype=int)\n",
    "    if normalize:\n",
    "        by_label = by_label.astype(np.float32)\n",
    "        for i in range(0, 20):\n",
    "            by_label[i] /= label_counter[i]\n",
    "        overall = overall.astype(np.float32) / len(Y)\n",
    "    return np.vstack((by_label, overall))"
   ]
  },
  {
   "cell_type": "code",
   "execution_count": 4,
   "metadata": {
    "collapsed": true
   },
   "outputs": [],
   "source": [
    "np.set_printoptions(threshold=np.nan, precision=4)\n",
    "id_name = hex_data['id_name']\n",
    "def accuracy_str(accuracy):\n",
    "    lines = str(accuracy).splitlines()\n",
    "    lines = map(lambda x: x.replace(' [', '['), lines)\n",
    "    lines[0] = lines[0].replace('[[', '[')\n",
    "    for i in range(0, 20):\n",
    "        lines[i] = '{} {}'.format(lines[i], id_name[i])\n",
    "    lines[-1] = '{} {}'.format(lines[-1].replace(']]', ']'), 'overall')\n",
    "    return '\\n'.join(lines)"
   ]
  },
  {
   "cell_type": "code",
   "execution_count": 5,
   "metadata": {
    "collapsed": true
   },
   "outputs": [],
   "source": [
    "def opt_model(model_Y, threshold=0):\n",
    "    print('threshold={0:.2f}'.format(threshold), end='\\r')\n",
    "    scores = [get_accuracy(Y, threshold)[-1, 0] for Y in model_Y]\n",
    "#     scores = [get_accuracy(Y, threshold)[-1, [0, 1, 3]].prod() for Y in model_Y]\n",
    "    opt_model = np.argmax(scores)\n",
    "    return opt_model, scores[opt_model]"
   ]
  },
  {
   "cell_type": "code",
   "execution_count": 6,
   "metadata": {
    "collapsed": true
   },
   "outputs": [],
   "source": [
    "def opt_model_threshold(model_Y):\n",
    "    \"\"\"\n",
    "    Performes an exaustive search for the model and threshold, as used in @get_accuracy.\n",
    "    The range of threshold is [-0.5, 0.5], with step size 0.1.\n",
    "    Args:\n",
    "        model_Y: M * N * D matrix, where M is the number of models.\n",
    "    \"\"\"\n",
    "    thresholds = np.linspace(-0.5, 0.5, num=101)\n",
    "    thres_opt_model, thres_score = zip(*[opt_model(model_Y, t) for t in thresholds])\n",
    "    \n",
    "    print(thres_opt_model, thres_score)\n",
    "    \n",
    "    opt_thres = np.argmax(thres_score)\n",
    "    return thres_opt_model[opt_thres], thresholds[opt_thres]"
   ]
  },
  {
   "cell_type": "code",
   "execution_count": 7,
   "metadata": {
    "collapsed": true
   },
   "outputs": [],
   "source": [
    "state_space = hex_data['state_space']\n",
    "def to_crf(Y, leaf_weight=4):\n",
    "    w = np.hstack(([leaf_weight] * 20, [1] * (len(id_name) - 20)))\n",
    "    def to_crf_step(y):\n",
    "        scores = map(lambda s: (w * y)[s].sum(), state_space)\n",
    "        return state_space[np.argmax(scores)]\n",
    "    return np.array(map(to_crf_step, Y), dtype=bool)"
   ]
  },
  {
   "cell_type": "code",
   "execution_count": 8,
   "metadata": {
    "collapsed": false,
    "scrolled": false
   },
   "outputs": [
    {
     "name": "stdout",
     "output_type": "stream",
     "text": [
      "opt_iter=3\n",
      "raw\n",
      "[ 0.3333  0.      0.      0.      0.    ] diningtable\n",
      "[ 0.1136  0.      0.      0.      0.    ] chair\n",
      "[ 0.0506  0.      0.      0.      0.    ] sofa\n",
      "[ 0.      0.      0.      0.      0.    ] bottle\n",
      "[ 0.      0.      0.      0.      0.    ] pottedplant\n",
      "[ 0.6809  0.      0.      0.      0.    ] tvmonitor\n",
      "[ 0.5146  0.      0.      0.      0.    ] train\n",
      "[ 0.641   0.      0.      0.      0.    ] bus\n",
      "[ 0.5357  0.      0.      0.      0.    ] car\n",
      "[ 0.6154  0.      0.      0.      0.    ] bicycle\n",
      "[ 0.4815  0.      0.      0.      0.    ] motorbike\n",
      "[ 0.8134  0.      0.      0.      0.    ] aeroplane\n",
      "[ 0.481   0.      0.      0.      0.    ] boat\n",
      "[ 0.      0.      0.      0.      0.    ] cow\n",
      "[ 0.125   0.      0.      0.      0.    ] horse\n",
      "[ 0.      0.      0.      0.      0.    ] sheep\n",
      "[ 0.325   0.      0.      0.      0.    ] dog\n",
      "[ 0.5706  0.      0.      0.      0.    ] cat\n",
      "[ 0.4519  0.      0.      0.      0.    ] bird\n",
      "[ 0.7299  0.      0.      0.      0.    ] person\n",
      "[ 0.459   0.      0.      0.      0.    ] overall\n",
      "crf\n",
      "[ 0.381   0.381   0.381   0.381   0.381 ] diningtable\n",
      "[ 0.1818  0.1818  0.1818  0.1818  0.1818] chair\n",
      "[ 0.0506  0.0506  0.0506  0.0506  0.0506] sofa\n",
      "[ 0.      0.      0.      0.      0.    ] bottle\n",
      "[ 0.      0.      0.      0.      0.    ] pottedplant\n",
      "[ 0.617   0.617   0.617   0.617   0.617 ] tvmonitor\n",
      "[ 0.6019  0.6019  0.6019  0.6019  0.6019] train\n",
      "[ 0.6667  0.6667  0.6667  0.6667  0.6667] bus\n",
      "[ 0.5446  0.5446  0.5446  0.5446  0.5446] car\n",
      "[ 0.6538  0.6538  0.6538  0.6538  0.6538] bicycle\n",
      "[ 0.4815  0.4815  0.4815  0.4815  0.4815] motorbike\n",
      "[ 0.7015  0.7015  0.7015  0.7015  0.7015] aeroplane\n",
      "[ 0.443   0.443   0.443   0.443   0.443 ] boat\n",
      "[ 0.      0.      0.      0.      0.    ] cow\n",
      "[ 0.25    0.25    0.25    0.25    0.25  ] horse\n",
      "[ 0.      0.      0.      0.      0.    ] sheep\n",
      "[ 0.3938  0.3938  0.3938  0.3938  0.3938] dog\n",
      "[ 0.6836  0.6836  0.6836  0.6836  0.6836] cat\n",
      "[ 0.5185  0.5185  0.5185  0.5185  0.5185] bird\n",
      "[ 0.5517  0.5517  0.5517  0.5517  0.5517] person\n",
      "[ 0.4685  0.4685  0.4685  0.4685  0.4685] overall\n"
     ]
    }
   ],
   "source": [
    "# caffe\n",
    "iter_Y = np.load('results/test_caffe_4.npy')\n",
    "# iter_Y = np.tanh(iter_Y)\n",
    "opt_iter, _ = opt_model(iter_Y)\n",
    "print('opt_iter={}'.format(opt_iter))\n",
    "print('raw\\n' + accuracy_str(get_accuracy(iter_Y[opt_iter])))\n",
    "print('crf\\n' + accuracy_str(get_accuracy(to_crf(iter_Y[opt_iter]))))"
   ]
  },
  {
   "cell_type": "code",
   "execution_count": 9,
   "metadata": {
    "collapsed": false
   },
   "outputs": [
    {
     "name": "stdout",
     "output_type": "stream",
     "text": [
      "opt_kernel=2\n",
      "raw\n",
      "[ 0.5238  0.      0.      0.      0.    ] diningtable\n",
      "[ 0.3864  0.      0.      0.      0.    ] chair\n",
      "[ 0.557   0.      0.      0.      0.    ] sofa\n",
      "[ 0.6129  0.      0.      0.      0.    ] bottle\n",
      "[ 0.4     0.      0.      0.      0.    ] pottedplant\n",
      "[ 0.7234  0.      0.      0.      0.    ] tvmonitor\n",
      "[ 0.8641  0.      0.      0.      0.    ] train\n",
      "[ 0.8846  0.      0.      0.      0.    ] bus\n",
      "[ 0.7054  0.      0.      0.      0.    ] car\n",
      "[ 0.6731  0.      0.      0.      0.    ] bicycle\n",
      "[ 0.7778  0.      0.      0.      0.    ] motorbike\n",
      "[ 0.8806  0.      0.      0.      0.    ] aeroplane\n",
      "[ 0.7848  0.      0.      0.      0.    ] boat\n",
      "[ 0.4286  0.      0.      0.      0.    ] cow\n",
      "[ 0.5139  0.      0.      0.      0.    ] horse\n",
      "[ 0.5676  0.      0.      0.      0.    ] sheep\n",
      "[ 0.7188  0.      0.      0.      0.    ] dog\n",
      "[ 0.8079  0.      0.      0.      0.    ] cat\n",
      "[ 0.837   0.      0.      0.      0.    ] bird\n",
      "[ 0.8391  0.      0.      0.      0.    ] person\n",
      "[ 0.734   0.      0.      0.      0.    ] overall\n",
      "crf\n",
      "[ 0.619   0.619   0.619   0.619   0.619 ] diningtable\n",
      "[ 0.4091  0.4091  0.4091  0.4091  0.4091] chair\n",
      "[ 0.5823  0.5823  0.5823  0.5823  0.5823] sofa\n",
      "[ 0.5806  0.5806  0.5806  0.5806  0.5806] bottle\n",
      "[ 0.4     0.4     0.4     0.4     0.4   ] pottedplant\n",
      "[ 0.7021  0.7021  0.7021  0.7021  0.7021] tvmonitor\n",
      "[ 0.9029  0.9029  0.9029  0.9029  0.9029] train\n",
      "[ 0.8846  0.8846  0.8846  0.8846  0.8846] bus\n",
      "[ 0.7679  0.7679  0.7679  0.7679  0.7679] car\n",
      "[ 0.7308  0.7308  0.7308  0.7308  0.7308] bicycle\n",
      "[ 0.7963  0.7963  0.7963  0.7963  0.7963] motorbike\n",
      "[ 0.8731  0.8731  0.8731  0.8731  0.8731] aeroplane\n",
      "[ 0.7595  0.7595  0.7595  0.7595  0.7595] boat\n",
      "[ 0.5306  0.5306  0.5306  0.5306  0.5306] cow\n",
      "[ 0.5694  0.5694  0.5694  0.5694  0.5694] horse\n",
      "[ 0.5946  0.5946  0.5946  0.5946  0.5946] sheep\n",
      "[ 0.75    0.75    0.75    0.75    0.75  ] dog\n",
      "[ 0.8249  0.8249  0.8249  0.8249  0.8249] cat\n",
      "[ 0.8889  0.8889  0.8889  0.8889  0.8889] bird\n",
      "[ 0.7529  0.7529  0.7529  0.7529  0.7529] person\n",
      "[ 0.75    0.75    0.75    0.75    0.75  ] overall\n"
     ]
    }
   ],
   "source": [
    "# svm\n",
    "kernel_Y = np.load('results/test_svm_4.npy')\n",
    "# kernel_Y = np.log(kernel_Y / (1 - kernel_Y))  # log ratio for probability\n",
    "opt_kernel, _ = opt_model(kernel_Y)\n",
    "print('opt_kernel={0}'.format(opt_kernel))\n",
    "print('raw\\n' + accuracy_str(get_accuracy(kernel_Y[opt_kernel])))\n",
    "print('crf\\n' + accuracy_str(get_accuracy(to_crf(kernel_Y[opt_kernel]))))"
   ]
  },
  {
   "cell_type": "code",
   "execution_count": null,
   "metadata": {
    "collapsed": true
   },
   "outputs": [],
   "source": []
  }
 ],
 "metadata": {
  "kernelspec": {
   "display_name": "Python 2",
   "language": "python",
   "name": "python2"
  },
  "language_info": {
   "codemirror_mode": {
    "name": "ipython",
    "version": 2
   },
   "file_extension": ".py",
   "mimetype": "text/x-python",
   "name": "python",
   "nbconvert_exporter": "python",
   "pygments_lexer": "ipython2",
   "version": "2.7.6"
  }
 },
 "nbformat": 4,
 "nbformat_minor": 0
}
