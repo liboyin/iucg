{
 "cells": [
  {
   "cell_type": "code",
   "execution_count": 1,
   "metadata": {
    "collapsed": false
   },
   "outputs": [],
   "source": [
    "from __future__ import print_function\n",
    "import pickle\n",
    "with open('cache/df.pickle', mode='rb') as h:\n",
    "    _, df_test = pickle.load(h)\n",
    "with open('cache/hex.pickle', mode='rb') as h:\n",
    "    hex_data = pickle.load(h)"
   ]
  },
  {
   "cell_type": "code",
   "execution_count": 2,
   "metadata": {
    "collapsed": true
   },
   "outputs": [],
   "source": [
    "from collections import Counter\n",
    "labels = df_test['label']\n",
    "label_counter = Counter(labels)  # dict<label, #_of_occurrence>\n",
    "id_hls = map(set, hex_data['id_hierarchical_labels'])  # id_hls for id_hierarchical_labels\n",
    "id_fh = map(lambda x: max(x, key=len), id_hls)  # id_fh for id_full_hierarchy"
   ]
  },
  {
   "cell_type": "code",
   "execution_count": 3,
   "metadata": {
    "collapsed": false
   },
   "outputs": [],
   "source": [
    "import numpy as np\n",
    "def get_accuracy(Y, threshold=0, normalize=True):\n",
    "    \"\"\"\n",
    "    Calculates the accuracy of a prediction, decomposed to labels. Numerical predictions are thresholded.\n",
    "    Type 0: Leaf accuracy, as used in Deng et al, p13.\n",
    "    Type 1: Prediction IS the full hierarchy\n",
    "    Type 2: Prediction COVERS the full hierarchy\n",
    "    Type 3: Prediction IS any partial hierarchy\n",
    "    Type 4: Prediction COVERS any partial hierarchy\n",
    "    Implication: 1->2, 1->3, 2->4, 3->4\n",
    "    Note that type 2 and 3 are mutually exclusive.\n",
    "    Args:\n",
    "        Y: N * D matrix of prediction. Data type may be either numerical or boolean.\n",
    "        threshold: binarize numerical prediction for accuracy type 1-4.\n",
    "        normalize: if set to False, returns positive count instead of accuracy.\n",
    "    Returns:\n",
    "        21 * 5 matrix, where the last row denotes overall accuracy.\n",
    "    \"\"\"\n",
    "    is_bool = Y.dtype == np.bool\n",
    "    by_label = np.zeros((20, 5), dtype=np.uint16)\n",
    "    for i in range(0, len(Y)):\n",
    "        l = labels[i]\n",
    "        y = Y[i]\n",
    "        if is_bool:  # for boolean y, leaf nodes compete in state space\n",
    "            if y[l]:\n",
    "                by_label[l, 0] += 1\n",
    "        else:\n",
    "            if np.argmax(y[:20]) == l:  # for numerical y, leaf nodes compete explicitly\n",
    "                by_label[l, 0] += 1\n",
    "        y = np.nonzero((y / y.max()) > threshold)[0]  # TODO: is normalization necessary?\n",
    "        if tuple(y) == id_fh[l]:\n",
    "            by_label[l, 1:] += 1\n",
    "        elif set(id_fh[l]) in set(y):\n",
    "            by_label[l, [2, 4]] += 1\n",
    "        elif tuple(y) in id_hls[l]:\n",
    "            by_label[l, [3, 4]] += 1\n",
    "        elif any(set(x) in set(y) for x in id_hls[l]):\n",
    "            by_label[l, 4] += 1\n",
    "    overall = np.sum(by_label, axis=0, dtype=np.uint16)\n",
    "    if normalize:\n",
    "        by_label = by_label.astype(np.float32)\n",
    "        for i in range(0, 20):\n",
    "            by_label[i] /= label_counter[i]\n",
    "        overall = overall.astype(np.float32) / len(Y)\n",
    "    return np.vstack((by_label, overall))"
   ]
  },
  {
   "cell_type": "code",
   "execution_count": 4,
   "metadata": {
    "collapsed": true
   },
   "outputs": [],
   "source": [
    "np.set_printoptions(precision=4)\n",
    "id_name = hex_data['id_name']\n",
    "def accuracy_str(accuracy):\n",
    "    \"\"\"\n",
    "    Makes a pretty version of @get_accuracy result.\n",
    "    \"\"\"\n",
    "    lines = str(accuracy).split('\\n')\n",
    "    lines[0] = lines[0].replace('[[', '[')\n",
    "    lines[-1] = lines[-1].replace(']]', ']')\n",
    "    for i in range(0, 20):\n",
    "        lines[i] = '{} {}'.format(lines[i].replace(' [', '['), id_name[i])\n",
    "    lines[-1] = '{} {}'.format(lines[-1].replace(' [', '['), 'overall')\n",
    "    return '\\n'.join(lines)"
   ]
  },
  {
   "cell_type": "code",
   "execution_count": 5,
   "metadata": {
    "collapsed": false
   },
   "outputs": [],
   "source": [
    "def opt_model_threshold(model_Y):\n",
    "    \"\"\"\n",
    "    Performes an exaustive search for the model and threshold (as used in @get_accuracy) within [-0.5, 0.5], with a step size of 0.1.\n",
    "    Search criteria is (type_0 * type_1 * type_3) of a prediction's overall accuracy.\n",
    "    Args:\n",
    "        model_Y: M * N * D matrix, where M is the number of models.\n",
    "    Returns:\n",
    "        opt_model: index of the optimal model in [0, M).\n",
    "        thresholds[opt_model]: the optimal threshold.\n",
    "    \"\"\"\n",
    "    def opt_threshold(Y, model):  # @model is just for printing progress\n",
    "        opt_thres, opt_score = 0, 0\n",
    "        for t in np.linspace(-0.5, 0.5, num=101):\n",
    "            print('model={0}, threshold={1:.2f}'.format(model, t), end='\\r')\n",
    "            accuracy = get_accuracy(Y, threshold=t)[-1]\n",
    "            score = accuracy[0] * accuracy[1] * accuracy[3]\n",
    "            if score > opt_score:\n",
    "                opt_thres, opt_score = t, score\n",
    "        return opt_thres, opt_score\n",
    "    results = list()\n",
    "    for i in range(0, len(model_Y)):\n",
    "        results.append(opt_threshold(model_Y[i], i))\n",
    "    thresholds, scores = zip(*results)\n",
    "    opt_model = np.argmax(scores)\n",
    "    return opt_model, thresholds[opt_model]"
   ]
  },
  {
   "cell_type": "code",
   "execution_count": 6,
   "metadata": {
    "collapsed": true
   },
   "outputs": [],
   "source": [
    "def opt_model(model_Y):\n",
    "    accuracies = [get_accuracy(Y)[-1] for Y in model_Y]\n",
    "    scores = map(lambda x: x[0] * x[1] * x[3], accuracies)\n",
    "    return np.argmax(scores)"
   ]
  },
  {
   "cell_type": "code",
   "execution_count": 7,
   "metadata": {
    "collapsed": true
   },
   "outputs": [],
   "source": [
    "state_space = hex_data['state_space']\n",
    "def to_crf(Y, leaf_weight=4):\n",
    "    w = np.ones(Y.shape[1], dtype=np.float32)\n",
    "    w[:20] = leaf_weight\n",
    "    def to_crf_step(y):\n",
    "        scores = map(lambda s: (w * y)[s].sum(), state_space)\n",
    "        return state_space[np.argmax(scores)]\n",
    "    return np.array(map(to_crf_step, Y), dtype=np.bool)"
   ]
  },
  {
   "cell_type": "code",
   "execution_count": 8,
   "metadata": {
    "collapsed": false,
    "scrolled": false
   },
   "outputs": [
    {
     "name": "stdout",
     "output_type": "stream",
     "text": [
      "opt_iter=50000, opt_threshold=0.32\n",
      "[ 0.2381  0.      0.      0.2381  0.2381] diningtable\n",
      "[ 0.0909  0.      0.      0.1591  0.1591] chair\n",
      "[ 0.038   0.      0.      0.1772  0.1772] sofa\n",
      "[ 0.      0.      0.      0.      0.    ] bottle\n",
      "[ 0.      0.      0.      0.      0.    ] pottedplant\n",
      "[ 0.6596  0.234   0.234   0.234   0.234 ] tvmonitor\n",
      "[ 0.5146  0.1165  0.1165  0.4369  0.4369] train\n",
      "[ 0.6282  0.2949  0.2949  0.4231  0.4231] bus\n",
      "[ 0.5268  0.3036  0.3036  0.5268  0.5268] car\n",
      "[ 0.5962  0.3462  0.3462  0.4615  0.4615] bicycle\n",
      "[ 0.4444  0.2037  0.2037  0.5     0.5   ] motorbike\n",
      "[ 0.8134  0.4104  0.4104  0.4104  0.4104] aeroplane\n",
      "[ 0.481   0.2785  0.2785  0.2911  0.2911] boat\n",
      "[ 0.      0.      0.      0.3061  0.3061] cow\n",
      "[ 0.1667  0.      0.      0.4306  0.4306] horse\n",
      "[ 0.      0.      0.      0.2162  0.2162] sheep\n",
      "[ 0.325   0.1063  0.1063  0.7188  0.7188] dog\n",
      "[ 0.5537  0.2147  0.2147  0.8023  0.8023] cat\n",
      "[ 0.363   0.1778  0.1778  0.5111  0.5111] bird\n",
      "[ 0.7759  0.2011  0.2011  0.2701  0.2701] person\n",
      "[ 0.4495  0.1781  0.1781  0.4365  0.4365] overall\n"
     ]
    }
   ],
   "source": [
    "# caffe accuracy\n",
    "iters = np.linspace(5000, 50000, 10, dtype=np.uint16)\n",
    "iter_Y = np.load('results/test_caffe_4.npy')\n",
    "# iter_Y = np.tanh(iter_Y)\n",
    "# opt_iter, opt_thres = opt_model_threshold(iter_Y)\n",
    "opt_iter, opt_thres = 9, 0.32\n",
    "print(\"opt_iter={0}, opt_threshold={1:.2f}\".format(iters[opt_iter], opt_thres))\n",
    "print(accuracy_str(get_accuracy(iter_Y[opt_iter], threshold=opt_thres)))"
   ]
  },
  {
   "cell_type": "code",
   "execution_count": 9,
   "metadata": {
    "collapsed": false
   },
   "outputs": [
    {
     "name": "stdout",
     "output_type": "stream",
     "text": [
      "opt_iter=20000\n",
      "[ 0.381   0.381   0.381   0.381   0.381 ] diningtable\n",
      "[ 0.1818  0.1818  0.1818  0.1818  0.1818] chair\n",
      "[ 0.0506  0.0506  0.0506  0.0506  0.0506] sofa\n",
      "[ 0.      0.      0.      0.      0.    ] bottle\n",
      "[ 0.      0.      0.      0.      0.    ] pottedplant\n",
      "[ 0.617   0.617   0.617   0.617   0.617 ] tvmonitor\n",
      "[ 0.6019  0.6019  0.6019  0.6019  0.6019] train\n",
      "[ 0.6667  0.6667  0.6667  0.6667  0.6667] bus\n",
      "[ 0.5446  0.5446  0.5446  0.5446  0.5446] car\n",
      "[ 0.6538  0.6538  0.6538  0.6538  0.6538] bicycle\n",
      "[ 0.4815  0.4815  0.4815  0.4815  0.4815] motorbike\n",
      "[ 0.7015  0.7015  0.7015  0.7015  0.7015] aeroplane\n",
      "[ 0.443   0.443   0.443   0.443   0.443 ] boat\n",
      "[ 0.      0.      0.      0.      0.    ] cow\n",
      "[ 0.25    0.25    0.25    0.25    0.25  ] horse\n",
      "[ 0.      0.      0.      0.      0.    ] sheep\n",
      "[ 0.3938  0.3938  0.3938  0.3938  0.3938] dog\n",
      "[ 0.6836  0.6836  0.6836  0.6836  0.6836] cat\n",
      "[ 0.5185  0.5185  0.5185  0.5185  0.5185] bird\n",
      "[ 0.5517  0.5517  0.5517  0.5517  0.5517] person\n",
      "[ 0.4685  0.4685  0.4685  0.4685  0.4685] overall\n"
     ]
    }
   ],
   "source": [
    "# caffe + crf accuracy\n",
    "iters = np.linspace(5000, 50000, 10, dtype=np.uint16)\n",
    "iter_Y = np.load('results/test_caffe_4.npy')\n",
    "# iter_Y = np.tanh(iter_Y)\n",
    "# opt_iter = opt_model(map(to_crf, iter_Y))\n",
    "opt_iter = 3\n",
    "print('opt_iter={}'.format(iters[opt_iter]))\n",
    "print(accuracy_str(get_accuracy(to_crf(iter_Y[opt_iter]))))"
   ]
  },
  {
   "cell_type": "code",
   "execution_count": 10,
   "metadata": {
    "collapsed": false,
    "scrolled": false
   },
   "outputs": [
    {
     "name": "stdout",
     "output_type": "stream",
     "text": [
      "opt_kernel=rbf, opt_threshold=0.27\n",
      "[ 0.5238  0.2381  0.2381  0.5952  0.5952] diningtable\n",
      "[ 0.3864  0.1136  0.1136  0.3636  0.3636] chair\n",
      "[ 0.557   0.2911  0.2911  0.4937  0.4937] sofa\n",
      "[ 0.6129  0.3871  0.3871  0.5484  0.5484] bottle\n",
      "[ 0.4     0.2     0.2     0.32    0.32  ] pottedplant\n",
      "[ 0.7234  0.6809  0.6809  0.7447  0.7447] tvmonitor\n",
      "[ 0.8641  0.6311  0.6311  0.9029  0.9029] train\n",
      "[ 0.8846  0.7179  0.7179  0.8974  0.8974] bus\n",
      "[ 0.7054  0.4821  0.4821  0.8482  0.8482] car\n",
      "[ 0.6731  0.4423  0.4423  0.6538  0.6538] bicycle\n",
      "[ 0.7778  0.537   0.537   0.8148  0.8148] motorbike\n",
      "[ 0.8806  0.7388  0.7388  0.8881  0.8881] aeroplane\n",
      "[ 0.7848  0.6203  0.6203  0.7468  0.7468] boat\n",
      "[ 0.4286  0.1837  0.1837  0.6735  0.6735] cow\n",
      "[ 0.5139  0.3194  0.3194  0.6528  0.6528] horse\n",
      "[ 0.5676  0.3514  0.3514  0.5135  0.5135] sheep\n",
      "[ 0.7188  0.475   0.475   0.8438  0.8438] dog\n",
      "[ 0.8079  0.5537  0.5537  0.8814  0.8814] cat\n",
      "[ 0.837   0.6667  0.6667  0.8667  0.8667] bird\n",
      "[ 0.8391  0.5345  0.5345  0.6092  0.6092] person\n",
      "[ 0.734   0.5131  0.5131  0.7524  0.7524] overall\n"
     ]
    }
   ],
   "source": [
    "# svm accuracy\n",
    "kernels = ['linear', 'poly', 'rbf']\n",
    "kernel_Y = np.load('results/test_svm_4.npy')\n",
    "# kernel_Y = kernel_Y / (1 - kernel_Y)  # ratio\n",
    "# kernel_Y = np.log(kernel_Y)  # log ratio\n",
    "# opt_kernel, opt_thres = opt_model_threshold(kernel_Y)\n",
    "opt_kernel, opt_thres = 2, 0.27\n",
    "print(\"opt_kernel={0}, opt_threshold={1:.2f}\".format(kernels[opt_kernel], opt_thres))\n",
    "print(accuracy_str(get_accuracy(kernel_Y[opt_kernel], threshold=opt_thres)))"
   ]
  },
  {
   "cell_type": "code",
   "execution_count": 11,
   "metadata": {
    "collapsed": false
   },
   "outputs": [
    {
     "name": "stdout",
     "output_type": "stream",
     "text": [
      "opt_kernel=rbf\n",
      "[ 0.619   0.619   0.619   0.619   0.619 ] diningtable\n",
      "[ 0.4091  0.4091  0.4091  0.4091  0.4091] chair\n",
      "[ 0.5823  0.5823  0.5823  0.5823  0.5823] sofa\n",
      "[ 0.5806  0.5806  0.5806  0.5806  0.5806] bottle\n",
      "[ 0.4     0.4     0.4     0.4     0.4   ] pottedplant\n",
      "[ 0.7021  0.7021  0.7021  0.7021  0.7021] tvmonitor\n",
      "[ 0.9029  0.9029  0.9029  0.9029  0.9029] train\n",
      "[ 0.8846  0.8846  0.8846  0.8846  0.8846] bus\n",
      "[ 0.7679  0.7679  0.7679  0.7679  0.7679] car\n",
      "[ 0.7308  0.7308  0.7308  0.7308  0.7308] bicycle\n",
      "[ 0.7963  0.7963  0.7963  0.7963  0.7963] motorbike\n",
      "[ 0.8731  0.8731  0.8731  0.8731  0.8731] aeroplane\n",
      "[ 0.7595  0.7595  0.7595  0.7595  0.7595] boat\n",
      "[ 0.5306  0.5306  0.5306  0.5306  0.5306] cow\n",
      "[ 0.5694  0.5694  0.5694  0.5694  0.5694] horse\n",
      "[ 0.5946  0.5946  0.5946  0.5946  0.5946] sheep\n",
      "[ 0.75    0.75    0.75    0.75    0.75  ] dog\n",
      "[ 0.8249  0.8249  0.8249  0.8249  0.8249] cat\n",
      "[ 0.8889  0.8889  0.8889  0.8889  0.8889] bird\n",
      "[ 0.7529  0.7529  0.7529  0.7529  0.7529] person\n",
      "[ 0.75    0.75    0.75    0.75    0.75  ] overall\n"
     ]
    }
   ],
   "source": [
    "# svm + crf accuracy\n",
    "kernels = ['linear', 'poly', 'rbf']\n",
    "kernel_Y = np.load('results/test_svm_4.npy')\n",
    "# kernel_Y = kernel_Y / (1 - kernel_Y)  # ratio\n",
    "# kernel_Y = np.log(kernel_Y)  # log ratio\n",
    "# opt_kernel = opt_model(map(to_crf, kernel_Y))\n",
    "opt_kernel = 2\n",
    "print('opt_kernel={}'.format(kernels[opt_kernel]))\n",
    "print(accuracy_str(get_accuracy(to_crf(kernel_Y[opt_kernel]))))"
   ]
  }
 ],
 "metadata": {
  "kernelspec": {
   "display_name": "Python 2",
   "language": "python",
   "name": "python2"
  },
  "language_info": {
   "codemirror_mode": {
    "name": "ipython",
    "version": 2
   },
   "file_extension": ".py",
   "mimetype": "text/x-python",
   "name": "python",
   "nbconvert_exporter": "python",
   "pygments_lexer": "ipython2",
   "version": "2.7.6"
  }
 },
 "nbformat": 4,
 "nbformat_minor": 0
}
