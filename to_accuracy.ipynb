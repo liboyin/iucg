{
 "cells": [
  {
   "cell_type": "code",
   "execution_count": null,
   "metadata": {
    "collapsed": false
   },
   "outputs": [],
   "source": [
    "import numpy as np\n",
    "import pickle\n",
    "from learnable_crf import LearnableCrf\n",
    "from lib import *\n",
    "from scipy.special import expit as sigmoid"
   ]
  },
  {
   "cell_type": "code",
   "execution_count": null,
   "metadata": {
    "collapsed": false
   },
   "outputs": [],
   "source": [
    "r = 0\n",
    "with open('cache/df_train.{}.pickle'.format(r), mode='rb') as h:\n",
    "    df = pickle.load(h)\n",
    "leaves = np.nonzero([x[0] in x[1] for x in zip(df['label'], df['pseudo_label'])])[0]\n",
    "Y_train = df['label'][leaves]\n",
    "with open('cache/df_val_test.pickle', mode='rb') as h:\n",
    "    df_val, df_test = pickle.load(h)\n",
    "Y_val = df_val['label']\n",
    "Y_test = df_test['label']\n",
    "with open('cache/hex.pickle', mode='rb') as h:\n",
    "    hex_data = pickle.load(h)\n",
    "state_space = hex_data['state_space']\n",
    "# state_space = filter(lambda x: x[:20].any(), state_space)"
   ]
  },
  {
   "cell_type": "code",
   "execution_count": null,
   "metadata": {
    "collapsed": false
   },
   "outputs": [],
   "source": [
    "model_Phi_train = np.load('results/caffe_baseline/iter_Phi_train.{}.npy'.format(r))[:, leaves]\n",
    "model_Phi_val = np.load('results/caffe_baseline/iter_Phi_val.{}.npy'.format(r))\n",
    "model_Phi_test = np.load('results/caffe_baseline/iter_Phi_test.{}.npy'.format(r))\n",
    "M = len(model_Phi_train)"
   ]
  },
  {
   "cell_type": "code",
   "execution_count": null,
   "metadata": {
    "collapsed": false
   },
   "outputs": [],
   "source": [
    "[get_accuracy(model_Phi_val[i], Y_val, lim_states=False) for i in range(0, M)]"
   ]
  },
  {
   "cell_type": "code",
   "execution_count": null,
   "metadata": {
    "collapsed": false
   },
   "outputs": [],
   "source": [
    "[get_accuracy(model_Phi_test[i], Y_test, lim_states=False) for i in range(0, M)]"
   ]
  },
  {
   "cell_type": "code",
   "execution_count": null,
   "metadata": {
    "collapsed": false
   },
   "outputs": [],
   "source": [
    "lcrf = [LearnableCrf(model_Phi_train[i], Y_train) for i in range(0, M)]\n",
    "[get_accuracy(lcrf[i].predict(model_Phi_val[i]), Y_val) for i in range(0, M)]"
   ]
  },
  {
   "cell_type": "code",
   "execution_count": null,
   "metadata": {
    "collapsed": false
   },
   "outputs": [],
   "source": [
    "[get_accuracy(lcrf[i].predict(model_Phi_test[i]), Y_test) for i in range(0, M)]"
   ]
  }
 ],
 "metadata": {
  "kernelspec": {
   "display_name": "Python 3",
   "language": "python",
   "name": "python3"
  },
  "language_info": {
   "codemirror_mode": {
    "name": "ipython",
    "version": 3
   },
   "file_extension": ".py",
   "mimetype": "text/x-python",
   "name": "python",
   "nbconvert_exporter": "python",
   "pygments_lexer": "ipython3",
   "version": "3.4.3"
  }
 },
 "nbformat": 4,
 "nbformat_minor": 0
}
