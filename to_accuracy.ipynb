{
 "cells": [
  {
   "cell_type": "code",
   "execution_count": 2,
   "metadata": {
    "collapsed": true
   },
   "outputs": [],
   "source": [
    "import numpy as np\n",
    "np.set_printoptions(threshold=np.nan, linewidth=np.nan)"
   ]
  },
  {
   "cell_type": "code",
   "execution_count": 3,
   "metadata": {
    "collapsed": false
   },
   "outputs": [],
   "source": [
    "import pickle\n",
    "with open('df.pickle', mode='rb') as h:\n",
    "    _, df_test = pickle.load(h)\n",
    "with open('hex.pickle', mode='rb') as h:\n",
    "    hex_data = pickle.load(h)\n",
    "labels = df_test['label']\n",
    "name_id = hex_data['name_id']\n",
    "id_hls = map(set, hex_data['id_hierarchical_labels'])  # id_hls for id_hierarchical_labels\n",
    "id_fh = map(lambda x: max(x, key=len), id_hls)  # id_fh for id_full_hierarchy"
   ]
  },
  {
   "cell_type": "code",
   "execution_count": 14,
   "metadata": {
    "collapsed": false
   },
   "outputs": [],
   "source": [
    "def get_accuracy(Y):\n",
    "    \"\"\"\n",
    "    Type 0: Is the full hierarchy\n",
    "    Type 1: Covers the full hierarchy\n",
    "    Type 2: Is any partial hierarchy\n",
    "    Type 3: Covers any partial hierarchy\n",
    "    Implication: 0->1, 0->2, 1->3, 2->3\n",
    "    \"\"\"\n",
    "    accuracy = np.zeros(4, dtype=np.float32)\n",
    "    for i in range(0, len(Y)):\n",
    "        y = Y[i]\n",
    "        y = np.nonzero((y / y.max()) > 0.005)[0]  # designed for probs, also fine for binary\n",
    "        lid = name_id[labels[i]]\n",
    "        if tuple(y) == id_fh[lid]:\n",
    "            accuracy += 1\n",
    "        elif set(id_fh[lid]) in set(y):\n",
    "            accuracy[[1, 3]] += 1\n",
    "        elif tuple(y) in id_hls[lid]:\n",
    "            accuracy[[2, 3]] += 1\n",
    "        elif any(set(x) in set(y) for x in id_hls[lid]):\n",
    "            accuracy[3] += 1\n",
    "    return accuracy / len(Y)"
   ]
  },
  {
   "cell_type": "code",
   "execution_count": 15,
   "metadata": {
    "collapsed": false
   },
   "outputs": [
    {
     "data": {
      "text/plain": [
       "(10000, 20000, 30000, 40000, 50000, 60000, 70000, 80000, 90000, 100000)"
      ]
     },
     "execution_count": 15,
     "metadata": {},
     "output_type": "execute_result"
    }
   ],
   "source": [
    "# caffe accuracy\n",
    "from os import listdir\n",
    "import re\n",
    "models = listdir('../caffemodels/')\n",
    "iters = [int(re.findall('\\d+', x)[0]) for x in models]\n",
    "iters, models = zip(*sorted(zip(iters, models), key=lambda x: x[0]))\n",
    "iters"
   ]
  },
  {
   "cell_type": "code",
   "execution_count": 16,
   "metadata": {
    "collapsed": false
   },
   "outputs": [
    {
     "data": {
      "text/plain": [
       "array([[ 0.        ,  0.        ,  0.32185274,  0.32185274],\n",
       "       [ 0.        ,  0.        ,  0.27078384,  0.27078384],\n",
       "       [ 0.        ,  0.        ,  0.27019003,  0.27019003],\n",
       "       [ 0.        ,  0.        ,  0.25534442,  0.25534442],\n",
       "       [ 0.        ,  0.        ,  0.26128265,  0.26128265],\n",
       "       [ 0.        ,  0.        ,  0.26187649,  0.26187649],\n",
       "       [ 0.        ,  0.        ,  0.26187649,  0.26187649],\n",
       "       [ 0.        ,  0.        ,  0.26306415,  0.26306415],\n",
       "       [ 0.        ,  0.        ,  0.26306415,  0.26306415],\n",
       "       [ 0.        ,  0.        ,  0.26306415,  0.26306415]], dtype=float32)"
      ]
     },
     "execution_count": 16,
     "metadata": {},
     "output_type": "execute_result"
    }
   ],
   "source": [
    "iter_Y = np.load('../test_caffe.npy')\n",
    "np.array(map(get_accuracy, iter_Y), dtype=np.float32)"
   ]
  },
  {
   "cell_type": "code",
   "execution_count": 4,
   "metadata": {
    "collapsed": false
   },
   "outputs": [],
   "source": [
    "# svm accuracy\n",
    "kernels = ['linear', 'poly', 'rbf']\n",
    "kernel_Y = np.load('../test_svm.npy')"
   ]
  },
  {
   "cell_type": "code",
   "execution_count": 8,
   "metadata": {
    "collapsed": false
   },
   "outputs": [
    {
     "data": {
      "text/plain": [
       "array([[ 0.45486936,  0.45486936,  0.83313537,  0.83313537],\n",
       "       [ 0.36520189,  0.36520189,  0.93052256,  0.93052256],\n",
       "       [ 0.28325415,  0.28325415,  0.92399049,  0.92399049],\n",
       "       [ 0.        ,  0.        ,  0.        ,  0.        ]], dtype=float32)"
      ]
     },
     "execution_count": 8,
     "metadata": {},
     "output_type": "execute_result"
    }
   ],
   "source": [
    "np.array(map(get_accuracy, kernel_Y), dtype=np.float32)"
   ]
  },
  {
   "cell_type": "code",
   "execution_count": 18,
   "metadata": {
    "collapsed": false
   },
   "outputs": [
    {
     "data": {
      "text/plain": [
       "array([ 0.03450609,  0.03450609,  0.14140731,  0.14140731], dtype=float32)"
      ]
     },
     "execution_count": 18,
     "metadata": {},
     "output_type": "execute_result"
    }
   ],
   "source": [
    "get_accuracy(np.load('../test_crf.npy'))"
   ]
  },
  {
   "cell_type": "code",
   "execution_count": null,
   "metadata": {
    "collapsed": true
   },
   "outputs": [],
   "source": []
  }
 ],
 "metadata": {
  "kernelspec": {
   "display_name": "Python 2",
   "language": "python",
   "name": "python2"
  },
  "language_info": {
   "codemirror_mode": {
    "name": "ipython",
    "version": 2
   },
   "file_extension": ".py",
   "mimetype": "text/x-python",
   "name": "python",
   "nbconvert_exporter": "python",
   "pygments_lexer": "ipython2",
   "version": "2.7.6"
  }
 },
 "nbformat": 4,
 "nbformat_minor": 0
}
