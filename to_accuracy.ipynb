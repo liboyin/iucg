{
 "cells": [
  {
   "cell_type": "code",
   "execution_count": 1,
   "metadata": {
    "collapsed": true
   },
   "outputs": [],
   "source": [
    "import numpy as np\n",
    "import pickle\n",
    "from learnable_crf import LearnableCrf\n",
    "from lib import *\n",
    "from scipy.special import expit as sigmoid"
   ]
  },
  {
   "cell_type": "code",
   "execution_count": 2,
   "metadata": {
    "collapsed": false
   },
   "outputs": [],
   "source": [
    "with open('cache/df_val_test.pickle', mode='rb') as h:\n",
    "    df_val, df_test = pickle.load(h)\n",
    "Y_val = df_val['label']\n",
    "Y_test = df_test['label']\n",
    "with open('cache/hex.pickle', mode='rb') as h:\n",
    "    hex_data = pickle.load(h)\n",
    "id_fh = map(lambda x: list(max(x, key=len)), hex_data['id_hierarchical_labels'])  # convert to list for addressing\n",
    "state_space = hex_data['state_space']\n",
    "# state_space = filter(lambda x: x[:20].any(), state_space)"
   ]
  },
  {
   "cell_type": "code",
   "execution_count": 3,
   "metadata": {
    "collapsed": false
   },
   "outputs": [],
   "source": [
    "r = 50\n",
    "with open('cache/df_train.{}.pickle'.format(r), mode='rb') as h:\n",
    "    df = pickle.load(h)\n",
    "leaves = np.nonzero([x[0] in x[1] for x in zip(df['label'], df['pseudo_label'])])[0]\n",
    "Y_train = df['label'][leaves]"
   ]
  },
  {
   "cell_type": "code",
   "execution_count": 4,
   "metadata": {
    "collapsed": false
   },
   "outputs": [],
   "source": [
    "model_Phi_train = np.load('results/caffe_independent/iter_Phi_train.{}.npy'.format(r))[:, leaves]\n",
    "model_Phi_val = np.load('results/caffe_independent/iter_Phi_val.{}.npy'.format(r))\n",
    "model_Phi_test = np.load('results/caffe_independent/iter_Phi_test.{}.npy'.format(r))\n",
    "M = len(model_Phi_train)"
   ]
  },
  {
   "cell_type": "code",
   "execution_count": 5,
   "metadata": {
    "collapsed": true
   },
   "outputs": [],
   "source": [
    "def confusion_matrix(Y_predict, Y_truth):\n",
    "    if Y_predict.dtype == bool:\n",
    "        cm = np.zeros((27, 27), dtype=int)\n",
    "        count = np.zeros(27, dtype=int)\n",
    "        for i, y in enumerate(Y_predict):\n",
    "            count[id_fh[Y_truth[i]]] += 1\n",
    "            cm[id_fh[Y_truth[i]], :] += y\n",
    "    else:\n",
    "        cm = np.zeros((20, 27), dtype=int)\n",
    "        count = np.zeros(20, dtype=int)\n",
    "        for i, y in enumerate(Y_predict):\n",
    "            count[Y_truth[i]] += 1\n",
    "            cm[Y_truth[i], y.argmax()] += 1\n",
    "    return cm.astype(float) / count[:, None]"
   ]
  },
  {
   "cell_type": "code",
   "execution_count": 6,
   "metadata": {
    "collapsed": true
   },
   "outputs": [],
   "source": [
    "def raw_crf(Phi):\n",
    "    def step(phi):\n",
    "        scores = map(lambda s: phi[s].sum(), state_space)\n",
    "#         return np.vstack(tuple(state_space[np.argsort(scores)[i]] for i in range(-5, 0)))\n",
    "        return state_space[np.argmax(scores)]\n",
    "    return np.array(map(step, Phi), dtype=bool)"
   ]
  },
  {
   "cell_type": "code",
   "execution_count": 7,
   "metadata": {
    "collapsed": false
   },
   "outputs": [
    {
     "data": {
      "text/plain": [
       "[0.004156769596199525,\n",
       " 0.004156769596199525,\n",
       " 0.0059382422802850355,\n",
       " 0.006532066508313539,\n",
       " 0.006532066508313539,\n",
       " 0.006532066508313539,\n",
       " 0.006532066508313539,\n",
       " 0.006532066508313539,\n",
       " 0.006532066508313539,\n",
       " 0.006532066508313539]"
      ]
     },
     "execution_count": 7,
     "metadata": {},
     "output_type": "execute_result"
    }
   ],
   "source": [
    "[get_accuracy(model_Phi_val[i], Y_val, lim_states=False) for i in range(0, M)]\n",
    "# [get_accuracy(raw_crf(model_Phi_val[i]), Y_val) for i in range(0, M)]"
   ]
  },
  {
   "cell_type": "code",
   "execution_count": 8,
   "metadata": {
    "collapsed": false
   },
   "outputs": [
    {
     "data": {
      "text/plain": [
       "[0.00831353919239905,\n",
       " 0.0029691211401425177,\n",
       " 0.004156769596199525,\n",
       " 0.004750593824228029,\n",
       " 0.004750593824228029,\n",
       " 0.004750593824228029,\n",
       " 0.004750593824228029,\n",
       " 0.004750593824228029,\n",
       " 0.004750593824228029,\n",
       " 0.004750593824228029]"
      ]
     },
     "execution_count": 8,
     "metadata": {},
     "output_type": "execute_result"
    }
   ],
   "source": [
    "[get_accuracy(model_Phi_test[i], Y_test, lim_states=False) for i in range(0, M)]\n",
    "# [get_accuracy(raw_crf(model_Phi_test[i]), Y_test) for i in range(0, M)]"
   ]
  },
  {
   "cell_type": "code",
   "execution_count": 12,
   "metadata": {
    "collapsed": false
   },
   "outputs": [
    {
     "data": {
      "text/plain": [
       "array([ 0.        ,  0.        ,  0.        ,  0.        ,  0.        ,\n",
       "        0.        ,  0.        ,  0.        ,  0.        ,  0.        ,\n",
       "        0.        ,  0.00689655,  0.        ,  0.        ,  0.        ,\n",
       "        0.        ,  0.        ,  0.        ,  0.00943396,  0.02985075])"
      ]
     },
     "execution_count": 12,
     "metadata": {},
     "output_type": "execute_result"
    }
   ],
   "source": [
    "np.diagonal(confusion_matrix(model_Phi_test[-1], Y_test))\n",
    "# np.diagonal(confusion_matrix(raw_crf(model_Phi_test[-1]), Y_test))"
   ]
  },
  {
   "cell_type": "code",
   "execution_count": 10,
   "metadata": {
    "collapsed": false
   },
   "outputs": [
    {
     "data": {
      "text/plain": [
       "[0.39667458432304037,\n",
       " 0.43646080760095013,\n",
       " 0.4667458432304038,\n",
       " 0.4637767220902613,\n",
       " 0.4649643705463183,\n",
       " 0.4655581947743468,\n",
       " 0.4655581947743468,\n",
       " 0.4655581947743468,\n",
       " 0.4655581947743468,\n",
       " 0.4655581947743468]"
      ]
     },
     "execution_count": 10,
     "metadata": {},
     "output_type": "execute_result"
    }
   ],
   "source": [
    "model_Phi_train = sigmoid(model_Phi_train)\n",
    "model_Phi_val = sigmoid(model_Phi_val)\n",
    "model_Phi_test = sigmoid(model_Phi_test)\n",
    "lcrf = [LearnableCrf(model_Phi_train[i], Y_train) for i in range(0, M)]\n",
    "[get_accuracy(lcrf[i].predict(model_Phi_val[i]), Y_val) for i in range(0, M)]"
   ]
  },
  {
   "cell_type": "code",
   "execution_count": 11,
   "metadata": {
    "collapsed": false
   },
   "outputs": [
    {
     "data": {
      "text/plain": [
       "[0.3812351543942993,\n",
       " 0.43764845605700714,\n",
       " 0.46140142517814725,\n",
       " 0.46140142517814725,\n",
       " 0.46199524940617576,\n",
       " 0.4637767220902613,\n",
       " 0.4643705463182898,\n",
       " 0.4643705463182898,\n",
       " 0.4643705463182898,\n",
       " 0.4643705463182898]"
      ]
     },
     "execution_count": 11,
     "metadata": {},
     "output_type": "execute_result"
    }
   ],
   "source": [
    "[get_accuracy(lcrf[i].predict(model_Phi_test[i]), Y_test) for i in range(0, M)]"
   ]
  },
  {
   "cell_type": "code",
   "execution_count": 13,
   "metadata": {
    "collapsed": false
   },
   "outputs": [
    {
     "data": {
      "text/plain": [
       "array([ 0.46428571,  0.11111111,  0.13793103,  0.3       ,  0.10714286,\n",
       "        0.475     ,  0.56666667,  0.82352941,  0.453125  ,  0.85185185,\n",
       "        0.48214286,  0.45517241,  0.2739726 ,  0.05769231,  0.69565217,\n",
       "        0.5       ,  0.50568182,  0.32413793,  0.55660377,  0.53731343,\n",
       "        0.76264591,  0.67295597,  0.95496894,  0.93896714,  0.87356322,\n",
       "        0.69677419,  0.85480094])"
      ]
     },
     "execution_count": 13,
     "metadata": {},
     "output_type": "execute_result"
    }
   ],
   "source": [
    "np.diagonal(confusion_matrix(lcrf[-1].predict(model_Phi_test[-1]), Y_test))"
   ]
  },
  {
   "cell_type": "code",
   "execution_count": 14,
   "metadata": {
    "collapsed": false
   },
   "outputs": [
    {
     "data": {
      "text/plain": [
       "array([ 2.18251083,  1.31984708,  2.16087463,  0.618895  ,  0.92283248,\n",
       "        0.70104614,  2.1050899 ,  0.        ,  1.18143035,  0.        ,\n",
       "        2.19203059,  2.13827253,  1.72629435,  1.5891431 ,  0.        ,\n",
       "        0.        ,  1.99344555,  2.07551518,  2.73015487,  1.39382511,\n",
       "        0.79709192,  1.68151799,  0.30984177,  2.90600773,  2.47913771,\n",
       "        0.        ,  3.99403071,  0.98459505,  1.01912682,  0.95826632,\n",
       "        0.50581091,  0.96929608,  0.98769787,  0.96239557,  0.89441708,\n",
       "        0.95424326,  2.20208736,  0.88772576,  1.12623125,  0.91805882,\n",
       "        0.97884967,  0.93246386,  0.91195274,  0.51732685,  1.80395428,\n",
       "        0.98574547,  0.96432693,  0.98211448,  0.84280092,  0.88765158,\n",
       "        2.75150097])"
      ]
     },
     "execution_count": 14,
     "metadata": {},
     "output_type": "execute_result"
    }
   ],
   "source": [
    "lcrf[-1].opt_theta"
   ]
  },
  {
   "cell_type": "code",
   "execution_count": null,
   "metadata": {
    "collapsed": true
   },
   "outputs": [],
   "source": []
  }
 ],
 "metadata": {
  "kernelspec": {
   "display_name": "Python 2",
   "language": "python",
   "name": "python2"
  },
  "language_info": {
   "codemirror_mode": {
    "name": "ipython",
    "version": 2
   },
   "file_extension": ".py",
   "mimetype": "text/x-python",
   "name": "python",
   "nbconvert_exporter": "python",
   "pygments_lexer": "ipython2",
   "version": "2.7.6"
  }
 },
 "nbformat": 4,
 "nbformat_minor": 0
}
