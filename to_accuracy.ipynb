{
 "cells": [
  {
   "cell_type": "code",
   "execution_count": 1,
   "metadata": {
    "collapsed": false
   },
   "outputs": [],
   "source": [
    "import numpy as np\n",
    "import pickle\n",
    "from learnable_crf import LearnableCrf\n",
    "from scipy.special import expit as sigmoid"
   ]
  },
  {
   "cell_type": "code",
   "execution_count": 16,
   "metadata": {
    "collapsed": false
   },
   "outputs": [],
   "source": [
    "r = 90\n",
    "with open('cache/df_train.{}.pickle'.format(r), mode='rb') as h:\n",
    "    df = pickle.load(h)\n",
    "leaves = np.nonzero([x[0] in x[1] for x in zip(df['label'], df['pseudo_label'])])[0]\n",
    "Y_train = df['label'][leaves]\n",
    "with open('cache/df_val_test.pickle', mode='rb') as h:\n",
    "    df_val, df_test = pickle.load(h)\n",
    "Y_val = df_val['label']\n",
    "Y_test = df_test['label']\n",
    "with open('cache/hex.pickle', mode='rb') as h:\n",
    "    hex_data = pickle.load(h)\n",
    "state_space = hex_data['state_space']\n",
    "state_space = filter(lambda x: x[:20].any(), state_space)"
   ]
  },
  {
   "cell_type": "code",
   "execution_count": 17,
   "metadata": {
    "collapsed": false
   },
   "outputs": [],
   "source": [
    "iter_Phi_train = np.load('results/iter_Phi_train.{}.npy'.format(r))[:, leaves]\n",
    "iter_Phi_val = np.load('results/iter_Phi_val.{}.npy'.format(r))\n",
    "iter_Phi_test = np.load('results/iter_Phi_test.{}.npy'.format(r))"
   ]
  },
  {
   "cell_type": "code",
   "execution_count": 4,
   "metadata": {
    "collapsed": true
   },
   "outputs": [],
   "source": [
    "def get_accuracy(Y_predict, Y_truth, lim_states=False):\n",
    "    if Y_predict.dtype == bool:\n",
    "        return float(np.count_nonzero(Y_predict[np.arange(len(Y_predict)), Y_truth])) / len(Y_predict)\n",
    "    if lim_states:\n",
    "        return float(np.count_nonzero(Y_predict[:, :20].argmax(axis=1) == Y_truth)) / len(Y_predict)\n",
    "    return float(np.count_nonzero(Y_predict.argmax(axis=1) == Y_truth)) / len(Y_predict)\n",
    "def top3_accuracy(Y_predict, Y_truth, lim_states=False):\n",
    "    if Y_predict.dtype == bool:\n",
    "        return np.count_nonzero([np.any(p[:, t]) for (p, t) in zip(Y_predict, Y_truth)]) / float(len(Y_predict))\n",
    "    if lim_states:\n",
    "        return np.count_nonzero([t in p[:20].argsort()[-3:] for (p, t) in zip(Y_predict, Y_truth)]) / float(len(Y_predict))\n",
    "    return np.count_nonzero([t in p.argsort()[-3:] for (p, t) in zip(Y_predict, Y_truth)]) / float(len(Y_predict))"
   ]
  },
  {
   "cell_type": "code",
   "execution_count": 5,
   "metadata": {
    "collapsed": true
   },
   "outputs": [],
   "source": [
    "def raw_crf(Phi):\n",
    "    def step(phi):\n",
    "        scores = map(lambda s: phi[s].sum(), state_space)\n",
    "        return np.vstack(tuple(state_space[np.argsort(scores)[i]] for i in range(-3, 0)))\n",
    "#         return state_space[np.argmax(scores)]\n",
    "    return np.array(map(step, Phi), dtype=bool)\n",
    "def pn_crf(Phi):\n",
    "    def step(phi):\n",
    "        scores = map(lambda s: phi[s].sum() + ((1 - phi)[np.logical_not(s)]).sum(), state_space)\n",
    "        return np.vstack(tuple(state_space[np.argsort(scores)[i]] for i in range(-3, 0)))\n",
    "#         return state_space[np.argmax(scores)]\n",
    "    return np.array(map(step, Phi), dtype=bool)"
   ]
  },
  {
   "cell_type": "code",
   "execution_count": 18,
   "metadata": {
    "collapsed": true
   },
   "outputs": [],
   "source": [
    "iter_Phi_train = sigmoid(iter_Phi_train)\n",
    "iter_Phi_val = sigmoid(iter_Phi_val)\n",
    "iter_Phi_test = sigmoid(iter_Phi_test)"
   ]
  },
  {
   "cell_type": "code",
   "execution_count": null,
   "metadata": {
    "collapsed": false
   },
   "outputs": [],
   "source": [
    "[top3_accuracy(pn_crf(iter_Phi_val[i]), Y_val, lim_states=True) for i in range(0, 10)]"
   ]
  },
  {
   "cell_type": "code",
   "execution_count": null,
   "metadata": {
    "collapsed": false
   },
   "outputs": [],
   "source": [
    "[top3_accuracy(pn_crf(iter_Phi_test[i]), Y_test, lim_states=True) for i in range(0, 10)]"
   ]
  },
  {
   "cell_type": "code",
   "execution_count": 19,
   "metadata": {
    "collapsed": false
   },
   "outputs": [],
   "source": [
    "lcrf = [LearnableCrf(iter_Phi_train[i], Y_train) for i in range(0, 10)]"
   ]
  },
  {
   "cell_type": "code",
   "execution_count": 20,
   "metadata": {
    "collapsed": false
   },
   "outputs": [
    {
     "data": {
      "text/plain": [
       "[0.47387173396674587,\n",
       " 0.5623515439429929,\n",
       " 0.5819477434679335,\n",
       " 0.5831353919239906,\n",
       " 0.583729216152019,\n",
       " 0.584916864608076,\n",
       " 0.5855106888361045,\n",
       " 0.584916864608076,\n",
       " 0.584916864608076,\n",
       " 0.584916864608076]"
      ]
     },
     "execution_count": 20,
     "metadata": {},
     "output_type": "execute_result"
    }
   ],
   "source": [
    "[top3_accuracy(lcrf[i].predict_top3(iter_Phi_val[i]), Y_val) for i in range(0, 10)]"
   ]
  },
  {
   "cell_type": "code",
   "execution_count": 21,
   "metadata": {
    "collapsed": false
   },
   "outputs": [
    {
     "data": {
      "text/plain": [
       "[0.4833729216152019,\n",
       " 0.5754156769596199,\n",
       " 0.5831353919239906,\n",
       " 0.5932304038004751,\n",
       " 0.5914489311163895,\n",
       " 0.5914489311163895,\n",
       " 0.5908551068883611,\n",
       " 0.5914489311163895,\n",
       " 0.5914489311163895,\n",
       " 0.5914489311163895]"
      ]
     },
     "execution_count": 21,
     "metadata": {},
     "output_type": "execute_result"
    }
   ],
   "source": [
    "[top3_accuracy(lcrf[i].predict_top3(iter_Phi_test[i]), Y_test) for i in range(0, 10)]"
   ]
  },
  {
   "cell_type": "code",
   "execution_count": null,
   "metadata": {
    "collapsed": false
   },
   "outputs": [],
   "source": [
    "# def confusion_matrix(Y_predict, Y_truth):  # crf only\n",
    "#     cm = np.zeros((20, 27), dtype=int)\n",
    "#     count = np.zeros(20, dtype=int)\n",
    "#     for i, y in enumerate(Y_predict):\n",
    "#         cm[Y_truth[i], :] += y\n",
    "#         count[Y_truth[i]] += 1\n",
    "#     return cm.astype(float) / count[:, None]"
   ]
  }
 ],
 "metadata": {
  "kernelspec": {
   "display_name": "Python 2",
   "language": "python",
   "name": "python2"
  },
  "language_info": {
   "codemirror_mode": {
    "name": "ipython",
    "version": 2
   },
   "file_extension": ".py",
   "mimetype": "text/x-python",
   "name": "python",
   "nbconvert_exporter": "python",
   "pygments_lexer": "ipython2",
   "version": "2.7.6"
  }
 },
 "nbformat": 4,
 "nbformat_minor": 0
}
