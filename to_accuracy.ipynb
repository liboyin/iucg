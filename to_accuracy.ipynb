{
 "cells": [
  {
   "cell_type": "code",
   "execution_count": 1,
   "metadata": {
    "collapsed": true
   },
   "outputs": [],
   "source": [
    "import numpy as np\n",
    "np.set_printoptions(threshold=np.nan, linewidth=np.nan)"
   ]
  },
  {
   "cell_type": "code",
   "execution_count": 2,
   "metadata": {
    "collapsed": false
   },
   "outputs": [],
   "source": [
    "import pickle\n",
    "with open('df.pickle', mode='rb') as h:\n",
    "    _, df_test = pickle.load(h)\n",
    "with open('hex.pickle', mode='rb') as h:\n",
    "    hex_data = pickle.load(h)\n",
    "labels = df_test['label']\n",
    "name_id = hex_data['name_id']\n",
    "id_hls = map(set, hex_data['id_hierarchical_labels'])  # id_hls for id_hierarchical_labels\n",
    "id_fh = map(lambda x: max(x, key=len), id_hls)  # id_fh for id_full_hierarchy\n",
    "state_space = hex_data['state_space']"
   ]
  },
  {
   "cell_type": "code",
   "execution_count": 3,
   "metadata": {
    "collapsed": false
   },
   "outputs": [],
   "source": [
    "def get_accuracy(Y):\n",
    "    \"\"\"\n",
    "    Type 1: Is the full hierarchy\n",
    "    Type 2: Covers the full hierarchy\n",
    "    Type 3: Is any partial hierarchy\n",
    "    Type 4: Covers any partial hierarchy\n",
    "    Implication: 1->2, 1->3, 2->4, 3->4\n",
    "    \"\"\"\n",
    "    accuracy = np.zeros(5, dtype=np.float32)\n",
    "    for i in range(0, len(Y)):\n",
    "        y = Y[i]\n",
    "        if np.argmax(y[:20]) == labels[i]:\n",
    "            accuracy[0] += 1\n",
    "        y = np.nonzero((y / y.max()) > threshold)[0]  # designed for probs, also fine for binary\n",
    "        if tuple(y) == id_fh[labels[i]]:\n",
    "            accuracy[1:] += 1\n",
    "        elif set(id_fh[labels[i]]) in set(y):\n",
    "            accuracy[[2, 4]] += 1\n",
    "        elif tuple(y) in id_hls[labels[i]]:\n",
    "            accuracy[[3, 4]] += 1\n",
    "        elif any(set(x) in set(y) for x in id_hls[labels[i]]):\n",
    "            accuracy[4] += 1\n",
    "    return accuracy / len(Y)"
   ]
  },
  {
   "cell_type": "code",
   "execution_count": 4,
   "metadata": {
    "collapsed": false
   },
   "outputs": [
    {
     "data": {
      "text/plain": [
       "array([[ 0.35273159,  0.07897862,  0.07897862,  0.18349169,  0.18349169],\n",
       "       [ 0.39964372,  0.1567696 ,  0.1567696 ,  0.20071259,  0.20071259],\n",
       "       [ 0.41033253,  0.15558195,  0.15558195,  0.20130642,  0.20130642],\n",
       "       [ 0.4287411 ,  0.16508314,  0.16508314,  0.20546319,  0.20546319],\n",
       "       [ 0.43764845,  0.16745843,  0.16745843,  0.21199524,  0.21199524],\n",
       "       [ 0.43527317,  0.16745843,  0.16745843,  0.21021378,  0.21021378],\n",
       "       [ 0.43942994,  0.16745843,  0.16745843,  0.20961995,  0.20961995],\n",
       "       [ 0.43824229,  0.17042756,  0.17042756,  0.21080761,  0.21080761],\n",
       "       [ 0.43824229,  0.17042756,  0.17042756,  0.21140142,  0.21140142],\n",
       "       [ 0.43824229,  0.17042756,  0.17042756,  0.21140142,  0.21140142]], dtype=float32)"
      ]
     },
     "execution_count": 4,
     "metadata": {},
     "output_type": "execute_result"
    }
   ],
   "source": [
    "# caffe accuracy\n",
    "threshold = 0.2\n",
    "iter_Y = np.load('../test_caffe.npy')\n",
    "np.array(map(get_accuracy, iter_Y), dtype=np.float32)"
   ]
  },
  {
   "cell_type": "code",
   "execution_count": 5,
   "metadata": {
    "collapsed": false
   },
   "outputs": [
    {
     "data": {
      "text/plain": [
       "array([[ 0.64073634,  0.33432305,  0.33432305,  0.65439433,  0.65439433],\n",
       "       [ 0.72684085,  0.28800476,  0.28800476,  0.8497625 ,  0.8497625 ],\n",
       "       [ 0.72921616,  0.35213777,  0.35213777,  0.86163896,  0.86163896]], dtype=float32)"
      ]
     },
     "execution_count": 5,
     "metadata": {},
     "output_type": "execute_result"
    }
   ],
   "source": [
    "# svm accuracy\n",
    "threshold = 0\n",
    "kernel_Y = np.load('../test_svm.npy')\n",
    "np.array(map(get_accuracy, kernel_Y), dtype=np.float32)"
   ]
  },
  {
   "cell_type": "code",
   "execution_count": 6,
   "metadata": {
    "collapsed": true
   },
   "outputs": [],
   "source": [
    "def to_crf(X):\n",
    "    def to_crf_step(x):\n",
    "        scores = map(lambda s: x[s].sum(), state_space)\n",
    "        return state_space[np.argmax(scores)]\n",
    "    return np.array(map(to_crf_step, X), dtype=np.bool)"
   ]
  },
  {
   "cell_type": "code",
   "execution_count": 7,
   "metadata": {
    "collapsed": false
   },
   "outputs": [
    {
     "data": {
      "text/plain": [
       "array([[ 0.41567695,  0.39904988,  0.39904988,  0.80047506,  0.80047506],\n",
       "       [ 0.31057006,  0.28859857,  0.28859857,  0.89133018,  0.89133018],\n",
       "       [ 0.37707838,  0.35510689,  0.35510689,  0.89251781,  0.89251781]], dtype=float32)"
      ]
     },
     "execution_count": 7,
     "metadata": {},
     "output_type": "execute_result"
    }
   ],
   "source": [
    "# crf accuracy\n",
    "threshold = 0\n",
    "kernel_Y_crf = np.array(map(to_crf, kernel_Y), dtype=np.bool)\n",
    "np.array(map(get_accuracy, kernel_Y_crf), dtype=np.float32)"
   ]
  }
 ],
 "metadata": {
  "kernelspec": {
   "display_name": "Python 2",
   "language": "python",
   "name": "python2"
  },
  "language_info": {
   "codemirror_mode": {
    "name": "ipython",
    "version": 2
   },
   "file_extension": ".py",
   "mimetype": "text/x-python",
   "name": "python",
   "nbconvert_exporter": "python",
   "pygments_lexer": "ipython2",
   "version": "2.7.6"
  }
 },
 "nbformat": 4,
 "nbformat_minor": 0
}
