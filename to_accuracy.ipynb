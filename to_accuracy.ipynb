{
 "cells": [
  {
   "cell_type": "code",
   "execution_count": 1,
   "metadata": {
    "collapsed": true
   },
   "outputs": [],
   "source": [
    "import numpy as np\n",
    "import pickle\n",
    "from learnable_crf import LearnableCrf\n",
    "from lib import *\n",
    "from scipy.special import expit as sigmoid"
   ]
  },
  {
   "cell_type": "code",
   "execution_count": 2,
   "metadata": {
    "collapsed": false
   },
   "outputs": [],
   "source": [
    "with open('cache/df_val_test.pickle', mode='rb') as h:\n",
    "    df_val, df_test = pickle.load(h)\n",
    "Y_val = df_val['label']\n",
    "Y_test = df_test['label']\n",
    "with open('cache/hex.pickle', mode='rb') as h:\n",
    "    hex_data = pickle.load(h)\n",
    "id_fh = map(lambda x: list(max(x, key=len)), hex_data['id_hierarchical_labels'])  # convert to list for addressing\n",
    "state_space = hex_data['state_space']\n",
    "# state_space = filter(lambda x: x[:20].any(), state_space)"
   ]
  },
  {
   "cell_type": "code",
   "execution_count": 3,
   "metadata": {
    "collapsed": false
   },
   "outputs": [],
   "source": [
    "r = 50\n",
    "with open('cache/df_train.{}.pickle'.format(r), mode='rb') as h:\n",
    "    df = pickle.load(h)\n",
    "leaves = np.nonzero([x[0] in x[1] for x in zip(df['label'], df['pseudo_label'])])[0]\n",
    "Y_train = df['label'][leaves]"
   ]
  },
  {
   "cell_type": "code",
   "execution_count": 4,
   "metadata": {
    "collapsed": false
   },
   "outputs": [],
   "source": [
    "model_Phi_train = np.load('results/caffe_independent/iter_Phi_train.{}.npy'.format(r))[:, leaves]\n",
    "model_Phi_val = np.load('results/caffe_independent/iter_Phi_val.{}.npy'.format(r))\n",
    "model_Phi_test = np.load('results/caffe_independent/iter_Phi_test.{}.npy'.format(r))\n",
    "M = len(model_Phi_train)"
   ]
  },
  {
   "cell_type": "code",
   "execution_count": 29,
   "metadata": {
    "collapsed": true
   },
   "outputs": [],
   "source": [
    "def confusion_matrix(Y_predict, Y_truth):\n",
    "    if Y_predict.dtype == bool:\n",
    "        cm = np.zeros((27, 27), dtype=int)\n",
    "        count = np.zeros(27, dtype=int)\n",
    "        for i, y in enumerate(Y_predict):\n",
    "            count[id_fh[Y_truth[i]]] += 1\n",
    "            cm[id_fh[Y_truth[i]], :] += y\n",
    "    else:\n",
    "        cm = np.zeros((20, 27), dtype=int)\n",
    "        count = np.zeros(20, dtype=int)\n",
    "        for i, y in enumerate(Y_predict):\n",
    "            count[Y_truth[i]] += 1\n",
    "            cm[Y_truth[i], y.argmax()] += 1\n",
    "    return cm.astype(float) / count[:, None]"
   ]
  },
  {
   "cell_type": "code",
   "execution_count": 13,
   "metadata": {
    "collapsed": true
   },
   "outputs": [],
   "source": [
    "def raw_crf(Phi):\n",
    "    def step(phi):\n",
    "        scores = map(lambda s: phi[s].sum(), state_space)\n",
    "#         return np.vstack(tuple(state_space[np.argsort(scores)[i]] for i in range(-5, 0)))\n",
    "        return state_space[np.argmax(scores)]\n",
    "    return np.array(map(step, Phi), dtype=bool)"
   ]
  },
  {
   "cell_type": "code",
   "execution_count": 14,
   "metadata": {
    "collapsed": false
   },
   "outputs": [
    {
     "data": {
      "text/plain": [
       "[0.25712589073634207,\n",
       " 0.32660332541567694,\n",
       " 0.34323040380047504,\n",
       " 0.33966745843230406,\n",
       " 0.34026128266033256,\n",
       " 0.3414489311163896,\n",
       " 0.3414489311163896,\n",
       " 0.3414489311163896,\n",
       " 0.3414489311163896,\n",
       " 0.3414489311163896]"
      ]
     },
     "execution_count": 14,
     "metadata": {},
     "output_type": "execute_result"
    }
   ],
   "source": [
    "# [get_accuracy(model_Phi_val[i], Y_val, lim_states=False) for i in range(0, M)]\n",
    "[get_accuracy(raw_crf(model_Phi_val[i]), Y_val) for i in range(0, M)]"
   ]
  },
  {
   "cell_type": "code",
   "execution_count": 15,
   "metadata": {
    "collapsed": false
   },
   "outputs": [
    {
     "data": {
      "text/plain": [
       "[0.24168646080760095,\n",
       " 0.3022565320665083,\n",
       " 0.3182897862232779,\n",
       " 0.3171021377672209,\n",
       " 0.3141330166270784,\n",
       " 0.3165083135391924,\n",
       " 0.3165083135391924,\n",
       " 0.3165083135391924,\n",
       " 0.3165083135391924,\n",
       " 0.3165083135391924]"
      ]
     },
     "execution_count": 15,
     "metadata": {},
     "output_type": "execute_result"
    }
   ],
   "source": [
    "# [get_accuracy(model_Phi_test[i], Y_test, lim_states=False) for i in range(0, M)]\n",
    "[get_accuracy(raw_crf(model_Phi_test[i]), Y_test) for i in range(0, M)]"
   ]
  },
  {
   "cell_type": "code",
   "execution_count": 30,
   "metadata": {
    "collapsed": false
   },
   "outputs": [
    {
     "data": {
      "text/plain": [
       "array([ 0.35714286,  0.06666667,  0.06896552,  0.16666667,  0.03571429,\n",
       "        0.45      ,  0.5       ,  0.5       ,  0.3125    ,  0.33333333,\n",
       "        0.375     ,  0.35862069,  0.17808219,  0.03846154,  0.13043478,\n",
       "        0.14705882,  0.38636364,  0.22758621,  0.40566038,  0.43283582,\n",
       "        0.78599222,  0.67295597,  0.95341615,  0.92018779,  0.88250319,\n",
       "        0.54193548,  0.83372365])"
      ]
     },
     "execution_count": 30,
     "metadata": {},
     "output_type": "execute_result"
    }
   ],
   "source": [
    "np.diagonal(confusion_matrix(raw_crf(model_Phi_test[2]), Y_test))"
   ]
  },
  {
   "cell_type": "code",
   "execution_count": null,
   "metadata": {
    "collapsed": false
   },
   "outputs": [],
   "source": [
    "model_Phi_train = sigmoid(model_Phi_train)\n",
    "model_Phi_val = sigmoid(model_Phi_val)\n",
    "model_Phi_test = sigmoid(model_Phi_test)\n",
    "lcrf = [LearnableCrf(model_Phi_train[i], Y_train) for i in range(0, M)]\n",
    "[get_accuracy(lcrf[i].predict(model_Phi_val[i]), Y_val) for i in range(0, M)]"
   ]
  },
  {
   "cell_type": "code",
   "execution_count": null,
   "metadata": {
    "collapsed": false
   },
   "outputs": [],
   "source": [
    "[get_accuracy(lcrf[i].predict(model_Phi_test[i]), Y_test) for i in range(0, M)]"
   ]
  },
  {
   "cell_type": "code",
   "execution_count": null,
   "metadata": {
    "collapsed": true
   },
   "outputs": [],
   "source": []
  }
 ],
 "metadata": {
  "kernelspec": {
   "display_name": "Python 2",
   "language": "python",
   "name": "python2"
  },
  "language_info": {
   "codemirror_mode": {
    "name": "ipython",
    "version": 2
   },
   "file_extension": ".py",
   "mimetype": "text/x-python",
   "name": "python",
   "nbconvert_exporter": "python",
   "pygments_lexer": "ipython2",
   "version": "2.7.10"
  }
 },
 "nbformat": 4,
 "nbformat_minor": 0
}
