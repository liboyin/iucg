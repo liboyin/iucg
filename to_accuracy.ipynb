{
 "cells": [
  {
   "cell_type": "code",
   "execution_count": 1,
   "metadata": {
    "collapsed": false
   },
   "outputs": [],
   "source": [
    "import numpy as np\n",
    "import pickle\n",
    "from learnable_crf import LearnableCrf\n",
    "from lib import *\n",
    "from scipy.special import expit as sigmoid"
   ]
  },
  {
   "cell_type": "code",
   "execution_count": 2,
   "metadata": {
    "collapsed": false
   },
   "outputs": [],
   "source": [
    "r = 50\n",
    "with open('cache/df_train.{}.pickle'.format(r), mode='rb') as h:\n",
    "    df = pickle.load(h)\n",
    "leaves = np.nonzero([x[0] in x[1] for x in zip(df['label'], df['pseudo_label'])])[0]\n",
    "Y_train = df['label'][leaves]\n",
    "with open('cache/df_val_test.pickle', mode='rb') as h:\n",
    "    df_val, df_test = pickle.load(h)\n",
    "Y_val = df_val['label']\n",
    "Y_test = df_test['label']\n",
    "with open('cache/hex.pickle', mode='rb') as h:\n",
    "    hex_data = pickle.load(h)\n",
    "state_space = hex_data['state_space']\n",
    "# state_space = filter(lambda x: x[:20].any(), state_space)"
   ]
  },
  {
   "cell_type": "code",
   "execution_count": 3,
   "metadata": {
    "collapsed": false
   },
   "outputs": [],
   "source": [
    "model_Phi_train = np.load('results/caffe_independent/iter_Phi_train.{}.npy'.format(r))[:, leaves]\n",
    "model_Phi_val = np.load('results/caffe_independent/iter_Phi_val.{}.npy'.format(r))\n",
    "model_Phi_test = np.load('results/caffe_independent/iter_Phi_test.{}.npy'.format(r))\n",
    "M = len(model_Phi_train)"
   ]
  },
  {
   "cell_type": "code",
   "execution_count": null,
   "metadata": {
    "collapsed": true
   },
   "outputs": [],
   "source": [
    "def raw_crf(Phi):\n",
    "    def step(phi):\n",
    "        scores = map(lambda s: phi[s].sum(), state_space)\n",
    "        return np.vstack(tuple(state_space[np.argsort(scores)[i]] for i in range(-5, 0)))\n",
    "#         return state_space[np.argmax(scores)]\n",
    "    return np.array(map(step, Phi), dtype=bool)"
   ]
  },
  {
   "cell_type": "code",
   "execution_count": null,
   "metadata": {
    "collapsed": false
   },
   "outputs": [],
   "source": [
    "# [top5_accuracy(model_Phi_val[i], Y_val, lim_states=False) for i in range(0, M)]\n",
    "[top5_accuracy(raw_crf(model_Phi_val[i]), Y_val) for i in range(0, M)]"
   ]
  },
  {
   "cell_type": "code",
   "execution_count": null,
   "metadata": {
    "collapsed": false
   },
   "outputs": [],
   "source": [
    "# [top5_accuracy(model_Phi_test[i], Y_test, lim_states=False) for i in range(0, M)]\n",
    "[top5_accuracy(raw_crf(model_Phi_test[i]), Y_test) for i in range(0, M)]"
   ]
  },
  {
   "cell_type": "code",
   "execution_count": 4,
   "metadata": {
    "collapsed": false
   },
   "outputs": [
    {
     "data": {
      "text/plain": [
       "[0.39667458432304037,\n",
       " 0.43646080760095013,\n",
       " 0.4667458432304038,\n",
       " 0.4637767220902613,\n",
       " 0.4649643705463183,\n",
       " 0.4655581947743468,\n",
       " 0.4655581947743468,\n",
       " 0.4655581947743468,\n",
       " 0.4655581947743468,\n",
       " 0.4655581947743468]"
      ]
     },
     "execution_count": 4,
     "metadata": {},
     "output_type": "execute_result"
    }
   ],
   "source": [
    "model_Phi_train = sigmoid(model_Phi_train)\n",
    "model_Phi_val = sigmoid(model_Phi_val)\n",
    "model_Phi_test = sigmoid(model_Phi_test)\n",
    "lcrf = [LearnableCrf(model_Phi_train[i], Y_train) for i in range(0, M)]\n",
    "[get_accuracy(lcrf[i].predict(model_Phi_val[i]), Y_val) for i in range(0, M)]"
   ]
  },
  {
   "cell_type": "code",
   "execution_count": 5,
   "metadata": {
    "collapsed": false
   },
   "outputs": [
    {
     "data": {
      "text/plain": [
       "[0.3812351543942993,\n",
       " 0.43764845605700714,\n",
       " 0.46140142517814725,\n",
       " 0.46140142517814725,\n",
       " 0.46199524940617576,\n",
       " 0.4637767220902613,\n",
       " 0.4643705463182898,\n",
       " 0.4643705463182898,\n",
       " 0.4643705463182898,\n",
       " 0.4643705463182898]"
      ]
     },
     "execution_count": 5,
     "metadata": {},
     "output_type": "execute_result"
    }
   ],
   "source": [
    "[get_accuracy(lcrf[i].predict(model_Phi_test[i]), Y_test) for i in range(0, M)]"
   ]
  },
  {
   "cell_type": "code",
   "execution_count": null,
   "metadata": {
    "collapsed": true
   },
   "outputs": [],
   "source": []
  }
 ],
 "metadata": {
  "kernelspec": {
   "display_name": "Python 2",
   "language": "python",
   "name": "python2"
  },
  "language_info": {
   "codemirror_mode": {
    "name": "ipython",
    "version": 2
   },
   "file_extension": ".py",
   "mimetype": "text/x-python",
   "name": "python",
   "nbconvert_exporter": "python",
   "pygments_lexer": "ipython2",
   "version": "2.7.6"
  }
 },
 "nbformat": 4,
 "nbformat_minor": 0
}
