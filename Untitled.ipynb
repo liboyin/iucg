{
 "cells": [
  {
   "cell_type": "code",
   "execution_count": 1,
   "metadata": {},
   "outputs": [],
   "source": [
    "import numpy as np\n",
    "from scipy.special import expit as sigmoid\n",
    "Phi = sigmoid(np.load('../train.90.npy'))"
   ]
  },
  {
   "cell_type": "code",
   "execution_count": 2,
   "metadata": {},
   "outputs": [],
   "source": [
    "N, D = Phi.shape"
   ]
  },
  {
   "cell_type": "code",
   "execution_count": 3,
   "metadata": {},
   "outputs": [],
   "source": [
    "import pickle\n",
    "with open('cache/df_train.90.pickle', mode='rb') as h:\n",
    "    df = pickle.load(h)\n",
    "df['phi'] = [x for x in Phi]"
   ]
  },
  {
   "cell_type": "code",
   "execution_count": 4,
   "metadata": {},
   "outputs": [
    {
     "data": {
      "text/html": [
       "<div>\n",
       "<table border=\"1\" class=\"dataframe\">\n",
       "  <thead>\n",
       "    <tr style=\"text-align: right;\">\n",
       "      <th></th>\n",
       "      <th>img</th>\n",
       "      <th>label</th>\n",
       "      <th>size_ratio</th>\n",
       "      <th>pseudo_label</th>\n",
       "      <th>edges</th>\n",
       "      <th>phi</th>\n",
       "    </tr>\n",
       "  </thead>\n",
       "  <tbody>\n",
       "    <tr>\n",
       "      <th>0</th>\n",
       "      <td>2009_001061.jpg</td>\n",
       "      <td>10</td>\n",
       "      <td>0.995339</td>\n",
       "      <td>(22, 23)</td>\n",
       "      <td>(9, 14)</td>\n",
       "      <td>[0.00445185, 0.00764435, 0.00409357, 0.0177361...</td>\n",
       "    </tr>\n",
       "    <tr>\n",
       "      <th>1</th>\n",
       "      <td>2008_006600.jpg</td>\n",
       "      <td>8</td>\n",
       "      <td>0.007645</td>\n",
       "      <td>(22, 23)</td>\n",
       "      <td>(9, 12)</td>\n",
       "      <td>[0.00963209, 0.0105562, 0.00911915, 0.0035371,...</td>\n",
       "    </tr>\n",
       "    <tr>\n",
       "      <th>2</th>\n",
       "      <td>2011_002107.jpg</td>\n",
       "      <td>10</td>\n",
       "      <td>0.947467</td>\n",
       "      <td>(22, 23)</td>\n",
       "      <td>(9, 14)</td>\n",
       "      <td>[0.00391847, 0.0050511, 0.00882551, 0.00543683...</td>\n",
       "    </tr>\n",
       "    <tr>\n",
       "      <th>3</th>\n",
       "      <td>2008_005436.jpg</td>\n",
       "      <td>16</td>\n",
       "      <td>0.606795</td>\n",
       "      <td>(24, 26)</td>\n",
       "      <td>(17, 21)</td>\n",
       "      <td>[0.00285195, 0.00221758, 0.00606554, 0.0014013...</td>\n",
       "    </tr>\n",
       "    <tr>\n",
       "      <th>4</th>\n",
       "      <td>2009_002712.jpg</td>\n",
       "      <td>6</td>\n",
       "      <td>0.468864</td>\n",
       "      <td>(22, 23)</td>\n",
       "      <td>(9, 10)</td>\n",
       "      <td>[5.90557e-05, 5.62943e-05, 0.000125976, 0.0002...</td>\n",
       "    </tr>\n",
       "  </tbody>\n",
       "</table>\n",
       "</div>"
      ]
     },
     "output_type": "execute_result",
     "metadata": {}
    }
   ],
   "source": [
    "df.drop('hierarchy', axis=1, inplace=True)  # TODO: edit pickle\n",
    "df.head()"
   ]
  },
  {
   "cell_type": "code",
   "execution_count": 5,
   "metadata": {},
   "outputs": [],
   "source": [
    "with open('cache/hex.pickle', mode='rb') as h:\n",
    "    hex_data = pickle.load(h)\n",
    "H_e = hex_data['H_e']"
   ]
  },
  {
   "cell_type": "code",
   "execution_count": 6,
   "metadata": {},
   "outputs": [],
   "source": [
    "theta = np.ones(27+24, dtype=float)"
   ]
  },
  {
   "cell_type": "code",
   "execution_count": 7,
   "metadata": {},
   "outputs": [],
   "source": [
    "def p_tilde(phi, y, edges, theta):  # sparse y, dense edges\n",
    "    unary = (theta[:27] * (phi*y + 1-(phi*np.logical_not(y)+y))).sum()\n",
    "    binary = 0\n",
    "    for e in edges:\n",
    "        a, b = H_e[e]\n",
    "        binary += theta[20+e] * phi[a] * phi[b]\n",
    "    return np.exp(unary + binary)"
   ]
  },
  {
   "cell_type": "code",
   "execution_count": 17,
   "metadata": {},
   "outputs": [],
   "source": [
    "state_space = hex_data['state_space']  # full state space\n",
    "state_edges = hex_data['state_edges']\n",
    "state_id_edges = [state_edges[tuple(s)] for s in state_space]"
   ]
  },
  {
   "cell_type": "code",
   "execution_count": 18,
   "metadata": {},
   "outputs": [],
   "source": [
    "S = len(state_space)\n",
    "P = np.empty((N, D), dtype=float)  # \\tilde{P(\\hat{y}|x)} forall x, y\n",
    "for i in range(0, N):\n",
    "    phi = df.loc[i, 'phi']\n",
    "    for j in range(0, D):\n",
    "        P[i, j] = p_tilde(phi, state_space[j], state_id_edges[j], theta)"
   ]
  },
  {
   "cell_type": "code",
   "execution_count": 19,
   "metadata": {},
   "outputs": [
    {
     "data": {
      "text/plain": [
       "(5055,)"
      ]
     },
     "execution_count": 19,
     "output_type": "execute_result",
     "metadata": {}
    }
   ],
   "source": [
    "Z = P.sum(axis=1)\n",
    "Z.shape"
   ]
  },
  {
   "cell_type": "code",
   "execution_count": null,
   "metadata": {},
   "outputs": [],
   "source": [
    "# nabla_w0\n",
    "pos = np.zeros((N, D), dtype=float)\n",
    "for i in range(0, D):\n",
    "    pos[:, i] = state_space[i, 0]"
   ]
  },
  {
   "cell_type": "code",
   "execution_count": 14,
   "metadata": {},
   "outputs": [
    {
     "data": {
      "text/plain": [
       "(5055, 27)"
      ]
     },
     "execution_count": 14,
     "output_type": "execute_result",
     "metadata": {}
    }
   ],
   "source": [
    "nabla_w += P / Z[:, None]\n",
    "nabla_w.shape"
   ]
  },
  {
   "cell_type": "code",
   "execution_count": null,
   "metadata": {},
   "outputs": [],
   "source": [
    ""
   ]
  }
 ],
 "metadata": {
  "kernelspec": {
   "display_name": "Python 2",
   "language": "python",
   "name": "python2"
  },
  "language_info": {
   "codemirror_mode": {
    "name": "ipython",
    "version": 2.0
   },
   "file_extension": ".py",
   "mimetype": "text/x-python",
   "name": "python",
   "nbconvert_exporter": "python",
   "pygments_lexer": "ipython2",
   "version": "2.7.6"
  }
 },
 "nbformat": 4,
 "nbformat_minor": 0
}