{
 "cells": [
  {
   "cell_type": "code",
   "execution_count": 1,
   "metadata": {
    "collapsed": false
   },
   "outputs": [],
   "source": [
    "import numpy as np\n",
    "import pickle\n",
    "from learnable_crf import LearnableCrf\n",
    "from scipy.special import expit as sigmoid"
   ]
  },
  {
   "cell_type": "code",
   "execution_count": 2,
   "metadata": {
    "collapsed": false
   },
   "outputs": [],
   "source": [
    "r = 90\n",
    "with open('cache/df_train.{}.pickle'.format(r), mode='rb') as h:\n",
    "    df = pickle.load(h)\n",
    "leaves = np.nonzero([x[0] in x[1] for x in zip(df['label'], df['pseudo_label'])])[0]\n",
    "Y_train = df['label'][leaves]\n",
    "with open('cache/df_val_test.pickle', mode='rb') as h:\n",
    "    df_val, df_test = pickle.load(h)\n",
    "Y_val = df_val['label']\n",
    "Y_test = df_test['label']\n",
    "with open('cache/hex.pickle', mode='rb') as h:\n",
    "    hex_data = pickle.load(h)\n",
    "state_space = hex_data['state_space']"
   ]
  },
  {
   "cell_type": "code",
   "execution_count": 3,
   "metadata": {
    "collapsed": false
   },
   "outputs": [],
   "source": [
    "iter_Phi_train = np.load('results/iter_Phi_train.{}.npy'.format(r))[:, leaves]\n",
    "iter_Phi_val = np.load('results/iter_Phi_val.{}.npy'.format(r))\n",
    "iter_Phi_test = np.load('results/iter_Phi_test.{}.npy'.format(r))"
   ]
  },
  {
   "cell_type": "code",
   "execution_count": 4,
   "metadata": {
    "collapsed": true
   },
   "outputs": [],
   "source": [
    "def get_accuracy(Y_predict, Y_truth, lim_states=False):\n",
    "    if Y_predict.dtype == bool:\n",
    "        return float(np.count_nonzero(Y_predict[np.arange(len(Y_predict)), Y_truth])) / len(Y_predict)\n",
    "    if lim_states:\n",
    "        return float(np.count_nonzero(Y_predict[:, :20].argmax(axis=1) == Y_truth)) / len(Y_predict)\n",
    "    return float(np.count_nonzero(Y_predict.argmax(axis=1) == Y_truth)) / len(Y_predict)\n",
    "def confusion_matrix(Y_predict, Y_truth):  # crf only\n",
    "    cm = np.zeros((20, 27), dtype=int)\n",
    "    count = np.zeros(20, dtype=int)\n",
    "    for i, y in enumerate(Y_predict):\n",
    "        cm[Y_truth[i], :] += y\n",
    "        count[Y_truth[i]] += 1\n",
    "    return cm.astype(float) / count[:, None]\n",
    "def raw_crf(Phi):\n",
    "    def step(phi):\n",
    "        scores = map(lambda s: phi[s].sum(), state_space)\n",
    "        return state_space[np.argmax(scores)]\n",
    "    return np.array(map(step, Phi), dtype=bool)"
   ]
  },
  {
   "cell_type": "code",
   "execution_count": 5,
   "metadata": {
    "collapsed": true
   },
   "outputs": [],
   "source": [
    "iter_Phi_train = sigmoid(iter_Phi_train)\n",
    "iter_Phi_val = sigmoid(iter_Phi_val)\n",
    "iter_Phi_test = sigmoid(iter_Phi_test)"
   ]
  },
  {
   "cell_type": "code",
   "execution_count": 6,
   "metadata": {
    "collapsed": false
   },
   "outputs": [],
   "source": [
    "lcrf = [LearnableCrf(iter_Phi_train[i], Y_train) for i in range(0, 10)]"
   ]
  },
  {
   "cell_type": "code",
   "execution_count": 7,
   "metadata": {
    "collapsed": false
   },
   "outputs": [
    {
     "data": {
      "text/plain": [
       "[0.2660332541567696,\n",
       " 0.3016627078384798,\n",
       " 0.31116389548693585,\n",
       " 0.3147268408551069,\n",
       " 0.3159144893111639,\n",
       " 0.3159144893111639,\n",
       " 0.3141330166270784,\n",
       " 0.3147268408551069,\n",
       " 0.3147268408551069,\n",
       " 0.3147268408551069]"
      ]
     },
     "execution_count": 7,
     "metadata": {},
     "output_type": "execute_result"
    }
   ],
   "source": [
    "[get_accuracy(lcrf[i].predict(iter_Phi_val[i]), Y_val) for i in range(0, 10)]"
   ]
  },
  {
   "cell_type": "code",
   "execution_count": 8,
   "metadata": {
    "collapsed": false
   },
   "outputs": [
    {
     "data": {
      "text/plain": [
       "[0.25950118764845603,\n",
       " 0.29275534441805223,\n",
       " 0.3087885985748218,\n",
       " 0.3171021377672209,\n",
       " 0.31294536817102137,\n",
       " 0.31294536817102137,\n",
       " 0.31294536817102137,\n",
       " 0.31294536817102137,\n",
       " 0.31294536817102137,\n",
       " 0.31294536817102137]"
      ]
     },
     "execution_count": 8,
     "metadata": {},
     "output_type": "execute_result"
    }
   ],
   "source": [
    "[get_accuracy(lcrf[i].predict(iter_Phi_test[i]), Y_test) for i in range(0, 10)]"
   ]
  },
  {
   "cell_type": "code",
   "execution_count": 9,
   "metadata": {
    "collapsed": false
   },
   "outputs": [],
   "source": []
  }
 ],
 "metadata": {
  "kernelspec": {
   "display_name": "Python 2",
   "language": "python",
   "name": "python2"
  },
  "language_info": {
   "codemirror_mode": {
    "name": "ipython",
    "version": 2
   },
   "file_extension": ".py",
   "mimetype": "text/x-python",
   "name": "python",
   "nbconvert_exporter": "python",
   "pygments_lexer": "ipython2",
   "version": "2.7.10"
  }
 },
 "nbformat": 4,
 "nbformat_minor": 0
}
