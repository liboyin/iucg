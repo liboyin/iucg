{
 "cells": [
  {
   "cell_type": "code",
   "execution_count": 1,
   "metadata": {
    "collapsed": true
   },
   "outputs": [],
   "source": [
    "import numpy as np\n",
    "from scipy.special import expit as sigmoid\n",
    "Phi = sigmoid(np.load('../train.90.npy'))"
   ]
  },
  {
   "cell_type": "code",
   "execution_count": 2,
   "metadata": {
    "collapsed": true
   },
   "outputs": [],
   "source": [
    "N, D = Phi.shape"
   ]
  },
  {
   "cell_type": "code",
   "execution_count": 3,
   "metadata": {
    "collapsed": true
   },
   "outputs": [],
   "source": [
    "import pickle\n",
    "with open('cache/df_train.90.pickle', mode='rb') as h:\n",
    "    df = pickle.load(h)"
   ]
  },
  {
   "cell_type": "code",
   "execution_count": 4,
   "metadata": {
    "collapsed": false
   },
   "outputs": [
    {
     "data": {
      "text/html": [
       "<div>\n",
       "<table border=\"1\" class=\"dataframe\">\n",
       "  <thead>\n",
       "    <tr style=\"text-align: right;\">\n",
       "      <th></th>\n",
       "      <th>img</th>\n",
       "      <th>label</th>\n",
       "      <th>size_ratio</th>\n",
       "      <th>pseudo_label</th>\n",
       "      <th>edges</th>\n",
       "    </tr>\n",
       "  </thead>\n",
       "  <tbody>\n",
       "    <tr>\n",
       "      <th>0</th>\n",
       "      <td>2009_001061.jpg</td>\n",
       "      <td>10</td>\n",
       "      <td>0.995339</td>\n",
       "      <td>(22, 23)</td>\n",
       "      <td>(9, 14)</td>\n",
       "    </tr>\n",
       "    <tr>\n",
       "      <th>1</th>\n",
       "      <td>2008_006600.jpg</td>\n",
       "      <td>8</td>\n",
       "      <td>0.007645</td>\n",
       "      <td>(22, 23)</td>\n",
       "      <td>(9, 12)</td>\n",
       "    </tr>\n",
       "    <tr>\n",
       "      <th>2</th>\n",
       "      <td>2011_002107.jpg</td>\n",
       "      <td>10</td>\n",
       "      <td>0.947467</td>\n",
       "      <td>(22, 23)</td>\n",
       "      <td>(9, 14)</td>\n",
       "    </tr>\n",
       "    <tr>\n",
       "      <th>3</th>\n",
       "      <td>2008_005436.jpg</td>\n",
       "      <td>16</td>\n",
       "      <td>0.606795</td>\n",
       "      <td>(24, 26)</td>\n",
       "      <td>(17, 21)</td>\n",
       "    </tr>\n",
       "    <tr>\n",
       "      <th>4</th>\n",
       "      <td>2009_002712.jpg</td>\n",
       "      <td>6</td>\n",
       "      <td>0.468864</td>\n",
       "      <td>(22, 23)</td>\n",
       "      <td>(9, 10)</td>\n",
       "    </tr>\n",
       "  </tbody>\n",
       "</table>\n",
       "</div>"
      ],
      "text/plain": [
       "               img  label  size_ratio pseudo_label     edges\n",
       "0  2009_001061.jpg     10    0.995339     (22, 23)   (9, 14)\n",
       "1  2008_006600.jpg      8    0.007645     (22, 23)   (9, 12)\n",
       "2  2011_002107.jpg     10    0.947467     (22, 23)   (9, 14)\n",
       "3  2008_005436.jpg     16    0.606795     (24, 26)  (17, 21)\n",
       "4  2009_002712.jpg      6    0.468864     (22, 23)   (9, 10)"
      ]
     },
     "execution_count": 4,
     "metadata": {},
     "output_type": "execute_result"
    }
   ],
   "source": [
    "df.head()"
   ]
  },
  {
   "cell_type": "code",
   "execution_count": 5,
   "metadata": {
    "collapsed": false
   },
   "outputs": [
    {
     "data": {
      "text/plain": [
       "0"
      ]
     },
     "execution_count": 5,
     "metadata": {},
     "output_type": "execute_result"
    }
   ],
   "source": [
    "np.count_nonzero(np.argmax(Phi, axis=1) == df['label'])"
   ]
  },
  {
   "cell_type": "code",
   "execution_count": null,
   "metadata": {
    "collapsed": true
   },
   "outputs": [],
   "source": [
    "with open('cache/hex.pickle', mode='rb') as h:\n",
    "    hex_data = pickle.load(h)\n",
    "H_e = hex_data['H_e']"
   ]
  },
  {
   "cell_type": "code",
   "execution_count": null,
   "metadata": {
    "collapsed": true
   },
   "outputs": [],
   "source": [
    "E = 24\n",
    "theta = np.ones(D + E, dtype=float)"
   ]
  },
  {
   "cell_type": "code",
   "execution_count": null,
   "metadata": {
    "collapsed": true
   },
   "outputs": [],
   "source": [
    "state_space = hex_data['state_space']  # full state space\n",
    "state_space = np.array(filter(lambda x: x[:20].any(), state_space))  # S=20 for debug\n",
    "S = len(state_space)"
   ]
  },
  {
   "cell_type": "code",
   "execution_count": null,
   "metadata": {
    "collapsed": false
   },
   "outputs": [],
   "source": [
    "state_edges = hex_data['state_edges']\n",
    "state_pairs = [frozenset(tuple(H_e[e]) for e in x) for x in state_edges]"
   ]
  },
  {
   "cell_type": "code",
   "execution_count": null,
   "metadata": {
    "collapsed": false
   },
   "outputs": [],
   "source": [
    "# N * D * S\n",
    "# N: number of images\n",
    "# D: dimension of phi\n",
    "# S: state space size\n",
    "X = np.tile(Phi[:, :, None], (1, 1, S))  # from N * D\n",
    "Y = np.tile(state_space.T, (N, 1, 1))  # from S * D\n",
    "W = np.tile(theta[:D, None], (N, 1, S))  # from 1 * D\n",
    "unary = W * (X * Y + (1 - X) * np.logical_not(Y))"
   ]
  },
  {
   "cell_type": "code",
   "execution_count": null,
   "metadata": {
    "collapsed": false
   },
   "outputs": [],
   "source": [
    "# N * S * E\n",
    "t = theta[D:]\n",
    "def step(x):  # x \\in R^D\n",
    "    b = np.zeros((S, E), dtype=float)\n",
    "    for i in range(0, S):\n",
    "        for j in state_edges[i]:\n",
    "            b[i, j] = t[j] * x[H_e[j]].prod()\n",
    "    return b\n",
    "binary = np.array(map(step, Phi), dtype=float)"
   ]
  },
  {
   "cell_type": "code",
   "execution_count": null,
   "metadata": {
    "collapsed": true
   },
   "outputs": [],
   "source": [
    "P = unary.sum(axis=1) + binary.sum(axis=2)\n",
    "predict = P.argmax(axis=1)"
   ]
  },
  {
   "cell_type": "code",
   "execution_count": null,
   "metadata": {
    "collapsed": false
   },
   "outputs": [],
   "source": [
    "np.count_nonzero(predict == df['label'])"
   ]
  },
  {
   "cell_type": "code",
   "execution_count": null,
   "metadata": {
    "collapsed": true
   },
   "outputs": [],
   "source": []
  }
 ],
 "metadata": {
  "kernelspec": {
   "display_name": "Python 2",
   "language": "python",
   "name": "python2"
  },
  "language_info": {
   "codemirror_mode": {
    "name": "ipython",
    "version": 2
   },
   "file_extension": ".py",
   "mimetype": "text/x-python",
   "name": "python",
   "nbconvert_exporter": "python",
   "pygments_lexer": "ipython2",
   "version": "2.7.6"
  }
 },
 "nbformat": 4,
 "nbformat_minor": 0
}
