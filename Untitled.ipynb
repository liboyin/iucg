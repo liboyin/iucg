{
 "cells": [
  {
   "cell_type": "code",
   "execution_count": 1,
   "metadata": {
    "collapsed": false
   },
   "outputs": [
    {
     "data": {
      "text/plain": [
       "(1684, 27)"
      ]
     },
     "execution_count": 1,
     "metadata": {},
     "output_type": "execute_result"
    }
   ],
   "source": [
    "import numpy as np\n",
    "from scipy.special import expit as sigmoid\n",
    "r = 90\n",
    "Phi_val = sigmoid(np.load('results/svm_distance/kern_Phi_val.{}.npy'.format(r))[0])\n",
    "Phi_val.shape"
   ]
  },
  {
   "cell_type": "code",
   "execution_count": 2,
   "metadata": {
    "collapsed": true
   },
   "outputs": [],
   "source": [
    "import pickle\n",
    "with open('cache/hex.pickle', mode='rb') as h:\n",
    "    hex_data = pickle.load(h)\n",
    "id_fh = map(lambda x: max(x, key=len), hex_data['id_hierarchical_labels'])\n",
    "with open('cache/df_val_test.pickle', mode='rb') as h:\n",
    "    df_val, _ = pickle.load(h)\n",
    "Y_val = [id_fh[x] for x in df_val['label']]"
   ]
  },
  {
   "cell_type": "code",
   "execution_count": 3,
   "metadata": {
    "collapsed": false
   },
   "outputs": [
    {
     "name": "stdout",
     "output_type": "stream",
     "text": [
      "0.24099950132 0.0641991066737\n",
      "0.222776869627 0.0789105281703\n",
      "0.233721101278 0.0793435686622\n",
      "0.279729879429 0.113656558199\n",
      "0.258239158518 0.0950103381947\n",
      "0.230474704862 0.0936633428171\n",
      "0.253871642962 0.0853557264687\n",
      "0.256009719796 0.0800372984785\n",
      "0.246990667573 0.0846687103144\n",
      "0.234930445916 0.0751019132628\n",
      "0.217155678107 0.101009075802\n",
      "0.236277190553 0.103665990881\n",
      "0.264677087946 0.0903642572114\n",
      "0.222748762123 0.0634059146211\n",
      "0.222021793794 0.0736053065139\n",
      "0.23328731635 0.0900360861971\n",
      "0.256815900837 0.107203346884\n",
      "0.270725076882 0.104158057215\n",
      "0.270356704624 0.117923326501\n",
      "0.246589581054 0.107790669085\n",
      "0.659853447572 0.228020662541\n",
      "0.570786511199 0.249202374082\n",
      "0.805292252893 0.194959811146\n",
      "0.769178400877 0.226786357389\n",
      "0.781600191813 0.216739860851\n",
      "0.609829644318 0.238907300959\n",
      "0.73943730303 0.21514719958\n"
     ]
    }
   ],
   "source": [
    "for i in range(0, 27):\n",
    "    mask = [i in y for y in Y_val]\n",
    "    Phi_val_select = Phi_val[np.nonzero(mask)[0], :]\n",
    "    print np.mean(Phi_val_select[:, i]), np.std(Phi_val_select[:, i])"
   ]
  },
  {
   "cell_type": "code",
   "execution_count": null,
   "metadata": {
    "collapsed": true
   },
   "outputs": [],
   "source": []
  }
 ],
 "metadata": {
  "kernelspec": {
   "display_name": "Python 2",
   "language": "python",
   "name": "python2"
  },
  "language_info": {
   "codemirror_mode": {
    "name": "ipython",
    "version": 2
   },
   "file_extension": ".py",
   "mimetype": "text/x-python",
   "name": "python",
   "nbconvert_exporter": "python",
   "pygments_lexer": "ipython2",
   "version": "2.7.6"
  }
 },
 "nbformat": 4,
 "nbformat_minor": 0
}
