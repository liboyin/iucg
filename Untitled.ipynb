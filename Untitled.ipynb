{
 "cells": [
  {
   "cell_type": "code",
   "execution_count": 30,
   "metadata": {
    "collapsed": false
   },
   "outputs": [
    {
     "data": {
      "text/plain": [
       "(1684, 27)"
      ]
     },
     "execution_count": 30,
     "metadata": {},
     "output_type": "execute_result"
    }
   ],
   "source": [
    "import numpy as np\n",
    "from scipy.special import expit as sigmoid\n",
    "r = 50\n",
    "Phi_val = np.load('results/svm/kern_Phi_val.{}.npy'.format(r))[1]\n",
    "Phi_val.shape"
   ]
  },
  {
   "cell_type": "code",
   "execution_count": 31,
   "metadata": {
    "collapsed": true
   },
   "outputs": [],
   "source": [
    "import pickle\n",
    "with open('cache/hex.pickle', mode='rb') as h:\n",
    "    hex_data = pickle.load(h)\n",
    "id_fh = map(lambda x: max(x, key=len), hex_data['id_hierarchical_labels'])\n",
    "with open('cache/df_val_test.pickle', mode='rb') as h:\n",
    "    df_val, _ = pickle.load(h)\n",
    "Y_val = [id_fh[x] for x in df_val['label']]"
   ]
  },
  {
   "cell_type": "code",
   "execution_count": 32,
   "metadata": {
    "collapsed": false
   },
   "outputs": [
    {
     "name": "stdout",
     "output_type": "stream",
     "text": [
      "0.188253090856 0.273771049279\n",
      "0.0427498444896 0.0435744316424\n",
      "0.0812800395069 0.119799486096\n",
      "0.131886062438 0.247414497273\n",
      "0.144994658469 0.299347902\n",
      "0.260021125859 0.376926406505\n",
      "0.267724321218 0.294439007461\n",
      "0.288565105688 0.307907859775\n",
      "0.19629289954 0.233060918373\n",
      "0.205562674447 0.30389815339\n",
      "0.215814577725 0.286398669696\n",
      "0.255617750307 0.262247949817\n",
      "0.254127357608 0.319898499492\n",
      "0.13299364908 0.229206331746\n",
      "0.110149455779 0.171784708851\n",
      "0.182765575074 0.231035930061\n",
      "0.274958540754 0.284950815349\n",
      "0.236426580141 0.241398539439\n",
      "0.290919666338 0.307161310839\n",
      "0.268820520393 0.272362592911\n",
      "0.750748727689 0.308501539325\n",
      "0.601409703256 0.366409793114\n",
      "0.883562668321 0.227626294185\n",
      "0.830348387424 0.286426386216\n",
      "0.850514822864 0.229729475778\n",
      "0.636233950645 0.370781666899\n",
      "0.795493408494 0.283584019381\n"
     ]
    }
   ],
   "source": [
    "for i in range(0, 27):\n",
    "    mask = [i in y for y in Y_val]\n",
    "    Phi_val_select = Phi_val[np.nonzero(mask)[0], :]\n",
    "    print np.mean(Phi_val_select[:, i]), np.std(Phi_val_select[:, i])"
   ]
  },
  {
   "cell_type": "code",
   "execution_count": null,
   "metadata": {
    "collapsed": true
   },
   "outputs": [],
   "source": []
  }
 ],
 "metadata": {
  "kernelspec": {
   "display_name": "Python 2",
   "language": "python",
   "name": "python2"
  },
  "language_info": {
   "codemirror_mode": {
    "name": "ipython",
    "version": 2
   },
   "file_extension": ".py",
   "mimetype": "text/x-python",
   "name": "python",
   "nbconvert_exporter": "python",
   "pygments_lexer": "ipython2",
   "version": "2.7.10"
  }
 },
 "nbformat": 4,
 "nbformat_minor": 0
}
