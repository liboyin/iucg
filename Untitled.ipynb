{
 "cells": [
  {
   "cell_type": "code",
   "execution_count": 1,
   "metadata": {
    "collapsed": false
   },
   "outputs": [
    {
     "data": {
      "text/plain": [
       "(5055, 27)"
      ]
     },
     "execution_count": 1,
     "metadata": {},
     "output_type": "execute_result"
    }
   ],
   "source": [
    "import numpy as np\n",
    "from scipy.special import expit as sigmoid\n",
    "Phi_train = sigmoid(np.load('results/iter_Phi_train.0.npy')[0])\n",
    "Phi_train.shape"
   ]
  },
  {
   "cell_type": "code",
   "execution_count": 2,
   "metadata": {
    "collapsed": true
   },
   "outputs": [],
   "source": [
    "import pickle\n",
    "with open('cache/df_train.0.pickle', mode='rb') as h:\n",
    "    df = pickle.load(h)\n",
    "Y_train = df['label']"
   ]
  },
  {
   "cell_type": "code",
   "execution_count": 3,
   "metadata": {
    "collapsed": false
   },
   "outputs": [],
   "source": [
    "with open('cache/hex.pickle', mode='rb') as h:\n",
    "    hex_data = pickle.load(h)\n",
    "state_space = hex_data['state_space']"
   ]
  },
  {
   "cell_type": "code",
   "execution_count": 4,
   "metadata": {
    "collapsed": true
   },
   "outputs": [],
   "source": [
    "unary = np.empty((5055, 27, 27), dtype=float)\n",
    "for i in range(0, 5055):\n",
    "    x = Phi_train[i]\n",
    "    for j in range(0, 27):\n",
    "        y = state_space[j]\n",
    "        unary[i, j, :] = x * y + (1 - x) * np.logical_not(y)"
   ]
  },
  {
   "cell_type": "code",
   "execution_count": 5,
   "metadata": {
    "collapsed": true
   },
   "outputs": [],
   "source": [
    "H_e = hex_data['H_e']\n",
    "state_edges = hex_data['state_edges']"
   ]
  },
  {
   "cell_type": "code",
   "execution_count": 6,
   "metadata": {
    "collapsed": false
   },
   "outputs": [],
   "source": [
    "pairwise = np.zeros((5055, 27, 24), dtype=float)\n",
    "for i in range(0, 5055):\n",
    "    x = Phi_train[i]\n",
    "    for j in range(0, 27):\n",
    "        for e in state_edges[j]:\n",
    "            pairwise[i, j, e] += x[H_e[e]].prod()"
   ]
  },
  {
   "cell_type": "code",
   "execution_count": 11,
   "metadata": {
    "collapsed": false
   },
   "outputs": [],
   "source": [
    "P_tilde = np.exp(unary.sum(axis=2))\n",
    "Z = P_tilde.sum(axis=1)\n",
    "P_norm = P_tilde / Z[:, None]"
   ]
  },
  {
   "cell_type": "code",
   "execution_count": 15,
   "metadata": {
    "collapsed": false
   },
   "outputs": [],
   "source": [
    "nabla_w_data = np.zeros((5055, 27), dtype=float)\n",
    "for i in range(0, 5055):\n",
    "    x = Phi_train[i]\n",
    "    y = state_space[Y_train[i]]\n",
    "    for j in range(0, 27):\n",
    "        nabla_w_data[i, j] = x[j] if y[j] else 1 - x[j]"
   ]
  },
  {
   "cell_type": "code",
   "execution_count": 17,
   "metadata": {
    "collapsed": false
   },
   "outputs": [],
   "source": [
    "nabla_w_Z = np.zeros((5055, 27), dtype=float)\n",
    "for i in range(0, 5055):\n",
    "    x = Phi_train[i]\n",
    "    for j in range(0, 27):\n",
    "        for k in range(0, 27):\n",
    "            y = state_space[k]\n",
    "            nabla_w_Z[i, j] += P_norm[i, k] * (x[j] if y[j] else 1 - x[j])"
   ]
  },
  {
   "cell_type": "code",
   "execution_count": 18,
   "metadata": {
    "collapsed": false
   },
   "outputs": [
    {
     "data": {
      "text/plain": [
       "array([ 0.98353996,  0.89022657,  0.98777598,  0.8914363 ,  0.98522368,\n",
       "        0.87691797,  0.76939613,  0.98015792,  0.94225081,  0.84532718,\n",
       "        0.51349357,  0.98867751,  0.94710282,  0.98913164,  0.99625217,\n",
       "        0.9914518 ,  0.99219852,  0.99475705,  0.98825977,  0.99892844,\n",
       "        0.96144316,  0.98957446,  0.01062137,  0.03451043,  0.00682388,\n",
       "        0.99336607,  0.97972056])"
      ]
     },
     "execution_count": 18,
     "metadata": {},
     "output_type": "execute_result"
    }
   ],
   "source": [
    "nabla_w_data[0]"
   ]
  },
  {
   "cell_type": "code",
   "execution_count": 19,
   "metadata": {
    "collapsed": false
   },
   "outputs": [
    {
     "data": {
      "text/plain": [
       "array([ 0.98188314,  0.88861515,  0.98611875,  0.8871435 ,  0.98081245,\n",
       "        0.87266261,  0.70532443,  0.90523864,  0.86781124,  0.77476813,\n",
       "        0.5081396 ,  0.95913056,  0.91772571,  0.98758797,  0.99470817,\n",
       "        0.98990799,  0.99061196,  0.99317038,  0.98667346,  0.99478664,\n",
       "        0.92669367,  0.97979975,  0.91977272,  0.76575843,  0.96016926,\n",
       "        0.98458277,  0.97093891])"
      ]
     },
     "execution_count": 19,
     "metadata": {},
     "output_type": "execute_result"
    }
   ],
   "source": [
    "nabla_w_Z[0]"
   ]
  },
  {
   "cell_type": "code",
   "execution_count": 22,
   "metadata": {
    "collapsed": false
   },
   "outputs": [
    {
     "data": {
      "text/plain": [
       "array([   35.68576863,   -59.65137795,    16.59141807,  -173.88319825,\n",
       "        -129.73853431,  -219.93561024,   -34.72753916,  -269.57879304,\n",
       "        -154.37501912,  -422.67783946,    56.52376505,   -30.04454224,\n",
       "         -57.7520576 ,   -45.00747893,  -366.92679777,  -432.50799296,\n",
       "         -59.85708095,   -24.53116681,   158.08742788,   -82.38745914,\n",
       "       -1253.72560808,  -517.33483274, -1662.60743893,  -817.51615431,\n",
       "       -1228.61229851, -1042.72995885,  -428.20632898])"
      ]
     },
     "execution_count": 22,
     "metadata": {},
     "output_type": "execute_result"
    }
   ],
   "source": [
    "(nabla_w_data - nabla_w_Z).sum(axis=0)"
   ]
  },
  {
   "cell_type": "code",
   "execution_count": 25,
   "metadata": {
    "collapsed": false
   },
   "outputs": [
    {
     "data": {
      "text/plain": [
       "array([[[1, 2],\n",
       "        [1, 2]],\n",
       "\n",
       "       [[1, 2],\n",
       "        [1, 2]]])"
      ]
     },
     "execution_count": 25,
     "metadata": {},
     "output_type": "execute_result"
    }
   ],
   "source": [
    "np.tile(np.array([1, 2, 3])[None, None, :2], (2, 2, 1))"
   ]
  },
  {
   "cell_type": "code",
   "execution_count": 26,
   "metadata": {
    "collapsed": false
   },
   "outputs": [
    {
     "data": {
      "text/plain": [
       "array([[3, 4],\n",
       "       [5, 6],\n",
       "       [1, 2]])"
      ]
     },
     "execution_count": 26,
     "metadata": {},
     "output_type": "execute_result"
    }
   ],
   "source": [
    "a = [[[1, 2], [3, 4]],\n",
    "     [[5, 6], [7, 8]],\n",
    "     [[9, 0], [1, 2]]]\n",
    "np.array(a)[[0, 1, 2], [1, 0, 1], :]"
   ]
  },
  {
   "cell_type": "code",
   "execution_count": null,
   "metadata": {
    "collapsed": true
   },
   "outputs": [],
   "source": []
  }
 ],
 "metadata": {
  "kernelspec": {
   "display_name": "Python 2",
   "language": "python",
   "name": "python2"
  },
  "language_info": {
   "codemirror_mode": {
    "name": "ipython",
    "version": 2
   },
   "file_extension": ".py",
   "mimetype": "text/x-python",
   "name": "python",
   "nbconvert_exporter": "python",
   "pygments_lexer": "ipython2",
   "version": "2.7.10"
  }
 },
 "nbformat": 4,
 "nbformat_minor": 0
}
