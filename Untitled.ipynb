{
 "cells": [
  {
   "cell_type": "code",
   "execution_count": 10,
   "metadata": {
    "collapsed": true
   },
   "outputs": [],
   "source": [
    "import pickle\n",
    "with open('../aPascal08/Annotations.txt', mode='r') as h:\n",
    "    lines = h.read().splitlines()\n",
    "with open('cache/hex.pickle', mode='rb') as h:\n",
    "    hex_data = pickle.load(h)\n",
    "name_id = hex_data['name_id']"
   ]
  },
  {
   "cell_type": "code",
   "execution_count": 2,
   "metadata": {
    "collapsed": true
   },
   "outputs": [],
   "source": [
    "import numpy as np\n",
    "np.set_printoptions(threshold=np.nan, linewidth=np.nan)\n",
    "co_occur = np.zeros((20, 64), dtype=int)"
   ]
  },
  {
   "cell_type": "code",
   "execution_count": 4,
   "metadata": {
    "collapsed": false
   },
   "outputs": [],
   "source": [
    "filenames = []\n",
    "labels = []\n",
    "boxes = []\n",
    "attributes = []\n",
    "for l in lines:\n",
    "    tokens = l.split(' ')\n",
    "    filenames.append(tokens[0])\n",
    "    label = name_id[tokens[1]]\n",
    "    labels.append(label)\n",
    "    boxes.append(tuple(map(int, tokens[2:6])))\n",
    "    attr = tuple(map(int, tokens[6:]))\n",
    "    attributes.append(attr)\n",
    "    co_occur[label] += attr\n",
    "objs = list(zip(filenames, labels, boxes, attributes))"
   ]
  },
  {
   "cell_type": "code",
   "execution_count": 5,
   "metadata": {
    "collapsed": false,
    "scrolled": true
   },
   "outputs": [
    {
     "data": {
      "text/plain": [
       "array([[ 170,    0,  146,    0,    0,  288,    0,    0,    0,    0,    0,    0,    0,    0,    0,    0,    0,    0,    0,    0,    0,    0,    0,    0,    0,    0,    0,    0,    0,    0,    0,    0,    0,    0,    0,    0,    0,    0,    0,  144,    0,    0,    0,    0,    0,    0,    0,    0,    0,    0,    0,    0,   52,   58,  272,  108,    0,   22,    0,    0,   22,   86,    0,    0],\n",
       "       [ 536,  858,    0,    0,    0, 1090,    0,    0,    0,    0,    0,    0,    0,    0,    0,    0,    0,    0,    0,    0,    0,    0,    0,    0,    0,    0,    0,    0,    0,    0,    0,    0,    0,    0,    0,    0,    0,    0,    0,  890, 1518, 1032,  552,    0,    0,    0,    0,    0,    0,    0,    0,    0,  370,  456,  956,  694,    0,    0,    0,    0,    0,  276,    0,    0],\n",
       "       [ 150,  280,   42,    0,    0,  316,    0,    0,    0,    0,    0,    0,    0,    0,    0,    0,    0,    0,    0,    0,    0,    0,    0,    0,    0,    0,    0,    0,    0,    0,    0,    0,    0,    0,    0,    0,    0,    0,    0,  142,  410,  400,  362,    0,    0,    0,    0,    0,    0,    0,    0,    0,    0,   14,  148,  430,    0,    0,    0,    0,    0,    0,    0,   60],\n",
       "       [   0,    0,    0,  980,   84,  368,    0,    0,    0,    0,    0,    0,    0,    0,    0,    0,    0,    0,    0,    0,    0,    0,    0,    0,    0,    0,    0,    0,    0,    0,    0,    0,    0,    0,    0,    0,    0,    0,  806,    0,    0,    0,    0,    0,    0,    0,    0,    0,    0,    0,    0,    0,   66,  296,    0,    0,    0,  752,    0,    0,  358,  416,    0,    0],\n",
       "       [   0,    0,    0,  656,   62,  264,    0,    0,    0,    0,    0,    0,    0,    0,    0,    0,    0,    0,    0,    0,    0,    0,    0,    0,    0,    0,    0,    0,    0,    0,    0,    0,    0,    0,    0,    0,    0,    0,    0,    0,    0,    0,    0,    0,    0,    0,  770,  238,  442,  746,    0,    0,    0,    0,    0,    0,    0,    0,    0,    0,    0,    0,  814,    0]])"
      ]
     },
     "execution_count": 5,
     "metadata": {},
     "output_type": "execute_result"
    }
   ],
   "source": [
    "co_occur[:5, :]"
   ]
  },
  {
   "cell_type": "code",
   "execution_count": 7,
   "metadata": {
    "collapsed": false
   },
   "outputs": [
    {
     "data": {
      "text/html": [
       "<div>\n",
       "<table border=\"1\" class=\"dataframe\">\n",
       "  <thead>\n",
       "    <tr style=\"text-align: right;\">\n",
       "      <th></th>\n",
       "      <th>filename</th>\n",
       "      <th>label</th>\n",
       "      <th>box</th>\n",
       "      <th>attributes</th>\n",
       "    </tr>\n",
       "  </thead>\n",
       "  <tbody>\n",
       "    <tr>\n",
       "      <th>0</th>\n",
       "      <td>2008_000008.jpg</td>\n",
       "      <td>14</td>\n",
       "      <td>(54, 87, 471, 419)</td>\n",
       "      <td>(0, 0, 0, 0, 0, 1, 1, 0, 1, 1, 1, 0, 0, 0, 0, ...</td>\n",
       "    </tr>\n",
       "    <tr>\n",
       "      <th>1</th>\n",
       "      <td>2008_000008.jpg</td>\n",
       "      <td>19</td>\n",
       "      <td>(158, 44, 289, 166)</td>\n",
       "      <td>(0, 0, 0, 0, 0, 1, 0, 0, 1, 1, 0, 1, 1, 1, 1, ...</td>\n",
       "    </tr>\n",
       "    <tr>\n",
       "      <th>2</th>\n",
       "      <td>2008_000015.jpg</td>\n",
       "      <td>3</td>\n",
       "      <td>(270, 1, 377, 175)</td>\n",
       "      <td>(0, 0, 0, 0, 1, 1, 0, 0, 0, 0, 0, 0, 0, 0, 0, ...</td>\n",
       "    </tr>\n",
       "    <tr>\n",
       "      <th>3</th>\n",
       "      <td>2008_000015.jpg</td>\n",
       "      <td>3</td>\n",
       "      <td>(57, 1, 164, 149)</td>\n",
       "      <td>(0, 0, 0, 1, 0, 1, 0, 0, 0, 0, 0, 0, 0, 0, 0, ...</td>\n",
       "    </tr>\n",
       "    <tr>\n",
       "      <th>4</th>\n",
       "      <td>2008_000019.jpg</td>\n",
       "      <td>16</td>\n",
       "      <td>(139, 2, 371, 196)</td>\n",
       "      <td>(0, 0, 0, 0, 0, 0, 1, 0, 1, 1, 1, 0, 0, 0, 0, ...</td>\n",
       "    </tr>\n",
       "  </tbody>\n",
       "</table>\n",
       "</div>"
      ],
      "text/plain": [
       "          filename  label                  box  \\\n",
       "0  2008_000008.jpg     14   (54, 87, 471, 419)   \n",
       "1  2008_000008.jpg     19  (158, 44, 289, 166)   \n",
       "2  2008_000015.jpg      3   (270, 1, 377, 175)   \n",
       "3  2008_000015.jpg      3    (57, 1, 164, 149)   \n",
       "4  2008_000019.jpg     16   (139, 2, 371, 196)   \n",
       "\n",
       "                                          attributes  \n",
       "0  (0, 0, 0, 0, 0, 1, 1, 0, 1, 1, 1, 0, 0, 0, 0, ...  \n",
       "1  (0, 0, 0, 0, 0, 1, 0, 0, 1, 1, 0, 1, 1, 1, 1, ...  \n",
       "2  (0, 0, 0, 0, 1, 1, 0, 0, 0, 0, 0, 0, 0, 0, 0, ...  \n",
       "3  (0, 0, 0, 1, 0, 1, 0, 0, 0, 0, 0, 0, 0, 0, 0, ...  \n",
       "4  (0, 0, 0, 0, 0, 0, 1, 0, 1, 1, 1, 0, 0, 0, 0, ...  "
      ]
     },
     "execution_count": 7,
     "metadata": {},
     "output_type": "execute_result"
    }
   ],
   "source": [
    "import pandas as pd\n",
    "df = pd.DataFrame(objs, columns=['filename', 'label', 'box', 'attributes'])\n",
    "df.head()"
   ]
  },
  {
   "cell_type": "code",
   "execution_count": 9,
   "metadata": {
    "collapsed": true
   },
   "outputs": [],
   "source": [
    "import random\n",
    "df_person = df[df['label'] == 19]\n",
    "df_no_person = df.drop(df_person.index)\n",
    "person_sample = df.ix[random.sample(list(df_person.index), 1100)]\n",
    "df = pd.concat([df_no_person, person_sample], ignore_index=True)"
   ]
  },
  {
   "cell_type": "code",
   "execution_count": 12,
   "metadata": {
    "collapsed": true
   },
   "outputs": [],
   "source": [
    "# hierarhcical relabel\n",
    "id_hls = hex_data['id_hierarchical_labels'][:20]  # id_hls for id_hierarchical_labels, leaf nodes only\n",
    "id_fh, id_iph = zip(*map(lambda x: sorted(x, key=len, reverse=True)[:2], id_hls))"
   ]
  },
  {
   "cell_type": "code",
   "execution_count": 14,
   "metadata": {
    "collapsed": false
   },
   "outputs": [
    {
     "data": {
      "text/plain": [
       "((20, 21),\n",
       " (20, 21),\n",
       " (20, 21),\n",
       " (20,),\n",
       " (20,),\n",
       " (20,),\n",
       " (22, 23),\n",
       " (22, 23),\n",
       " (22, 23),\n",
       " (22, 23),\n",
       " (22, 23),\n",
       " (22,),\n",
       " (22,),\n",
       " (24, 25),\n",
       " (24, 25),\n",
       " (24, 25),\n",
       " (24, 26),\n",
       " (24, 26),\n",
       " (24, 26),\n",
       " (24,))"
      ]
     },
     "execution_count": 14,
     "metadata": {},
     "output_type": "execute_result"
    }
   ],
   "source": [
    "id_iph"
   ]
  },
  {
   "cell_type": "code",
   "execution_count": 11,
   "metadata": {
    "collapsed": true
   },
   "outputs": [],
   "source": [
    "from sklearn.cross_validation import train_test_split\n",
    "df_train_val, df_test = train_test_split(df, test_size=0.2)\n",
    "df_train, df_val = train_test_split(df_train_val, test_size=0.25)"
   ]
  },
  {
   "cell_type": "code",
   "execution_count": null,
   "metadata": {
    "collapsed": true
   },
   "outputs": [],
   "source": []
  }
 ],
 "metadata": {
  "kernelspec": {
   "display_name": "Python 2",
   "language": "python",
   "name": "python2"
  },
  "language_info": {
   "codemirror_mode": {
    "name": "ipython",
    "version": 2
   },
   "file_extension": ".py",
   "mimetype": "text/x-python",
   "name": "python",
   "nbconvert_exporter": "python",
   "pygments_lexer": "ipython2",
   "version": "2.7.6"
  }
 },
 "nbformat": 4,
 "nbformat_minor": 0
}
