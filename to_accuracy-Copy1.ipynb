{
 "cells": [
  {
   "cell_type": "code",
   "execution_count": 1,
   "metadata": {
    "collapsed": false
   },
   "outputs": [],
   "source": [
    "from __future__ import print_function\n",
    "import pickle\n",
    "with open('cache/df.pickle', mode='rb') as h:\n",
    "    _, df_test = pickle.load(h)\n",
    "with open('cache/hex.pickle', mode='rb') as h:\n",
    "    hex_data = pickle.load(h)"
   ]
  },
  {
   "cell_type": "code",
   "execution_count": 2,
   "metadata": {
    "collapsed": true
   },
   "outputs": [],
   "source": [
    "from collections import Counter\n",
    "labels = df_test['label']\n",
    "label_counter = Counter(labels)  # dict<label, #_of_occurrence>\n",
    "id_hls = map(set, hex_data['id_hierarchical_labels'])  # id_hls for id_hierarchical_labels\n",
    "id_fh = map(lambda x: max(x, key=len), id_hls)  # id_fh for id_full_hierarchy"
   ]
  },
  {
   "cell_type": "code",
   "execution_count": 3,
   "metadata": {
    "collapsed": false
   },
   "outputs": [],
   "source": [
    "import numpy as np\n",
    "def get_accuracy(Y, threshold=0, normalize=True):\n",
    "    \"\"\"\n",
    "    Calculates the accuracy of a prediction, decomposed to labels. Numerical predictions are thresholded.\n",
    "    Type 0: leaf accuracy, as used in Deng et al, p13. Note that for boolean y from CRF, leaf nodes compete in state space, whereas for numerical y, leaf nodes compete explicitly\n",
    "    Type 1: prediction IS the full hierarchy\n",
    "    Type 2: prediction COVERS the full hierarchy\n",
    "    Type 3: prediction IS any partial hierarchy\n",
    "    Type 4: prediction COVERS any partial hierarchy\n",
    "    Implication: 1->2, 1->3, 2->4, 3->4\n",
    "    Note that type 2 and 3 are mutually exclusive.\n",
    "    Args:\n",
    "        Y: N * D matrix of prediction. Data type may be either numerical or boolean.\n",
    "        threshold: binarize numerical prediction for accuracy type 1-4. Not needed for binary prediction.\n",
    "        normalize: if False, returns positive count instead of accuracy.\n",
    "    Returns:\n",
    "        21 * 5 matrix, where the last row denotes overall accuracy.\n",
    "    \"\"\"\n",
    "    is_bool = Y.dtype == bool\n",
    "    by_label = np.zeros((20, 5), dtype=int)\n",
    "    for i in range(0, len(Y)):\n",
    "        l, y = labels[i], Y[i]\n",
    "        if (is_bool and y[l]) or (not is_bool and np.argmax(y[:20]) == l):\n",
    "            by_label[l, 0] += 1\n",
    "        y = np.nonzero(y > threshold)[0]\n",
    "        if tuple(y) == id_fh[l]:\n",
    "            by_label[l, 1:] += 1\n",
    "        elif set(id_fh[l]) in set(y):\n",
    "            by_label[l, [2, 4]] += 1\n",
    "        elif tuple(y) in id_hls[l]:\n",
    "            by_label[l, [3, 4]] += 1\n",
    "        elif any(set(x) in set(y) for x in id_hls[l]):\n",
    "            by_label[l, 4] += 1\n",
    "    overall = np.sum(by_label, axis=0, dtype=int)\n",
    "    if normalize:\n",
    "        by_label = by_label.astype(np.float32)\n",
    "        for i in range(0, 20):\n",
    "            by_label[i] /= label_counter[i]\n",
    "        overall = overall.astype(np.float32) / len(Y)\n",
    "    return np.vstack((by_label, overall))"
   ]
  },
  {
   "cell_type": "code",
   "execution_count": 4,
   "metadata": {
    "collapsed": true
   },
   "outputs": [],
   "source": [
    "np.set_printoptions(threshold=np.nan, precision=4)\n",
    "id_name = hex_data['id_name']\n",
    "def accuracy_str(accuracy):\n",
    "    lines = str(accuracy).splitlines()\n",
    "    lines = map(lambda x: x.replace(' [', '['), lines)\n",
    "    lines[0] = lines[0].replace('[[', '[')\n",
    "    for i in range(0, 20):\n",
    "        lines[i] = '{} {}'.format(lines[i], id_name[i])\n",
    "    lines[-1] = '{} {}'.format(lines[-1].replace(']]', ']'), 'overall')\n",
    "    return '\\n'.join(lines)"
   ]
  },
  {
   "cell_type": "code",
   "execution_count": 5,
   "metadata": {
    "collapsed": true
   },
   "outputs": [],
   "source": [
    "def opt_model(model_Y, threshold=0):\n",
    "    print('threshold={0:.2f}'.format(threshold), end='\\r')\n",
    "    scores = [get_accuracy(Y, threshold)[-1, 0] for Y in model_Y]\n",
    "#     scores = [get_accuracy(Y, threshold)[-1, [0, 1, 3]].prod() for Y in model_Y]\n",
    "    opt_model = np.argmax(scores)\n",
    "    return opt_model, scores[opt_model]"
   ]
  },
  {
   "cell_type": "code",
   "execution_count": 6,
   "metadata": {
    "collapsed": true
   },
   "outputs": [],
   "source": [
    "def opt_model_threshold(model_Y):\n",
    "    \"\"\"\n",
    "    Performes an exaustive search for the model and threshold, as used in @get_accuracy.\n",
    "    The range of threshold is [-0.5, 0.5], with step size 0.1.\n",
    "    Args:\n",
    "        model_Y: M * N * D matrix, where M is the number of models.\n",
    "    \"\"\"\n",
    "    thresholds = np.linspace(-0.5, 0.5, num=101)\n",
    "    thres_opt_model, thres_score = zip(*[opt_model(model_Y, t) for t in thresholds])\n",
    "    \n",
    "    print(thres_opt_model, thres_score)\n",
    "    \n",
    "    opt_thres = np.argmax(thres_score)\n",
    "    return thres_opt_model[opt_thres], thresholds[opt_thres]"
   ]
  },
  {
   "cell_type": "code",
   "execution_count": 7,
   "metadata": {
    "collapsed": true
   },
   "outputs": [],
   "source": [
    "state_space = hex_data['state_space']\n",
    "def to_crf(Y, leaf_weight=4):\n",
    "    w = np.hstack(([leaf_weight] * 20, [1] * (len(id_name) - 20)))\n",
    "    def to_crf_step(y):\n",
    "        scores = map(lambda s: (w * y)[s].sum(), state_space)\n",
    "        return state_space[np.argmax(scores)]\n",
    "    return np.array(map(to_crf_step, Y), dtype=bool)"
   ]
  },
  {
   "cell_type": "code",
   "execution_count": 8,
   "metadata": {
    "collapsed": false,
    "scrolled": false
   },
   "outputs": [
    {
     "name": "stdout",
     "output_type": "stream",
     "text": [
      "opt_iter=6\n",
      "raw\n",
      "[ 0.3878  0.      0.      0.      0.    ] diningtable\n",
      "[ 0.037   0.      0.      0.      0.    ] chair\n",
      "[ 0.3208  0.      0.      0.      0.    ] sofa\n",
      "[ 0.0345  0.      0.      0.      0.    ] bottle\n",
      "[ 0.087   0.      0.      0.      0.    ] pottedplant\n",
      "[ 0.5714  0.      0.      0.      0.    ] tvmonitor\n",
      "[ 0.7822  0.      0.      0.      0.    ] train\n",
      "[ 0.6582  0.      0.      0.      0.    ] bus\n",
      "[ 0.5804  0.      0.      0.      0.    ] car\n",
      "[ 0.5     0.      0.      0.      0.    ] bicycle\n",
      "[ 0.6615  0.      0.      0.      0.    ] motorbike\n",
      "[ 0.7883  0.      0.      0.      0.    ] aeroplane\n",
      "[ 0.7067  0.      0.      0.      0.    ] boat\n",
      "[ 0.0426  0.      0.      0.      0.    ] cow\n",
      "[ 0.169   0.      0.      0.      0.    ] horse\n",
      "[ 0.      0.      0.      0.      0.    ] sheep\n",
      "[ 0.3591  0.      0.      0.      0.    ] dog\n",
      "[ 0.766   0.      0.      0.      0.    ] cat\n",
      "[ 0.4553  0.      0.      0.      0.    ] bird\n",
      "[ 0.5412  0.      0.      0.      0.    ] person\n",
      "[ 0.5107  0.      0.      0.      0.    ] overall\n",
      "crf\n",
      "[ 0.449   0.449   0.449   0.449   0.449 ] diningtable\n",
      "[ 0.037   0.037   0.037   0.037   0.037 ] chair\n",
      "[ 0.4151  0.4151  0.4151  0.4151  0.4151] sofa\n",
      "[ 0.0345  0.0345  0.0345  0.0345  0.0345] bottle\n",
      "[ 0.0435  0.0435  0.0435  0.0435  0.0435] pottedplant\n",
      "[ 0.5     0.5     0.5     0.5     0.5   ] tvmonitor\n",
      "[ 0.7921  0.7921  0.7921  0.7921  0.7921] train\n",
      "[ 0.6709  0.6709  0.6709  0.6709  0.6709] bus\n",
      "[ 0.6014  0.6014  0.6014  0.6014  0.6014] car\n",
      "[ 0.5172  0.5172  0.5172  0.5172  0.5172] bicycle\n",
      "[ 0.6923  0.6923  0.6923  0.6923  0.6923] motorbike\n",
      "[ 0.7226  0.7226  0.7226  0.7226  0.7226] aeroplane\n",
      "[ 0.6933  0.6933  0.6933  0.6933  0.6933] boat\n",
      "[ 0.0638  0.0638  0.0638  0.0638  0.0638] cow\n",
      "[ 0.2817  0.2817  0.2817  0.2817  0.2817] horse\n",
      "[ 0.      0.      0.      0.      0.    ] sheep\n",
      "[ 0.4033  0.4033  0.4033  0.4033  0.4033] dog\n",
      "[ 0.7872  0.7872  0.7872  0.7872  0.7872] cat\n",
      "[ 0.4878  0.4878  0.4878  0.4878  0.4878] bird\n",
      "[ 0.3608  0.3608  0.3608  0.3608  0.3608] person\n",
      "[ 0.5053  0.5053  0.5053  0.5053  0.5053] overall\n"
     ]
    }
   ],
   "source": [
    "# caffe\n",
    "iter_Y = np.load('results/test_caffe_5.npy')\n",
    "# iter_Y = np.tanh(iter_Y)\n",
    "opt_iter, _ = opt_model(iter_Y)\n",
    "print('opt_iter={}'.format(opt_iter))\n",
    "print('raw\\n' + accuracy_str(get_accuracy(iter_Y[opt_iter])))\n",
    "print('crf\\n' + accuracy_str(get_accuracy(to_crf(iter_Y[opt_iter]))))"
   ]
  },
  {
   "cell_type": "code",
   "execution_count": 9,
   "metadata": {
    "collapsed": false
   },
   "outputs": [
    {
     "name": "stdout",
     "output_type": "stream",
     "text": [
      "opt_kernel=2\n",
      "raw\n",
      "[ 0.6939  0.      0.      0.      0.    ] diningtable\n",
      "[ 0.4259  0.      0.      0.      0.    ] chair\n",
      "[ 0.5849  0.      0.      0.      0.    ] sofa\n",
      "[ 0.6207  0.      0.      0.      0.    ] bottle\n",
      "[ 0.4783  0.      0.      0.      0.    ] pottedplant\n",
      "[ 0.8333  0.      0.      0.      0.    ] tvmonitor\n",
      "[ 0.8317  0.      0.      0.      0.    ] train\n",
      "[ 0.7848  0.      0.      0.      0.    ] bus\n",
      "[ 0.7622  0.      0.      0.      0.    ] car\n",
      "[ 0.7414  0.      0.      0.      0.    ] bicycle\n",
      "[ 0.7231  0.      0.      0.      0.    ] motorbike\n",
      "[ 0.8686  0.      0.      0.      0.    ] aeroplane\n",
      "[ 0.8133  0.      0.      0.      0.    ] boat\n",
      "[ 0.617   0.      0.      0.      0.    ] cow\n",
      "[ 0.5915  0.      0.      0.      0.    ] horse\n",
      "[ 0.5263  0.      0.      0.      0.    ] sheep\n",
      "[ 0.7514  0.      0.      0.      0.    ] dog\n",
      "[ 0.8369  0.      0.      0.      0.    ] cat\n",
      "[ 0.8293  0.      0.      0.      0.    ] bird\n",
      "[ 0.7732  0.      0.      0.      0.    ] person\n",
      "[ 0.7506  0.      0.      0.      0.    ] overall\n",
      "crf\n",
      "[ 0.7347  0.7347  0.7347  0.7347  0.7347] diningtable\n",
      "[ 0.463   0.463   0.463   0.463   0.463 ] chair\n",
      "[ 0.6226  0.6226  0.6226  0.6226  0.6226] sofa\n",
      "[ 0.6207  0.6207  0.6207  0.6207  0.6207] bottle\n",
      "[ 0.4348  0.4348  0.4348  0.4348  0.4348] pottedplant\n",
      "[ 0.8333  0.8333  0.8333  0.8333  0.8333] tvmonitor\n",
      "[ 0.8614  0.8614  0.8614  0.8614  0.8614] train\n",
      "[ 0.7848  0.7848  0.7848  0.7848  0.7848] bus\n",
      "[ 0.7762  0.7762  0.7762  0.7762  0.7762] car\n",
      "[ 0.7414  0.7414  0.7414  0.7414  0.7414] bicycle\n",
      "[ 0.7231  0.7231  0.7231  0.7231  0.7231] motorbike\n",
      "[ 0.8467  0.8467  0.8467  0.8467  0.8467] aeroplane\n",
      "[ 0.8133  0.8133  0.8133  0.8133  0.8133] boat\n",
      "[ 0.5957  0.5957  0.5957  0.5957  0.5957] cow\n",
      "[ 0.662   0.662   0.662   0.662   0.662 ] horse\n",
      "[ 0.5263  0.5263  0.5263  0.5263  0.5263] sheep\n",
      "[ 0.768   0.768   0.768   0.768   0.768 ] dog\n",
      "[ 0.844   0.844   0.844   0.844   0.844 ] cat\n",
      "[ 0.8293  0.8293  0.8293  0.8293  0.8293] bird\n",
      "[ 0.7062  0.7062  0.7062  0.7062  0.7062] person\n",
      "[ 0.7518  0.7518  0.7518  0.7518  0.7518] overall\n"
     ]
    }
   ],
   "source": [
    "# svm\n",
    "kernel_Y = np.load('results/test_svm_5.npy')\n",
    "# kernel_Y = np.log(kernel_Y / (1 - kernel_Y))  # log ratio for probability\n",
    "opt_kernel, _ = opt_model(kernel_Y)\n",
    "print('opt_kernel={0}'.format(opt_kernel))\n",
    "print('raw\\n' + accuracy_str(get_accuracy(kernel_Y[opt_kernel])))\n",
    "print('crf\\n' + accuracy_str(get_accuracy(to_crf(kernel_Y[opt_kernel]))))"
   ]
  }
 ],
 "metadata": {
  "kernelspec": {
   "display_name": "Python 2",
   "language": "python",
   "name": "python2"
  },
  "language_info": {
   "codemirror_mode": {
    "name": "ipython",
    "version": 2
   },
   "file_extension": ".py",
   "mimetype": "text/x-python",
   "name": "python",
   "nbconvert_exporter": "python",
   "pygments_lexer": "ipython2",
   "version": "2.7.6"
  }
 },
 "nbformat": 4,
 "nbformat_minor": 0
}
