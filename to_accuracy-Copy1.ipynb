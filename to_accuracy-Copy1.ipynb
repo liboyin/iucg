{
 "cells": [
  {
   "cell_type": "code",
   "execution_count": 1,
   "metadata": {
    "collapsed": false
   },
   "outputs": [],
   "source": [
    "from __future__ import print_function\n",
    "import pickle\n",
    "with open('cache/df.pickle', mode='rb') as h:\n",
    "    _, df_test = pickle.load(h)\n",
    "with open('cache/hex.pickle', mode='rb') as h:\n",
    "    hex_data = pickle.load(h)"
   ]
  },
  {
   "cell_type": "code",
   "execution_count": 2,
   "metadata": {
    "collapsed": true
   },
   "outputs": [],
   "source": [
    "from collections import Counter\n",
    "labels = df_test['label']\n",
    "label_counter = Counter(labels)  # dict<label, #_of_occurrence>\n",
    "id_hls = map(set, hex_data['id_hierarchical_labels'])  # id_hls for id_hierarchical_labels\n",
    "id_fh = map(lambda x: max(x, key=len), id_hls)  # id_fh for id_full_hierarchy"
   ]
  },
  {
   "cell_type": "code",
   "execution_count": 25,
   "metadata": {
    "collapsed": false
   },
   "outputs": [],
   "source": [
    "import numpy as np\n",
    "def get_accuracy(Y, threshold=0, normalize=True):\n",
    "    \"\"\"\n",
    "    Calculates the accuracy of a prediction, decomposed to labels. Numerical predictions are thresholded.\n",
    "    Type 0: leaf accuracy, as used in Deng et al, p13\n",
    "    Type 1: prediction IS the full hierarchy\n",
    "    Type 2: prediction COVERS the full hierarchy\n",
    "    Type 3: prediction IS any partial hierarchy\n",
    "    Type 4: prediction COVERS any partial hierarchy\n",
    "    Implication: 1->2, 1->3, 2->4, 3->4\n",
    "    Note that type 2 and 3 are mutually exclusive.\n",
    "    Args:\n",
    "        Y: N * D matrix of prediction. Data type may be either numerical or boolean.\n",
    "        threshold: binarize numerical prediction for accuracy type 1-4. Not needed for binary prediction.\n",
    "        normalize: if False, returns positive count instead of accuracy.\n",
    "    Returns:\n",
    "        21 * 5 matrix, where the last row denotes overall accuracy.\n",
    "    \"\"\"\n",
    "    is_bool = Y.dtype == np.bool\n",
    "    by_label = np.zeros((20, 5), dtype=int)\n",
    "    for i in range(0, len(Y)):\n",
    "        l, y = labels[i], Y[i]\n",
    "        if (is_bool and y[l]) or (not is_bool and np.argmax(y[:20]) == l):\n",
    "            # for boolean y from CRF, leaf nodes compete in state space; for numerical y, leaf nodes compete explicitly\n",
    "            by_label[l, 0] += 1\n",
    "        y = np.nonzero((y / y.max()) > threshold)[0]  # predicted values are normalized to (-inf, 1]\n",
    "        if tuple(y) == id_fh[l]:\n",
    "            by_label[l, 1:] += 1\n",
    "        elif set(id_fh[l]) in set(y):\n",
    "            by_label[l, [2, 4]] += 1\n",
    "        elif tuple(y) in id_hls[l]:\n",
    "            by_label[l, [3, 4]] += 1\n",
    "        elif any(set(x) in set(y) for x in id_hls[l]):\n",
    "            by_label[l, 4] += 1\n",
    "    overall = np.sum(by_label, axis=0, dtype=int)\n",
    "    if normalize:\n",
    "        by_label = by_label.astype(np.float32)\n",
    "        for i in range(0, 20):\n",
    "            by_label[i] /= label_counter[i]\n",
    "        overall = overall.astype(np.float32) / len(Y)\n",
    "    return np.vstack((by_label, overall))"
   ]
  },
  {
   "cell_type": "code",
   "execution_count": 12,
   "metadata": {
    "collapsed": true
   },
   "outputs": [],
   "source": [
    "np.set_printoptions(threshold=np.nan, precision=4)\n",
    "id_name = hex_data['id_name']\n",
    "def accuracy_str(accuracy):\n",
    "    lines = str(accuracy).splitlines()\n",
    "    lines = map(lambda x: x.replace(' [', '['), lines)\n",
    "    lines[0] = lines[0].replace('[[', '[')\n",
    "    for i in range(0, 20):\n",
    "        lines[i] = '{} {}'.format(lines[i], id_name[i])\n",
    "    lines[-1] = '{} {}'.format(lines[-1].replace(']]', ']'), 'overall')\n",
    "    return '\\n'.join(lines)"
   ]
  },
  {
   "cell_type": "code",
   "execution_count": 15,
   "metadata": {
    "collapsed": true
   },
   "outputs": [],
   "source": [
    "def opt_model_threshold(model_Y):\n",
    "    \"\"\"\n",
    "    Performes an exaustive search for the model and threshold, as used in @get_accuracy.\n",
    "    The range of search is [-0.5, 0.5], with step size 0.1.\n",
    "    Args:\n",
    "        model_Y: M * N * D matrix, where M is the number of models.\n",
    "    Returns:\n",
    "        opt_model: index of the optimal model in [0, M).\n",
    "        thresholds[opt_thres]: the optimal threshold.\n",
    "    \"\"\"\n",
    "    thresholds = np.linspace(-0.5, 0.5, num=101)\n",
    "    M, T = len(model_Y), len(thresholds)\n",
    "    scores = np.empty((M, T), dtype=np.float32)\n",
    "    for i in range(0, M):\n",
    "        for j in range(0, T):\n",
    "            print('model={0}, threshold={1:.2f}'.format(i, thresholds[j]), end='\\r')\n",
    "            scores[i, j] = get_accuracy(model_Y[i], thresholds[j])[-1, [0, 1, 3]].prod()\n",
    "    print(scores)\n",
    "    opt_model, opt_thres = np.unravel_index(scores.argmax(), scores.shape)\n",
    "    return opt_model, thresholds[opt_thres]"
   ]
  },
  {
   "cell_type": "code",
   "execution_count": 6,
   "metadata": {
    "collapsed": true
   },
   "outputs": [],
   "source": [
    "state_space = hex_data['state_space']\n",
    "def to_crf(Y, leaf_weight=4):\n",
    "    w = np.hstack(([leaf_weight] * 20, [1] * (len(id_name) - 20)))\n",
    "    def to_crf_step(y):\n",
    "        scores = map(lambda s: (w * y)[s].sum(), state_space)\n",
    "        return state_space[np.argmax(scores)]\n",
    "    return np.array(map(to_crf_step, Y), dtype=np.bool)"
   ]
  },
  {
   "cell_type": "code",
   "execution_count": 26,
   "metadata": {
    "collapsed": false,
    "scrolled": false
   },
   "outputs": [
    {
     "name": "stdout",
     "output_type": "stream",
     "text": [
      "opt_iter=50000, opt_threshold=0.32\n",
      "[ 0.0256  0.      0.      0.0256  0.0256] diningtable\n",
      "[ 0.0185  0.      0.      0.0185  0.0185] chair\n",
      "[ 0.012   0.      0.      0.0482  0.0482] sofa\n",
      "[ 0.      0.      0.      0.      0.    ] bottle\n",
      "[ 0.      0.      0.      0.      0.    ] pottedplant\n",
      "[ 0.0851  0.      0.      0.      0.    ] tvmonitor\n",
      "[ 0.0561  0.      0.      0.1589  0.1589] train\n",
      "[ 0.0132  0.0132  0.0132  0.1316  0.1316] bus\n",
      "[ 0.0719  0.036   0.036   0.1367  0.1367] car\n",
      "[ 0.0208  0.0208  0.0208  0.125   0.125 ] bicycle\n",
      "[ 0.037   0.0185  0.0185  0.1852  0.1852] motorbike\n",
      "[ 0.1186  0.0593  0.0593  0.0678  0.0678] aeroplane\n",
      "[ 0.0278  0.      0.      0.0139  0.0139] boat\n",
      "[ 0.      0.      0.      0.      0.    ] cow\n",
      "[ 0.      0.      0.      0.0154  0.0154] horse\n",
      "[ 0.      0.      0.      0.0303  0.0303] sheep\n",
      "[ 0.0964  0.006   0.006   0.2289  0.2289] dog\n",
      "[ 0.1282  0.0321  0.0321  0.2628  0.2628] cat\n",
      "[ 0.0227  0.      0.      0.2121  0.2121] bird\n",
      "[ 0.5     0.0506  0.0506  0.0618  0.0618] person\n",
      "[ 0.1015  0.0178  0.0178  0.117   0.117 ] overall\n"
     ]
    }
   ],
   "source": [
    "# caffe accuracy\n",
    "iters = np.linspace(5000, 50000, 10, dtype=int)\n",
    "iter_Y = np.load('results/test_caffe_1.npy')\n",
    "# iter_Y = np.tanh(iter_Y)\n",
    "# opt_iter, opt_thres = opt_model_threshold(iter_Y)\n",
    "opt_iter, opt_thres = 9, 0.32\n",
    "print(\"opt_iter={0}, opt_threshold={1:.2f}\".format(iters[opt_iter], opt_thres))\n",
    "print(accuracy_str(get_accuracy(iter_Y[opt_iter], threshold=opt_thres)))"
   ]
  },
  {
   "cell_type": "code",
   "execution_count": 36,
   "metadata": {
    "collapsed": false
   },
   "outputs": [
    {
     "name": "stdout",
     "output_type": "stream",
     "text": [
      "opt_iter=50000\n",
      "[ 0.0513  0.0513  0.0513  0.0513  0.0513] diningtable\n",
      "[ 0.0185  0.0185  0.0185  0.0185  0.0185] chair\n",
      "[ 0.      0.      0.      0.      0.    ] sofa\n",
      "[ 0.      0.      0.      0.      0.    ] bottle\n",
      "[ 0.      0.      0.      0.      0.    ] pottedplant\n",
      "[ 0.      0.      0.      0.      0.    ] tvmonitor\n",
      "[ 0.0654  0.0654  0.0654  0.0654  0.0654] train\n",
      "[ 0.0263  0.0263  0.0263  0.0263  0.0263] bus\n",
      "[ 0.1295  0.1295  0.1295  0.1295  0.1295] car\n",
      "[ 0.0417  0.0417  0.0417  0.0417  0.0417] bicycle\n",
      "[ 0.037   0.037   0.037   0.037   0.037 ] motorbike\n",
      "[ 0.0678  0.0678  0.0678  0.0678  0.0678] aeroplane\n",
      "[ 0.0139  0.0139  0.0139  0.0139  0.0139] boat\n",
      "[ 0.      0.      0.      0.      0.    ] cow\n",
      "[ 0.0462  0.0462  0.0462  0.0462  0.0462] horse\n",
      "[ 0.      0.      0.      0.      0.    ] sheep\n",
      "[ 0.0663  0.0663  0.0663  0.0663  0.0663] dog\n",
      "[ 0.1667  0.1667  0.1667  0.1667  0.1667] cat\n",
      "[ 0.0227  0.0227  0.0227  0.0227  0.0227] bird\n",
      "[ 0.6067  0.6067  0.6067  0.6067  0.6067] person\n",
      "[ 0.1152  0.1152  0.1152  0.1152  0.1152] overall\n"
     ]
    }
   ],
   "source": [
    "# caffe + crf accuracy\n",
    "iters = np.linspace(5000, 50000, 10, dtype=np.uint16)\n",
    "iter_Y = np.load('results/test_caffe_4.npy')\n",
    "iter_Y = np.tanh(iter_Y)\n",
    "opt_iter = opt_model(map(to_crf, iter_Y))\n",
    "# np.argmax([get_accuracy(Y)[-1, 0] for Y in model_Y])\n",
    "print('opt_iter={}'.format(iters[opt_iter]))\n",
    "print(accuracy_str(get_accuracy(to_crf(iter_Y[opt_iter]))))"
   ]
  },
  {
   "cell_type": "code",
   "execution_count": 21,
   "metadata": {
    "collapsed": false,
    "scrolled": false
   },
   "outputs": [
    {
     "name": "stdout",
     "output_type": "stream",
     "text": [
      "opt_kernel=rbf, opt_threshold=0.27\n",
      "[ 0.0256  0.      0.      0.0256  0.0256] diningtable\n",
      "[ 0.      0.      0.      0.0185  0.0185] chair\n",
      "[ 0.0241  0.012   0.012   0.0602  0.0602] sofa\n",
      "[ 0.      0.      0.      0.      0.    ] bottle\n",
      "[ 0.      0.      0.      0.      0.    ] pottedplant\n",
      "[ 0.      0.      0.      0.      0.    ] tvmonitor\n",
      "[ 0.0467  0.0187  0.0187  0.1028  0.1028] train\n",
      "[ 0.0132  0.0132  0.0132  0.0526  0.0526] bus\n",
      "[ 0.0504  0.0432  0.0432  0.1583  0.1583] car\n",
      "[ 0.0417  0.0208  0.0208  0.2083  0.2083] bicycle\n",
      "[ 0.0556  0.0556  0.0556  0.2037  0.2037] motorbike\n",
      "[ 0.0847  0.0508  0.0508  0.0678  0.0678] aeroplane\n",
      "[ 0.0556  0.0139  0.0139  0.0694  0.0694] boat\n",
      "[ 0.      0.      0.      0.0625  0.0625] cow\n",
      "[ 0.0154  0.0154  0.0154  0.0769  0.0769] horse\n",
      "[ 0.      0.      0.      0.0303  0.0303] sheep\n",
      "[ 0.1024  0.0422  0.0422  0.1627  0.1627] dog\n",
      "[ 0.1795  0.109   0.109   0.2372  0.2372] cat\n",
      "[ 0.0833  0.0227  0.0227  0.2197  0.2197] bird\n",
      "[ 0.8202  0.5225  0.5225  0.5955  0.5955] person\n",
      "[ 0.1413  0.0843  0.0843  0.1698  0.1698] overall\n"
     ]
    }
   ],
   "source": [
    "# sam setting, different result???\n",
    "# svm accuracy\n",
    "kernels = ['linear', 'poly', 'rbf']\n",
    "kernel_Y = np.load('results/test_svm_4.npy')\n",
    "# kernel_Y = np.log(kernel_Y / (1 - kernel_Y))  # log ratio\n",
    "# opt_kernel, opt_thres = opt_model_threshold(kernel_Y)\n",
    "opt_kernel, opt_thres = 2, 0.27\n",
    "print(\"opt_kernel={0}, opt_threshold={1:.2f}\".format(kernels[opt_kernel], opt_thres))\n",
    "print(accuracy_str(get_accuracy(kernel_Y[opt_kernel], threshold=opt_thres)))"
   ]
  },
  {
   "cell_type": "code",
   "execution_count": 40,
   "metadata": {
    "collapsed": false
   },
   "outputs": [
    {
     "name": "stdout",
     "output_type": "stream",
     "text": [
      "opt_kernel=poly\n",
      "[ 0.      0.      0.      0.1282  0.1282] diningtable\n",
      "[ 0.      0.      0.      0.037   0.037 ] chair\n",
      "[ 0.      0.      0.      0.1084  0.1084] sofa\n",
      "[ 0.      0.      0.      0.0263  0.0263] bottle\n",
      "[ 0.      0.      0.      0.0323  0.0323] pottedplant\n",
      "[ 0.      0.      0.      0.0638  0.0638] tvmonitor\n",
      "[ 0.0187  0.0187  0.0187  0.1869  0.1869] train\n",
      "[ 0.0132  0.0132  0.0132  0.1447  0.1447] bus\n",
      "[ 0.0216  0.0216  0.0216  0.2158  0.2158] car\n",
      "[ 0.0417  0.0417  0.0417  0.2292  0.2292] bicycle\n",
      "[ 0.0556  0.0556  0.0556  0.2037  0.2037] motorbike\n",
      "[ 0.0424  0.0424  0.0424  0.178   0.178 ] aeroplane\n",
      "[ 0.      0.      0.      0.0833  0.0833] boat\n",
      "[ 0.      0.      0.      0.2292  0.2292] cow\n",
      "[ 0.      0.      0.      0.1846  0.1846] horse\n",
      "[ 0.      0.      0.      0.1818  0.1818] sheep\n",
      "[ 0.0422  0.0422  0.0422  0.2892  0.2892] dog\n",
      "[ 0.1154  0.1154  0.1154  0.3526  0.3526] cat\n",
      "[ 0.0227  0.0227  0.0227  0.2576  0.2576] bird\n",
      "[ 0.5     0.5     0.5     0.7697  0.7697] person\n",
      "[ 0.079   0.079   0.079   0.2577  0.2577] overall\n"
     ]
    }
   ],
   "source": [
    "# svm + crf accuracy\n",
    "kernels = ['linear', 'poly', 'rbf']\n",
    "kernel_Y = np.load('results/test_svm_1.npy')\n",
    "# kernel_Y = np.log(kernel_Y / (1 - kernel_Y))  # log ratio\n",
    "opt_kernel = opt_model(map(to_crf, kernel_Y))\n",
    "# np.argmax([get_accuracy(Y)[-1, 0] for Y in model_Y])\n",
    "print('opt_kernel={}'.format(kernels[opt_kernel]))\n",
    "print(accuracy_str(get_accuracy(to_crf(kernel_Y[opt_kernel]))))"
   ]
  },
  {
   "cell_type": "code",
   "execution_count": null,
   "metadata": {
    "collapsed": true
   },
   "outputs": [],
   "source": []
  }
 ],
 "metadata": {
  "kernelspec": {
   "display_name": "Python 2",
   "language": "python",
   "name": "python2"
  },
  "language_info": {
   "codemirror_mode": {
    "name": "ipython",
    "version": 2
   },
   "file_extension": ".py",
   "mimetype": "text/x-python",
   "name": "python",
   "nbconvert_exporter": "python",
   "pygments_lexer": "ipython2",
   "version": "2.7.6"
  }
 },
 "nbformat": 4,
 "nbformat_minor": 0
}
