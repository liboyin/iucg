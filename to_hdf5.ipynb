{
 "cells": [
  {
   "cell_type": "code",
   "execution_count": 1,
   "metadata": {
    "collapsed": true
   },
   "outputs": [],
   "source": [
    "import pickle\n",
    "with open('cache/hex.pickle', mode='rb') as h:\n",
    "    D = len(pickle.load(h)['id_name'])  # number of labels\n",
    "with open('cache/df_val_test.pickle', mode='rb') as h:\n",
    "    df_val, df_test = pickle.load(h)\n",
    "filename_df = {'val': df_val, 'test': df_test}"
   ]
  },
  {
   "cell_type": "code",
   "execution_count": 2,
   "metadata": {
    "collapsed": true
   },
   "outputs": [],
   "source": [
    "from os import listdir\n",
    "import re\n",
    "for fn in filter(lambda x: x.startswith('df_train'), listdir('cache')):\n",
    "    with open('cache/' + fn, mode='rb') as h:\n",
    "        df_train = pickle.load(h)\n",
    "    filename_df['train.' + re.findall('\\d+', fn)[0]] = df_train"
   ]
  },
  {
   "cell_type": "code",
   "execution_count": 3,
   "metadata": {
    "collapsed": true
   },
   "outputs": [],
   "source": [
    "import cv2\n",
    "import numpy as np\n",
    "from os.path import join\n",
    "img_dir = '../pascal12/JPEGImages'\n",
    "img_mean = np.load('caffe/ilsvrc12_mean.npy').astype(np.float32)  # 3*256*256\n",
    "img_mean = np.swapaxes(np.swapaxes(img_mean, 0, 1), 1, 2)  # convert to XY[BGR]\n",
    "def load_image(filename):\n",
    "    \"\"\"\n",
    "    Loads image, subtract mean, resize to 227*227. No axis rotation or normalization.\n",
    "    Returns:\n",
    "        Result image as an np.float32 array with size 227*227*3. Values within [0, 255].\n",
    "    \"\"\"\n",
    "    img = cv2.resize(cv2.imread(join(img_dir, filename)), (256, 256))\n",
    "    return cv2.resize(img.astype(np.float32) - img_mean, (227, 227))"
   ]
  },
  {
   "cell_type": "code",
   "execution_count": 4,
   "metadata": {
    "collapsed": true
   },
   "outputs": [],
   "source": [
    "import h5py\n",
    "def write_h5(filename, X, Y_leaf, Y_hierarchy=None):\n",
    "    with h5py.File('../{}.h5'.format(filename), mode='w') as h:\n",
    "        h.create_dataset('X', data=X)\n",
    "        h.create_dataset('Y_leaf', data=Y_leaf)\n",
    "        if Y_hierarchy:  # is not None\n",
    "            h.create_dataset('Y_hierarchy', data=Y_hierarchy)"
   ]
  },
  {
   "cell_type": "code",
   "execution_count": 5,
   "metadata": {
    "collapsed": true
   },
   "outputs": [],
   "source": [
    "def to_dense(sparse):  # D defined outside\n",
    "    \"\"\"\n",
    "    Converts a bool array from sparse representation to dense representation.\n",
    "    \"\"\"\n",
    "    N = len(sparse)\n",
    "    dense = np.zeros((N, D), dtype=bool)\n",
    "    for i in range(0, N):\n",
    "        dense[i, sparse[i]] = 1\n",
    "    return dense"
   ]
  },
  {
   "cell_type": "code",
   "execution_count": 6,
   "metadata": {
    "collapsed": true
   },
   "outputs": [],
   "source": [
    "for fn, df in filename_df.items():\n",
    "    X = map(load_image, df['img'])\n",
    "    X = np.swapaxes(np.swapaxes(X, 2, 3), 1, 2)  # convert to [BGR]XY for Caffe\n",
    "    if fn.startswith('train'):\n",
    "        Y_leaf = df['label'].astype(float)\n",
    "        Y_hierarchy = to_dense(df['pseudo_label']).astype(float)\n",
    "        write_h5(fn, X, Y_leaf, Y_hierarchy)\n",
    "        # keep training images that are labeled to leaf only\n",
    "        df['is_leaf'] = map(lambda x: x[0] in x[1], zip(df['label'], df['pseudo_label']))\n",
    "        df = df[df['is_leaf']].reset_index()\n",
    "        Y_leaf = df['label'].astype(float)\n",
    "        Y_hierarchy = to_dense(df['pseudo_label']).astype(float)\n",
    "        write_h5(fn + '.leaf', X, Y_leaf, Y_hierarchy)\n",
    "    else:  # val & test\n",
    "        Y_leaf = df['label'].astype(float)\n",
    "        write_h5(fn, X, Y_leaf)\n",
    "        # keep training images that are labeled to leaf only\n",
    "        df['is_leaf'] = map(lambda x: x[0] in x[1], zip(df['label'], df['pseudo_label']))\n",
    "        df = df[df['is_leaf']].reset_index()\n",
    "        Y_leaf = df['label'].astype(float)\n",
    "        write_h5(fn + '.leaf', X, Y_leaf)"
   ]
  }
 ],
 "metadata": {
  "kernelspec": {
   "display_name": "Python 2",
   "language": "python",
   "name": "python2"
  },
  "language_info": {
   "codemirror_mode": {
    "name": "ipython",
    "version": 2
   },
   "file_extension": ".py",
   "mimetype": "text/x-python",
   "name": "python",
   "nbconvert_exporter": "python",
   "pygments_lexer": "ipython2",
   "version": "2.7.10"
  }
 },
 "nbformat": 4,
 "nbformat_minor": 0
}
