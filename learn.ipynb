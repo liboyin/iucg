{
 "cells": [
  {
   "cell_type": "code",
   "execution_count": 1,
   "metadata": {
    "collapsed": true
   },
   "outputs": [],
   "source": [
    "import numpy as np\n",
    "from scipy.special import expit as sigmoid\n",
    "Phi = sigmoid(np.load('train.90.npy'))"
   ]
  },
  {
   "cell_type": "code",
   "execution_count": 2,
   "metadata": {
    "collapsed": true
   },
   "outputs": [],
   "source": [
    "N, D = Phi.shape"
   ]
  },
  {
   "cell_type": "code",
   "execution_count": 3,
   "metadata": {
    "collapsed": true
   },
   "outputs": [],
   "source": [
    "import pickle\n",
    "with open('cache/df_train.90.pickle', mode='rb') as h:\n",
    "    df = pickle.load(h)"
   ]
  },
  {
   "cell_type": "code",
   "execution_count": 4,
   "metadata": {
    "collapsed": false
   },
   "outputs": [
    {
     "data": {
      "text/html": [
       "<div>\n",
       "<table border=\"1\" class=\"dataframe\">\n",
       "  <thead>\n",
       "    <tr style=\"text-align: right;\">\n",
       "      <th></th>\n",
       "      <th>img</th>\n",
       "      <th>label</th>\n",
       "      <th>size_ratio</th>\n",
       "      <th>pseudo_label</th>\n",
       "      <th>edges</th>\n",
       "    </tr>\n",
       "  </thead>\n",
       "  <tbody>\n",
       "    <tr>\n",
       "      <th>0</th>\n",
       "      <td>2009_001061.jpg</td>\n",
       "      <td>10</td>\n",
       "      <td>0.995339</td>\n",
       "      <td>(22, 23)</td>\n",
       "      <td>(9, 14)</td>\n",
       "    </tr>\n",
       "    <tr>\n",
       "      <th>1</th>\n",
       "      <td>2008_006600.jpg</td>\n",
       "      <td>8</td>\n",
       "      <td>0.007645</td>\n",
       "      <td>(22, 23)</td>\n",
       "      <td>(9, 12)</td>\n",
       "    </tr>\n",
       "    <tr>\n",
       "      <th>2</th>\n",
       "      <td>2011_002107.jpg</td>\n",
       "      <td>10</td>\n",
       "      <td>0.947467</td>\n",
       "      <td>(22, 23)</td>\n",
       "      <td>(9, 14)</td>\n",
       "    </tr>\n",
       "    <tr>\n",
       "      <th>3</th>\n",
       "      <td>2008_005436.jpg</td>\n",
       "      <td>16</td>\n",
       "      <td>0.606795</td>\n",
       "      <td>(24, 26)</td>\n",
       "      <td>(17, 21)</td>\n",
       "    </tr>\n",
       "    <tr>\n",
       "      <th>4</th>\n",
       "      <td>2009_002712.jpg</td>\n",
       "      <td>6</td>\n",
       "      <td>0.468864</td>\n",
       "      <td>(22, 23)</td>\n",
       "      <td>(9, 10)</td>\n",
       "    </tr>\n",
       "  </tbody>\n",
       "</table>\n",
       "</div>"
      ],
      "text/plain": [
       "               img  label  size_ratio pseudo_label     edges\n",
       "0  2009_001061.jpg     10    0.995339     (22, 23)   (9, 14)\n",
       "1  2008_006600.jpg      8    0.007645     (22, 23)   (9, 12)\n",
       "2  2011_002107.jpg     10    0.947467     (22, 23)   (9, 14)\n",
       "3  2008_005436.jpg     16    0.606795     (24, 26)  (17, 21)\n",
       "4  2009_002712.jpg      6    0.468864     (22, 23)   (9, 10)"
      ]
     },
     "execution_count": 4,
     "metadata": {},
     "output_type": "execute_result"
    }
   ],
   "source": [
    "df.head()"
   ]
  },
  {
   "cell_type": "code",
   "execution_count": 5,
   "metadata": {
    "collapsed": false,
    "scrolled": true
   },
   "outputs": [
    {
     "data": {
      "text/plain": [
       "1649"
      ]
     },
     "execution_count": 5,
     "metadata": {},
     "output_type": "execute_result"
    }
   ],
   "source": [
    "np.count_nonzero(np.argmax(Phi[:, :20], axis=1) == df['label'])"
   ]
  },
  {
   "cell_type": "code",
   "execution_count": 6,
   "metadata": {
    "collapsed": true
   },
   "outputs": [],
   "source": [
    "E = 24\n",
    "theta = np.ones(D + E, dtype=float)"
   ]
  },
  {
   "cell_type": "code",
   "execution_count": 7,
   "metadata": {
    "collapsed": true
   },
   "outputs": [],
   "source": [
    "with open('cache/hex.pickle', mode='rb') as h:\n",
    "    hex_data = pickle.load(h)\n",
    "state_space = hex_data['state_space']  # full state space\n",
    "state_space = np.array(filter(lambda x: x[:20].any(), state_space))  # let S=20 for debug\n",
    "S = len(state_space)"
   ]
  },
  {
   "cell_type": "code",
   "execution_count": 8,
   "metadata": {
    "collapsed": false
   },
   "outputs": [],
   "source": [
    "H_e = hex_data['H_e']\n",
    "state_edges = hex_data['state_edges']"
   ]
  },
  {
   "cell_type": "code",
   "execution_count": 22,
   "metadata": {
    "collapsed": false
   },
   "outputs": [],
   "source": [
    "# N * S * D\n",
    "# N: number of images\n",
    "# S: state space size\n",
    "# D: dimension of phi\n",
    "X = np.tile(Phi[:, None, :], (1, S, 1))\n",
    "Y = np.tile(state_space, (N, 1, 1))\n",
    "unary = X * Y + (1 - X) * np.logical_not(Y)"
   ]
  },
  {
   "cell_type": "code",
   "execution_count": 23,
   "metadata": {
    "collapsed": false
   },
   "outputs": [],
   "source": [
    "# N * S * E\n",
    "def pairwise_step(phi):\n",
    "    pw = np.zeros((S, E), dtype=float)\n",
    "    for i in range(0, S):\n",
    "        for j in state_edges[i]:\n",
    "            pw[i, j] = phi[H_e[j]].prod()  # * t[j]\n",
    "    return pw\n",
    "pairwise = np.array(map(pairwise_step, Phi), dtype=float)"
   ]
  },
  {
   "cell_type": "code",
   "execution_count": 43,
   "metadata": {
    "collapsed": true
   },
   "outputs": [],
   "source": [
    "W = np.tile(theta[None, None, :D], (N, S, 1))\n",
    "T = np.tile(theta[None, None, D:], (N, S, 1))\n",
    "log_P_tilde = (W * unary).sum(axis=2) + (T * pairwise).sum(axis=2)\n",
    "Z = np.exp(log_P_tilde).sum(axis=1)\n",
    "# P_norm = P_tilde / P_tilde.sum(axis=1)"
   ]
  },
  {
   "cell_type": "code",
   "execution_count": 47,
   "metadata": {
    "collapsed": false
   },
   "outputs": [],
   "source": [
    "log_P_norm = log_P_tilde - np.tile(np.log(Z)[:, None], (1, S))"
   ]
  },
  {
   "cell_type": "code",
   "execution_count": 49,
   "metadata": {
    "collapsed": false
   },
   "outputs": [
    {
     "data": {
      "text/plain": [
       "array([-4.99927762, -2.03498703, -6.01084823, -5.98001463, -4.97665503,\n",
       "       -2.00590618, -1.99631843, -6.01802779, -3.99078483, -4.00389729,\n",
       "       -6.01704073, -5.99997567, -2.03077958, -5.99449136, -2.04092165,\n",
       "       -6.0177941 , -6.01195582, -5.99519743, -2.02183859, -2.01873598])"
      ]
     },
     "execution_count": 49,
     "metadata": {},
     "output_type": "execute_result"
    }
   ],
   "source": [
    "log_P_norm[0]"
   ]
  },
  {
   "cell_type": "code",
   "execution_count": 42,
   "metadata": {
    "collapsed": false
   },
   "outputs": [
    {
     "data": {
      "text/plain": [
       "array([ 470.3519977 ,  473.28946369,  471.61457744, ...,  475.3842826 ,\n",
       "        473.13354113,  472.99636686])"
      ]
     },
     "execution_count": 42,
     "metadata": {},
     "output_type": "execute_result"
    }
   ],
   "source": [
    "P_tilde.sum(axis=1)"
   ]
  },
  {
   "cell_type": "code",
   "execution_count": 41,
   "metadata": {
    "collapsed": false
   },
   "outputs": [
    {
     "data": {
      "text/plain": [
       "array([ 470.3519977 ,  473.28946369,  471.61457744, ...,  475.3842826 ,\n",
       "        473.13354113,  472.99636686])"
      ]
     },
     "execution_count": 41,
     "metadata": {},
     "output_type": "execute_result"
    }
   ],
   "source": [
    "P_tilde.sum(axis=1)"
   ]
  },
  {
   "cell_type": "code",
   "execution_count": 32,
   "metadata": {
    "collapsed": false
   },
   "outputs": [],
   "source": [
    "# nabla_w\n",
    "C = 1.0  # must be float. 1 for debug\n",
    "from_data = unary[np.arange(N), df['label'], :]\n",
    "from_Z = (np.tile(P_norm[:, :, None], (1, 1, D)) * unary).sum(axis=1)\n",
    "nabla_w = (from_data - from_Z).sum(axis=0) * (-C/N)"
   ]
  },
  {
   "cell_type": "code",
   "execution_count": 33,
   "metadata": {
    "collapsed": false
   },
   "outputs": [
    {
     "data": {
      "text/plain": [
       "array([-0.97153319, -0.9757649 , -0.8979649 , -0.97476427, -0.97277348,\n",
       "       -0.91973563, -0.95542345, -0.96922843, -0.9301918 , -0.94603137,\n",
       "       -0.91776871, -0.88804788, -0.96216467, -0.95573428, -0.94928916,\n",
       "       -0.95633447, -0.89541982, -0.96874516, -0.91567007, -0.9511269 ,\n",
       "       -0.69576526, -0.76992989, -0.47067425, -0.59412211, -0.45409491,\n",
       "       -0.7959779 , -0.72634569])"
      ]
     },
     "execution_count": 33,
     "metadata": {},
     "output_type": "execute_result"
    }
   ],
   "source": [
    "nabla_w"
   ]
  },
  {
   "cell_type": "code",
   "execution_count": 14,
   "metadata": {
    "collapsed": false
   },
   "outputs": [],
   "source": [
    "# nabla_t\n",
    "def nabla_t_step(e):\n",
    "    state_mask = np.zeros((N, S, E), dtype=bool)\n",
    "    state_mask[:, filter(lambda i: e in state_edges[i], range(0, S)), :] = 1\n",
    "    from_data = (pairwise * state_mask)[np.arange(N), df['label'], :].sum()\n",
    "    from_Z = (np.tile(P_norm[:, :, None], (1, 1, E)) * pairwise * state_mask).sum()\n",
    "    return from_data - from_Z"
   ]
  },
  {
   "cell_type": "code",
   "execution_count": 34,
   "metadata": {
    "collapsed": true
   },
   "outputs": [],
   "source": [
    "nabla_t = np.array(map(nabla_t_step, range(0, E)), dtype=float) * (-C/N)"
   ]
  },
  {
   "cell_type": "code",
   "execution_count": 35,
   "metadata": {
    "collapsed": false
   },
   "outputs": [
    {
     "data": {
      "text/plain": [
       "array([ -3.48785026e-06,  -1.87488974e-04,  -1.25813926e-05,\n",
       "        -2.41897860e-03,  -0.00000000e+00,  -2.37321180e-03,\n",
       "        -0.00000000e+00,  -0.00000000e+00,  -2.12864539e-05,\n",
       "        -1.08380258e-01,  -0.00000000e+00,  -7.12300095e-02,\n",
       "        -2.79085163e-02,  -8.65440937e-03,  -0.00000000e+00,\n",
       "        -2.40948398e-04,  -1.20501818e-03,  -6.88651929e-02,\n",
       "        -1.70641045e-05,  -8.83476403e-05,  -1.06504823e-03,\n",
       "        -0.00000000e+00,  -0.00000000e+00,  -6.51296220e-02])"
      ]
     },
     "execution_count": 35,
     "metadata": {},
     "output_type": "execute_result"
    }
   ],
   "source": [
    "nabla_t"
   ]
  },
  {
   "cell_type": "code",
   "execution_count": 38,
   "metadata": {
    "collapsed": false
   },
   "outputs": [],
   "source": [
    "nabla = np.concatenate((nabla_w, nabla_t)) + theta"
   ]
  },
  {
   "cell_type": "code",
   "execution_count": 39,
   "metadata": {
    "collapsed": false
   },
   "outputs": [
    {
     "data": {
      "text/plain": [
       "array([ 0.02846681,  0.0242351 ,  0.1020351 ,  0.02523573,  0.02722652,\n",
       "        0.08026437,  0.04457655,  0.03077157,  0.0698082 ,  0.05396863,\n",
       "        0.08223129,  0.11195212,  0.03783533,  0.04426572,  0.05071084,\n",
       "        0.04366553,  0.10458018,  0.03125484,  0.08432993,  0.0488731 ,\n",
       "        0.30423474,  0.23007011,  0.52932575,  0.40587789,  0.54590509,\n",
       "        0.2040221 ,  0.27365431,  0.99999651,  0.99981251,  0.99998742,\n",
       "        0.99758102,  1.        ,  0.99762679,  1.        ,  1.        ,\n",
       "        0.99997871,  0.89161974,  1.        ,  0.92876999,  0.97209148,\n",
       "        0.99134559,  1.        ,  0.99975905,  0.99879498,  0.93113481,\n",
       "        0.99998294,  0.99991165,  0.99893495,  1.        ,  1.        ,\n",
       "        0.93487038])"
      ]
     },
     "execution_count": 39,
     "metadata": {},
     "output_type": "execute_result"
    }
   ],
   "source": [
    "nabla"
   ]
  },
  {
   "cell_type": "code",
   "execution_count": 53,
   "metadata": {
    "collapsed": false
   },
   "outputs": [],
   "source": [
    "objective = log_P_norm[np.arange(N), df['label']].sum() * (-C/N) + np.dot(theta, theta) / 2"
   ]
  },
  {
   "cell_type": "code",
   "execution_count": 54,
   "metadata": {
    "collapsed": false
   },
   "outputs": [
    {
     "data": {
      "text/plain": [
       "29.373343829517967"
      ]
     },
     "execution_count": 54,
     "metadata": {},
     "output_type": "execute_result"
    }
   ],
   "source": [
    "objective"
   ]
  },
  {
   "cell_type": "code",
   "execution_count": null,
   "metadata": {
    "collapsed": true
   },
   "outputs": [],
   "source": []
  }
 ],
 "metadata": {
  "kernelspec": {
   "display_name": "Python 2",
   "language": "python",
   "name": "python2"
  },
  "language_info": {
   "codemirror_mode": {
    "name": "ipython",
    "version": 2
   },
   "file_extension": ".py",
   "mimetype": "text/x-python",
   "name": "python",
   "nbconvert_exporter": "python",
   "pygments_lexer": "ipython2",
   "version": "2.7.10"
  }
 },
 "nbformat": 4,
 "nbformat_minor": 0
}
