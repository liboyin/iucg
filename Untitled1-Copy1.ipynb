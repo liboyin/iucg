{
 "cells": [
  {
   "cell_type": "code",
   "execution_count": 1,
   "metadata": {
    "collapsed": false
   },
   "outputs": [],
   "source": [
    "from lib import to_crf"
   ]
  },
  {
   "cell_type": "code",
   "execution_count": 2,
   "metadata": {
    "collapsed": false
   },
   "outputs": [],
   "source": [
    "import numpy as np\n",
    "from scipy.special import expit as sigmoid\n",
    "iter_Phi_train = sigmoid(np.load('results/iter_Phi_train.90.npy'))\n",
    "iter_Phi_val = sigmoid(np.load('results/iter_Phi_val.90.npy'))\n",
    "iter_Phi_test = sigmoid(np.load('results/iter_Phi_test.90.npy'))"
   ]
  },
  {
   "cell_type": "code",
   "execution_count": 3,
   "metadata": {
    "collapsed": true
   },
   "outputs": [],
   "source": [
    "import pickle\n",
    "with open('cache/df_train.90.pickle', mode='rb') as h:\n",
    "    df = pickle.load(h)\n",
    "Y_train = df['label']\n",
    "with open('cache/df_val_test.pickle', mode='rb') as h:\n",
    "    df_val, df_test = pickle.load(h)\n",
    "Y_val = df_val['label']\n",
    "Y_test = df_test['label']"
   ]
  },
  {
   "cell_type": "code",
   "execution_count": 4,
   "metadata": {
    "collapsed": true
   },
   "outputs": [],
   "source": [
    "def get_accuracy(Y_predict, Y_truth, lim_states=False):\n",
    "    if Y_predict.dtype == bool:  # to limit the states for crf, filter states directly\n",
    "        return float(np.count_nonzero(Y_predict[np.arange(len(Y_predict)), Y_truth])) / len(Y_predict)\n",
    "    if lim_states:\n",
    "        return float(np.count_nonzero(Y_predict[:, :20].argmax(axis=1) == Y_truth)) / len(Y_predict)\n",
    "    return float(np.count_nonzero(Y_predict.argmax(axis=1) == Y_truth)) / len(Y_predict)"
   ]
  },
  {
   "cell_type": "code",
   "execution_count": 5,
   "metadata": {
    "collapsed": false
   },
   "outputs": [],
   "source": [
    "with open('cache/hex.pickle', mode='rb') as h:\n",
    "    hex_data = pickle.load(h)\n",
    "state_space = hex_data['state_space']\n",
    "# state_space = filter(lambda x: x[:20].any(), state_space)  # limit state space to leaf node"
   ]
  },
  {
   "cell_type": "code",
   "execution_count": 6,
   "metadata": {
    "collapsed": false
   },
   "outputs": [
    {
     "data": {
      "text/plain": [
       "[0.6175771971496437,\n",
       " 0.6502375296912114,\n",
       " 0.672209026128266,\n",
       " 0.6751781472684085,\n",
       " 0.6739904988123515,\n",
       " 0.6745843230403801,\n",
       " 0.6745843230403801,\n",
       " 0.6751781472684085,\n",
       " 0.6751781472684085,\n",
       " 0.6751781472684085]"
      ]
     },
     "execution_count": 6,
     "metadata": {},
     "output_type": "execute_result"
    }
   ],
   "source": [
    "[get_accuracy(to_crf(iter_Phi_val[i], state_space, 'raw'), Y_val, lim_states=False) for i in range(0, 10)]"
   ]
  },
  {
   "cell_type": "code",
   "execution_count": 7,
   "metadata": {
    "collapsed": false
   },
   "outputs": [
    {
     "data": {
      "text/plain": [
       "[0.6051068883610451,\n",
       " 0.6365795724465558,\n",
       " 0.661520190023753,\n",
       " 0.665083135391924,\n",
       " 0.6656769596199525,\n",
       " 0.6656769596199525,\n",
       " 0.666270783847981,\n",
       " 0.6668646080760094,\n",
       " 0.6668646080760094,\n",
       " 0.6668646080760094]"
      ]
     },
     "execution_count": 7,
     "metadata": {},
     "output_type": "execute_result"
    }
   ],
   "source": [
    "[get_accuracy(to_crf(iter_Phi_test[i], state_space, 'raw'), Y_test, lim_states=False) for i in range(0, 10)]"
   ]
  },
  {
   "cell_type": "code",
   "execution_count": null,
   "metadata": {
    "collapsed": true
   },
   "outputs": [],
   "source": []
  }
 ],
 "metadata": {
  "kernelspec": {
   "display_name": "Python 2",
   "language": "python",
   "name": "python2"
  },
  "language_info": {
   "codemirror_mode": {
    "name": "ipython",
    "version": 2
   },
   "file_extension": ".py",
   "mimetype": "text/x-python",
   "name": "python",
   "nbconvert_exporter": "python",
   "pygments_lexer": "ipython2",
   "version": "2.7.6"
  }
 },
 "nbformat": 4,
 "nbformat_minor": 0
}
