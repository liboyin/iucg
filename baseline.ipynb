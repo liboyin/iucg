{
 "cells": [
  {
   "cell_type": "code",
   "execution_count": null,
   "metadata": {
    "collapsed": true
   },
   "outputs": [],
   "source": [
    "# Python 2\n",
    "import numpy as np\n",
    "np.set_printoptions(threshold=np.nan, linewidth=np.nan)"
   ]
  },
  {
   "cell_type": "code",
   "execution_count": null,
   "metadata": {
    "collapsed": false
   },
   "outputs": [],
   "source": [
    "import pickle\n",
    "with open('df.pickle', mode='rb') as h:\n",
    "    _, df_test = pickle.load(h)"
   ]
  },
  {
   "cell_type": "code",
   "execution_count": null,
   "metadata": {
    "collapsed": false
   },
   "outputs": [],
   "source": [
    "from os import listdir\n",
    "from os.path import join\n",
    "import re\n",
    "models = listdir('../caffemodels/')\n",
    "iters = [int(re.findall('\\d+', x)[0]) for x in models]\n",
    "iters, models = zip(*sorted(zip(iters, models), key=lambda x: x[0]))\n",
    "models = [join('../caffemodels/', x) for x in models]\n",
    "mean_pixel = np.load('../ilsvrc_2012_mean.npy').mean(axis=(1, 2))"
   ]
  },
  {
   "cell_type": "code",
   "execution_count": null,
   "metadata": {
    "collapsed": false
   },
   "outputs": [],
   "source": [
    "with open('hex.pickle', mode='rb') as h:\n",
    "    hex_data = pickle.load(h)\n",
    "name_id = hex_data['name_id']\n",
    "label_ids = map(lambda x: name_id[x], df_test['label'])\n",
    "id_hls = map(set, hex_data['id_hierarchical_labels'])  # id_hls for id_hierarchical_labels\n",
    "id_fh = map(lambda x: max(x, key=len), id_hls)  # id_fh for id_full_hierarchy"
   ]
  },
  {
   "cell_type": "code",
   "execution_count": null,
   "metadata": {
    "collapsed": false
   },
   "outputs": [],
   "source": [
    "from caffe.io import load_image\n",
    "img_dir = '../pascal12/JPEGImages/'\n",
    "X = [load_image(join(img_dir, x)) for x in df_test['img']]"
   ]
  },
  {
   "cell_type": "code",
   "execution_count": null,
   "metadata": {
    "collapsed": false
   },
   "outputs": [],
   "source": [
    "import caffe\n",
    "caffe.set_mode_cpu()\n",
    "threahold = 0.01\n",
    "def test_model(caffemodel):\n",
    "    \"\"\"\n",
    "    Type 0: Is the full hierarchy\n",
    "    Type 1: Covers the full hierarchy\n",
    "    Type 2: Is any partial hierarchy\n",
    "    Type 3: Covers any partial hierarchy\n",
    "    Implication: 1->2, 1->3, 2->4, 3->4\n",
    "    \"\"\"\n",
    "    counter = np.array([0, 0, 0, 0], dtype=np.uint32)\n",
    "    net = caffe.Classifier(model_file='deploy.prototxt', pretrained_file=caffemodel,\n",
    "                           mean=mean_pixel, channel_swap=(2, 1, 0),\n",
    "                           raw_scale=255, image_dims=(227, 227))\n",
    "    for i in range(0, len(X)):\n",
    "        y = net.predict([X[i]], oversample=False)\n",
    "        y /= y.max()\n",
    "        y = np.nonzero(y > threahold)[1]\n",
    "        lid = label_ids[i]\n",
    "        print('y={}, hieharchy={}'.format(tuple(y), id_hls[lid]))\n",
    "        if tuple(y) == id_fh[lid]:\n",
    "            counter += 1\n",
    "            print('type 0')\n",
    "        elif set(id_fh[lid]) in set(y):\n",
    "            counter[[1, 3]] += 1\n",
    "            print('type 1')\n",
    "        elif tuple(y) in id_hls[lid]:\n",
    "            counter[[2, 3]] += 1\n",
    "            print('type 2')\n",
    "        elif any(set(x) in set(y) for x in id_hls[lid]):\n",
    "            counter[3] += 1\n",
    "            print('type 3')\n",
    "    return counter"
   ]
  },
  {
   "cell_type": "code",
   "execution_count": null,
   "metadata": {
    "collapsed": false,
    "scrolled": true
   },
   "outputs": [],
   "source": [
    "accuracy = zip(map(test_model, models))"
   ]
  },
  {
   "cell_type": "code",
   "execution_count": null,
   "metadata": {
    "collapsed": true
   },
   "outputs": [],
   "source": [
    "import pickle\n",
    "with open('baseline.pickle', mode='wb') as h:\n",
    "    pickle.dump(accuracy, h)"
   ]
  },
  {
   "cell_type": "code",
   "execution_count": null,
   "metadata": {
    "collapsed": true
   },
   "outputs": [],
   "source": [
    "from matplotlib import pyplot as plt\n",
    "%matplotlib inline\n",
    "fig = plt.figure(figsize=(8, 5))\n",
    "ax = fix.add_subplot(111)\n",
    "ax.plot(accuracy[0], iters)\n",
    "ax.grid()"
   ]
  },
  {
   "cell_type": "code",
   "execution_count": null,
   "metadata": {
    "collapsed": true
   },
   "outputs": [],
   "source": []
  }
 ],
 "metadata": {
  "kernelspec": {
   "display_name": "Python 2",
   "language": "python",
   "name": "python2"
  },
  "language_info": {
   "codemirror_mode": {
    "name": "ipython",
    "version": 2
   },
   "file_extension": ".py",
   "mimetype": "text/x-python",
   "name": "python",
   "nbconvert_exporter": "python",
   "pygments_lexer": "ipython2",
   "version": "2.7.6"
  }
 },
 "nbformat": 4,
 "nbformat_minor": 0
}
