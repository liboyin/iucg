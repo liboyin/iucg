{
 "cells": [
  {
   "cell_type": "code",
   "execution_count": null,
   "metadata": {},
   "outputs": [],
   "source": [
    "# TODO\n",
    "# check net model of each stage, plot accuracy against iteration"
   ]
  },
  {
   "cell_type": "code",
   "execution_count": 1,
   "metadata": {},
   "outputs": [],
   "source": [
    "# Python 2\n",
    "import numpy as np\n",
    "import pickle\n",
    "import sys\n",
    "from __future__ import print_function\n",
    "from os.path import join\n",
    "from sklearn.metrics import accuracy_score, confusion_matrix"
   ]
  },
  {
   "cell_type": "code",
   "execution_count": null,
   "metadata": {},
   "outputs": [],
   "source": [
    "# Setup caffe\n",
    "caffe_dir = '/home/libo/caffe'\n",
    "sys.path.insert(0, join(caffe_dir, 'python'))\n",
    "import caffe\n",
    "from caffe.io import load_image\n",
    "caffe.set_mode_cpu()"
   ]
  },
  {
   "cell_type": "code",
   "execution_count": null,
   "metadata": {},
   "outputs": [],
   "source": [
    "# Convert mean file to numpy array\n",
    "train_mean_bp = caffe.proto.caffe_pb2.BlobProto()\n",
    "with open(join(caffe_dir, 'pascal12/ilsvrc12_mean.binaryproto'), mode='rb') as h:\n",
    "    train_mean_bp.ParseFromString(h.read())\n",
    "train_mean = np.array(caffe.io.blobproto_to_array(train_mean_bp))[0]"
   ]
  },
  {
   "cell_type": "code",
   "execution_count": null,
   "metadata": {},
   "outputs": [],
   "source": [
    "net = caffe.Classifier(model_file=join(caffe_dir, 'pascal12/deploy.prototxt'),\n",
    "                       pretrained_file=join(caffe_dir, 'pascal12/temp/train_iter_10000.caffemodel'),\n",
    "                       mean=train_mean.mean(1).mean(1),\n",
    "                       channel_swap=(2, 1, 0),\n",
    "                       raw_scale=255,\n",
    "                       image_dims=(256, 256))"
   ]
  },
  {
   "cell_type": "code",
   "execution_count": 2,
   "metadata": {},
   "outputs": [
    {
     "name": "stdout",
     "output_type": "stream",
     "text": [
      "img_name             object\n",
      "obj_class_name     category\n",
      "obj_size_ratio      float32\n",
      "obj_class_index    category\n",
      "split              category\n",
      "path                 object\n",
      "dtype: object\n",
      "             img_name obj_class_name  obj_size_ratio obj_class_index split  \\\n",
      "3156  2010_005974.jpg      aeroplane        0.520416               3  test   \n",
      "1028  2008_008274.jpg           bird        0.857088               9  test   \n",
      "379   2008_003291.jpg           bird        0.470595               9  test   \n",
      "1795  2009_003843.jpg           sofa        0.774150              14  test   \n",
      "688   2008_005770.jpg            cat        0.792096               8  test   \n",
      "\n",
      "                      path  \n",
      "3156  test/2010_005974.jpg  \n",
      "1028  test/2008_008274.jpg  \n",
      "379   test/2008_003291.jpg  \n",
      "1795  test/2009_003843.jpg  \n",
      "688   test/2008_005770.jpg  \n"
     ]
    }
   ],
   "source": [
    "with open('preprocess.pickle', mode='rb') as h:\n",
    "    df = pickle.load(h)\n",
    "df_test = df[df['split'] == 'test']\n",
    "print(df_test.dtypes)\n",
    "print(df_test.head())"
   ]
  },
  {
   "cell_type": "code",
   "execution_count": 3,
   "metadata": {},
   "outputs": [
    {
     "data": {
      "text/plain": [
       "[((u'person', 16), 199),\n",
       " ((u'cat', 8), 179),\n",
       " ((u'dog', 6), 154),\n",
       " ((u'aeroplane', 3), 84),\n",
       " ((u'train', 7), 79),\n",
       " ((u'bird', 9), 78),\n",
       " ((u'car', 5), 43),\n",
       " ((u'bicycle', 11), 37),\n",
       " ((u'motorbike', 12), 29),\n",
       " ((u'horse', 13), 26),\n",
       " ((u'bottle', 1), 26),\n",
       " ((u'cow', 10), 23),\n",
       " ((u'tvmonitor', 4), 22),\n",
       " ((u'boat', 0), 20),\n",
       " ((u'pottedplant', 2), 20),\n",
       " ((u'chair', 19), 20),\n",
       " ((u'sheep', 17), 18),\n",
       " ((u'sofa', 14), 17),\n",
       " ((u'bus', 18), 16),\n",
       " ((u'diningtable', 15), 6)]"
      ]
     },
     "execution_count": 3,
     "output_type": "execute_result",
     "metadata": {}
    }
   ],
   "source": [
    "from collections import Counter\n",
    "obj_class = zip(df_test['obj_class_name'], df_test['obj_class_index'])\n",
    "c = Counter()\n",
    "c.update(obj_class)\n",
    "c.most_common()"
   ]
  },
  {
   "cell_type": "code",
   "execution_count": null,
   "metadata": {},
   "outputs": [],
   "source": [
    "df_test_path = list(df_test['path'])\n",
    "predict_all = list()\n",
    "n = len(df_test_path)\n",
    "for i in range(0, n):\n",
    "    img = load_image(join(caffe_dir, 'pascal12', df_test_path[i]))\n",
    "    predict_all.append(net.predict([img])[0])\n",
    "    progress = int(float(i) / n * 1000) / 10.0\n",
    "    print('{} {}%'.format(df_test_path[i], progress), end='\\r')\n",
    "predict_all = np.array(predict_all)"
   ]
  },
  {
   "cell_type": "code",
   "execution_count": null,
   "metadata": {},
   "outputs": [],
   "source": [
    "with open('baseline.pickle', mode='wb') as h:\n",
    "    pickle.dump(predict_all, h, protocol=2)"
   ]
  },
  {
   "cell_type": "code",
   "execution_count": 4,
   "metadata": {},
   "outputs": [
    {
     "name": "stdout",
     "output_type": "stream",
     "text": [
      "accuracy=0.821167883212\n",
      "[[ 16   0   0   1   0   1   0   0   0   0   0   0   0   0   1   0   0   0    1   0]\n",
      " [  1  15   0   0   0   0   1   0   1   1   0   0   1   1   1   1   2   0    0   1]\n",
      " [  0   0  16   0   0   0   0   0   3   0   0   0   0   0   0   0   0   0    0   1]\n",
      " [  2   0   0  80   0   0   0   0   0   0   0   0   1   0   1   0   0   0    0   0]\n",
      " [  0   0   0   0  16   0   0   0   0   0   0   0   1   1   0   0   3   0    0   1]\n",
      " [  0   0   0   0   0  34   0   1   1   0   0   0   4   0   0   0   1   0    2   0]\n",
      " [  0   0   0   0   0   0 111   0  26   1   5   0   2   7   1   0   0   1    0   0]\n",
      " [  0   0   0   0   0   0   0  74   1   0   0   0   0   0   0   0   2   0    2   0]\n",
      " [  0   1   0   1   0   1  10   2 159   0   0   0   1   0   0   1   3   0    0   0]\n",
      " [  0   0   1   1   0   0   4   0   3  63   0   1   0   1   0   0   3   0    0   1]\n",
      " [  0   0   0   0   0   0   4   0   1   0  10   0   0   4   0   0   2   2    0   0]\n",
      " [  0   1   0   0   0   0   0   0   0   0   0  33   3   0   0   0   0   0    0   0]\n",
      " [  0   0   0   0   0   0   0   0   0   0   0   2  25   0   0   0   2   0    0   0]\n",
      " [  0   0   0   1   0   0   2   0   0   0   4   0   0  14   0   0   3   2    0   0]\n",
      " [  0   0   0   0   0   0   0   0   1   0   0   0   0   0  10   0   2   0    0   4]\n",
      " [  0   0   0   0   0   0   0   0   2   0   0   0   0   0   1   2   0   0    0   1]\n",
      " [  1   0   1   1   0   0   2   0   1   1   1   0   1   1   0   0 189   0    0   0]\n",
      " [  0   0   0   0   0   0   0   3   3   2   1   0   0   0   0   0   0   9    0   0]\n",
      " [  0   0   0   0   0   0   0   2   0   0   0   0   0   0   0   0   0   0   14   0]\n",
      " [  0   0   0   1   1   0   0   1   1   1   0   1   0   0   3   0   1   0    0  10]]\n"
     ]
    }
   ],
   "source": [
    "with open('baseline.pickle', mode='rb') as h:\n",
    "    predict_all = pickle.load(h)\n",
    "truth_y = list(df_test['obj_class_index'])\n",
    "predict_y = np.array(map(lambda x: x.argmax(), predict_all))\n",
    "print('accuracy=' + str(accuracy_score(truth_y, predict_y)))\n",
    "cm = confusion_matrix(truth_y, predict_y)\n",
    "print(np.array_str(cm).replace(']\\n [', '<>').replace('\\n', '').replace('<>', ']\\n ['))"
   ]
  },
  {
   "cell_type": "code",
   "execution_count": 5,
   "metadata": {},
   "outputs": [
    {
     "data": {
      "text/plain": [
       "<matplotlib.image.AxesImage at 0x7f7532ea9890>"
      ]
     },
     "execution_count": 5,
     "output_type": "execute_result",
     "metadata": {}
    },
    {
     "data": {
      "image/png": "[encoded data removed]"
     },
     "output_type": "display_data",
     "metadata": {}
    }
   ],
   "source": [
    "import matplotlib.pyplot as plt\n",
    "%matplotlib inline\n",
    "row_max = np.tile(cm.max(axis=1), (20, 1)).T\n",
    "cm_normalized = np.true_divide(cm, row_max)\n",
    "fig = plt.figure(figsize=(10, 10))\n",
    "ax = fig.add_subplot(111)\n",
    "ax.matshow(cm_normalized)"
   ]
  },
  {
   "cell_type": "code",
   "execution_count": null,
   "metadata": {},
   "outputs": [],
   "source": [
    ""
   ]
  }
 ],
 "metadata": {
  "kernelspec": {
   "display_name": "Python 2",
   "language": "python",
   "name": "python2"
  },
  "language_info": {
   "codemirror_mode": {
    "name": "ipython",
    "version": 2.0
   },
   "file_extension": ".py",
   "mimetype": "text/x-python",
   "name": "python",
   "nbconvert_exporter": "python",
   "pygments_lexer": "ipython2",
   "version": "2.7.6"
  }
 },
 "nbformat": 4,
 "nbformat_minor": 0
}