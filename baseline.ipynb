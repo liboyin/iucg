{
 "cells": [
  {
   "cell_type": "code",
   "execution_count": null,
   "metadata": {
    "collapsed": true
   },
   "outputs": [],
   "source": [
    "import numpy as np\n",
    "from matplotlib import pyplot as plt\n",
    "np.set_printoptions(threshold=np.nan, linewidth=np.nan)\n",
    "%matplotlib inline"
   ]
  },
  {
   "cell_type": "code",
   "execution_count": null,
   "metadata": {
    "collapsed": false
   },
   "outputs": [],
   "source": [
    "import pickle\n",
    "with open('df.pickle', mode='rb') as h:\n",
    "    df = pickle.load(h)\n",
    "df_label = df[df['split'] == 'test']['label'].reset_index(drop=True)"
   ]
  },
  {
   "cell_type": "code",
   "execution_count": null,
   "metadata": {
    "collapsed": false
   },
   "outputs": [],
   "source": [
    "from os import listdir\n",
    "from os.path import join\n",
    "import re\n",
    "models = listdir('../caffemodels/')\n",
    "iters = [int(re.findall('\\d+', x)[0]) for x in models]\n",
    "iters, models = zip(*sorted(zip(iters, models), key=lambda x: x[0]))\n",
    "models = [join('../caffemodels/', x) for x in models]\n",
    "mean_pixel = np.load('../ilsvrc_2012_mean.npy').mean(axis=(1, 2))"
   ]
  },
  {
   "cell_type": "code",
   "execution_count": null,
   "metadata": {
    "collapsed": false
   },
   "outputs": [],
   "source": [
    "import h5py\n",
    "with h5py.File('../test.h5', mode='r') as h:\n",
    "    X = h['data'].value"
   ]
  },
  {
   "cell_type": "code",
   "execution_count": null,
   "metadata": {
    "collapsed": true
   },
   "outputs": [],
   "source": [
    "with open('hex.pickle', mode='rb') as h:\n",
    "    hex_data = pickle.load(h)\n",
    "name_id = hex_data['name_id']\n",
    "ihl = map(set, hex_data['id_hierarchical_labels'])  # ihl for id_hierarchical_labels\n",
    "ifh = map(lambda x: max(x, key=len), ihl)  # ifh for id_full_hierarchy"
   ]
  },
  {
   "cell_type": "code",
   "execution_count": null,
   "metadata": {
    "collapsed": false
   },
   "outputs": [],
   "source": [
    "import caffe\n",
    "caffe.set_mode_cpu()\n",
    "threahold = 0.01\n",
    "def test_model(caffemodel):\n",
    "    \"\"\"\n",
    "    Type 0: Is the full hierarchy\n",
    "    Type 1: Covers the full hierarchy\n",
    "    Type 2: Is any partial hierarchy\n",
    "    Type 3: Covers any partial hierarchy\n",
    "    Implication: 1->2, 1->3, 2->4, 3->4\n",
    "    \"\"\"\n",
    "    counter = np.array([0, 0, 0, 0], dtype=np.uint32)\n",
    "    net = caffe.Classifier(model_file='deploy.prototxt', pretrained_file=caffemodel,\n",
    "                           mean=mean_pixel, channel_swap=(2, 1, 0),\n",
    "                           raw_scale=1, image_dims=(227, 227))\n",
    "    for i in range(0, len(X)):\n",
    "        y = net.predict([X[i]], oversample=False)\n",
    "        y /= y.max()\n",
    "        y = y > threahold\n",
    "        y = np.nonzero(y)[1]  # np.array\n",
    "        lid = name_id[df_label[i]]  # lid for label_id\n",
    "#         print('y={}, hieharchy={}'.format(tuple(y), ihl[lid]))\n",
    "        if tuple(y) == ifh[lid]:\n",
    "            counter += 1\n",
    "#             print('type 0')\n",
    "        elif set(ifh[lid]) in set(y):\n",
    "            counter[[1, 3]] += 1\n",
    "#             print('type 1')\n",
    "        elif tuple(y) in ihl[lid]:\n",
    "            counter[[2, 3]] += 1\n",
    "#             print('type 2')\n",
    "        elif any(set(x) in set(y) for x in ihl[lid]):\n",
    "            counter[3] += 1\n",
    "#             print('type 3')\n",
    "    return counter"
   ]
  },
  {
   "cell_type": "code",
   "execution_count": null,
   "metadata": {
    "collapsed": false
   },
   "outputs": [],
   "source": [
    "accuracy = zip(map(test_model, models))"
   ]
  },
  {
   "cell_type": "code",
   "execution_count": null,
   "metadata": {
    "collapsed": true
   },
   "outputs": [],
   "source": [
    "import pickle\n",
    "with open('baseline.pickle', mode='wb') as h:\n",
    "    pickle.dump(accuracy, h)"
   ]
  },
  {
   "cell_type": "code",
   "execution_count": null,
   "metadata": {
    "collapsed": true
   },
   "outputs": [],
   "source": [
    "fig = plt.figure(figsize=(8, 5))\n",
    "ax = fix.add_subplot(111)\n",
    "ax.plot(accuracy[0], iters)\n",
    "ax.grid()"
   ]
  },
  {
   "cell_type": "code",
   "execution_count": null,
   "metadata": {
    "collapsed": true
   },
   "outputs": [],
   "source": []
  }
 ],
 "metadata": {
  "kernelspec": {
   "display_name": "Python 2",
   "language": "python",
   "name": "python2"
  },
  "language_info": {
   "codemirror_mode": {
    "name": "ipython",
    "version": 2
   },
   "file_extension": ".py",
   "mimetype": "text/x-python",
   "name": "python",
   "nbconvert_exporter": "python",
   "pygments_lexer": "ipython2",
   "version": "2.7.6"
  }
 },
 "nbformat": 4,
 "nbformat_minor": 0
}
